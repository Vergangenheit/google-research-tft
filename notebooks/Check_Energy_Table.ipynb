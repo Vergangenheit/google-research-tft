{
 "cells": [
  {
   "cell_type": "code",
   "execution_count": null,
   "metadata": {},
   "outputs": [],
   "source": [
    "from sqlalchemy.engine import Engine, Connection\n",
    "from sqlalchemy import create_engine\n",
    "from os import getenv\n",
    "from typing import List, Dict, Optional\n",
    "import pandas as pd\n",
    "from pandas import DataFrame, Series, Timestamp, DatetimeIndex\n",
    "import matplotlib.pyplot as plt\n",
    "from datetime import datetime\n",
    "import datetime as dt\n",
    "import numpy as np\n",
    "from numpy import ndarray\n",
    "import pytz"
   ]
  },
  {
   "cell_type": "code",
   "execution_count": null,
   "metadata": {},
   "outputs": [],
   "source": [
    "import sys\n",
    "sys.path.insert(0, '..')"
   ]
  },
  {
   "cell_type": "code",
   "execution_count": null,
   "metadata": {},
   "outputs": [],
   "source": [
    "from etl.ETL import db_connection, group_hourly"
   ]
  },
  {
   "cell_type": "code",
   "execution_count": null,
   "metadata": {},
   "outputs": [],
   "source": [
    "startDate: str = (datetime.now(pytz.timezone('UTC')) - dt.timedelta(hours=167))\n",
    "endDate: str = datetime.now(pytz.timezone('UTC'))\n",
    "startDate, endDate "
   ]
  },
  {
   "cell_type": "markdown",
   "metadata": {},
   "source": [
    "# WHAT WE HAVE TO QUERY"
   ]
  },
  {
   "cell_type": "markdown",
   "metadata": {},
   "source": [
    "let's start by define date intervals"
   ]
  },
  {
   "cell_type": "code",
   "execution_count": null,
   "metadata": {},
   "outputs": [],
   "source": [
    "targetDate: datetime = endDate + dt.timedelta(hours=12)\n",
    "targetDates: List[datetime] = [endDate + dt.timedelta(hours=i) for i in range(1,13)]"
   ]
  },
  {
   "cell_type": "code",
   "execution_count": null,
   "metadata": {},
   "outputs": [],
   "source": [
    "targetDate: datetime = endDate + dt.timedelta(hours=12)\n",
    "targetDates: List[datetime] = [endDate + dt.timedelta(hours=i) for i in range(1,13)]"
   ]
  },
  {
   "cell_type": "code",
   "execution_count": null,
   "metadata": {},
   "outputs": [],
   "source": [
    "start: str = startDate.strftime(\"%Y-%m-%d %H:00:00\")\n",
    "end: str = endDate.strftime(\"%Y-%m-%d %H:00:00\")\n",
    "targets: List[str] = [date.strftime(\"%Y-%m-%d %H:00:00\") for date in targetDates]"
   ]
  },
  {
   "cell_type": "code",
   "execution_count": null,
   "metadata": {},
   "outputs": [],
   "source": [
    "start, end"
   ]
  },
  {
   "cell_type": "code",
   "execution_count": null,
   "metadata": {},
   "outputs": [],
   "source": [
    "targets"
   ]
  },
  {
   "cell_type": "markdown",
   "metadata": {},
   "source": [
    "EXTRACT TIMESTAMPS BETWEEN start and end"
   ]
  },
  {
   "cell_type": "code",
   "execution_count": null,
   "metadata": {},
   "outputs": [],
   "source": [
    "date_index: DatetimeIndex = pd.date_range(start=start, end=end,\n",
    "                                                  freq=pd.offsets.Hour(1))"
   ]
  },
  {
   "cell_type": "code",
   "execution_count": null,
   "metadata": {},
   "outputs": [],
   "source": [
    "date_index"
   ]
  },
  {
   "cell_type": "markdown",
   "metadata": {},
   "source": [
    "# QUERY TARGETS"
   ]
  },
  {
   "cell_type": "markdown",
   "metadata": {},
   "source": [
    "where are they?\n",
    "\n",
    "table: \"sorgenia_energy\""
   ]
  },
  {
   "cell_type": "code",
   "execution_count": null,
   "metadata": {},
   "outputs": [],
   "source": [
    "farm_list: List = ['UP_PRCLCDPLRM_1',\n",
    "'UP_PRCLCDMZRD_1',\n",
    "'UP_PRCLCDPRZZ_1',\n",
    "'UP_PRCLCMINEO_1',\n",
    "'UP_PEPIZZA_1',\n",
    "'UP_MPNTLCSMBC_1',\n",
    "'UP_MPNTLCDMRN_1']"
   ]
  },
  {
   "cell_type": "code",
   "execution_count": null,
   "metadata": {},
   "outputs": [],
   "source": [
    "query_tar: str = \"SELECT * FROM sorgenia_energy WHERE start_date_utc >= '{}' and end_date_utc <= '{}'\"\n",
    "past_targets: DataFrame = pd.read_sql_query(query_tar.format(start, end), con=db_connection())\n",
    "past_targets: DataFrame = group_hourly(past_targets)\n",
    "past_targets: DataFrame = past_targets[past_targets['plant_name_up'].isin(farm_list)]"
   ]
  },
  {
   "cell_type": "code",
   "execution_count": null,
   "metadata": {},
   "outputs": [],
   "source": [
    "len(past_targets.time.unique())"
   ]
  },
  {
   "cell_type": "markdown",
   "metadata": {},
   "source": [
    "# A FIRST HIGH-LEVEL CHECK COULD BE THE LENGTH (if equal or not to 168)"
   ]
  },
  {
   "cell_type": "code",
   "execution_count": null,
   "metadata": {},
   "outputs": [],
   "source": [
    "if len(past_targets.time.unique()) != 168:\n",
    "    print('Cannot generate predictions')\n",
    "else:\n",
    "    print('Go ahead with the script')"
   ]
  },
  {
   "cell_type": "code",
   "execution_count": null,
   "metadata": {},
   "outputs": [],
   "source": []
  }
 ],
 "metadata": {
  "kernelspec": {
   "display_name": "tft",
   "language": "python",
   "name": "tft"
  },
  "language_info": {
   "codemirror_mode": {
    "name": "ipython",
    "version": 3
   },
   "file_extension": ".py",
   "mimetype": "text/x-python",
   "name": "python",
   "nbconvert_exporter": "python",
   "pygments_lexer": "ipython3",
   "version": "3.7.9"
  }
 },
 "nbformat": 4,
 "nbformat_minor": 4
}
