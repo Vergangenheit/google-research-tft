{
 "cells": [
  {
   "cell_type": "code",
   "execution_count": 3,
   "metadata": {},
   "outputs": [],
   "source": [
    "import sys\n",
    "sys.path.insert(0, '..')"
   ]
  },
  {
   "cell_type": "code",
   "execution_count": 4,
   "metadata": {},
   "outputs": [],
   "source": [
    "from data_formatters.base import GenericDataFormatter, InputTypes, DataTypes\n",
    "from data_formatters.sorgenia_wind import SorgeniaFormatter\n",
    "from expt_settings.configs import ExperimentConfig\n",
    "from libs.hyperparam_opt import HyperparamOptManager\n",
    "from libs.tft_model import TemporalFusionTransformer\n",
    "import libs.utils as utils\n",
    "import os\n",
    "import pandas as pd\n",
    "from pandas import DataFrame, Series, Timestamp, Index\n",
    "from tqdm import tqdm"
   ]
  },
  {
   "cell_type": "code",
   "execution_count": 5,
   "metadata": {},
   "outputs": [],
   "source": [
    "import numpy as np\n",
    "import tensorflow as tf\n",
    "import tensorflow.compat.v1 as tf1\n",
    "from tensorflow.compat.v1 import Session, ConfigProto\n",
    "from tensorflow.python.eager.context import PhysicalDevice\n",
    "from typing import Dict, List, Union, Generator\n",
    "from numpy import load"
   ]
  },
  {
   "cell_type": "markdown",
   "metadata": {},
   "source": [
    "IMPORT FUNCTIONS TO TRANSFORM DF AND CALCULATE MAPE"
   ]
  },
  {
   "cell_type": "code",
   "execution_count": 6,
   "metadata": {},
   "outputs": [],
   "source": [
    "from inference import mape\n",
    "from inference import utils as infutils"
   ]
  },
  {
   "cell_type": "code",
   "execution_count": 7,
   "metadata": {},
   "outputs": [
    {
     "name": "stdout",
     "output_type": "stream",
     "text": [
      "Default GPU Device:/device:GPU:0\n"
     ]
    }
   ],
   "source": [
    "if tf.test.gpu_device_name(): \n",
    "    print('Default GPU Device:{}'.format(tf.test.gpu_device_name()))\n",
    "else:\n",
    "    print(\"Please install GPU version of TF\")"
   ]
  },
  {
   "cell_type": "code",
   "execution_count": 8,
   "metadata": {},
   "outputs": [],
   "source": [
    "gpu: List[PhysicalDevice] = tf.config.experimental.list_physical_devices('GPU')\n",
    "tf.config.experimental.set_memory_growth(gpu[0], True)"
   ]
  },
  {
   "cell_type": "code",
   "execution_count": 9,
   "metadata": {},
   "outputs": [
    {
     "name": "stdout",
     "output_type": "stream",
     "text": [
      "Selecting GPU ID=0\n"
     ]
    }
   ],
   "source": [
    "# Tensorflow setup\n",
    "default_keras_session: Session = tf1.keras.backend.get_session()\n",
    "tf_config: ConfigProto = utils.get_default_tensorflow_config(tf_device=\"gpu\", gpu_id=0)"
   ]
  },
  {
   "cell_type": "code",
   "execution_count": 10,
   "metadata": {},
   "outputs": [],
   "source": [
    "file_path: str = r'C:\\Users\\Lorenzo\\PycharmProjects\\TFT\\outputs\\data\\sorgenia_wind\\data\\sorgenia_wind\\data\\sorgenia_final.csv'"
   ]
  },
  {
   "cell_type": "code",
   "execution_count": 11,
   "metadata": {},
   "outputs": [],
   "source": [
    "# extract data into DataFrame\n",
    "raw_data: DataFrame = pd.read_csv(file_path)\n",
    "raw_data['time'] = raw_data['time'].astype('datetime64[s]') "
   ]
  },
  {
   "cell_type": "code",
   "execution_count": 12,
   "metadata": {},
   "outputs": [
    {
     "data": {
      "text/html": [
       "<div>\n",
       "<style scoped>\n",
       "    .dataframe tbody tr th:only-of-type {\n",
       "        vertical-align: middle;\n",
       "    }\n",
       "\n",
       "    .dataframe tbody tr th {\n",
       "        vertical-align: top;\n",
       "    }\n",
       "\n",
       "    .dataframe thead th {\n",
       "        text-align: right;\n",
       "    }\n",
       "</style>\n",
       "<table border=\"1\" class=\"dataframe\">\n",
       "  <thead>\n",
       "    <tr style=\"text-align: right;\">\n",
       "      <th></th>\n",
       "      <th>plant_name_up</th>\n",
       "      <th>time</th>\n",
       "      <th>kwh</th>\n",
       "      <th>dew_point_2m_C</th>\n",
       "      <th>temperature_2m_C</th>\n",
       "      <th>msl_pressure_hPa</th>\n",
       "      <th>sfc_pressure_hPa</th>\n",
       "      <th>precipitation_1h_mm</th>\n",
       "      <th>wind_speed_mean_10m_1h_ms</th>\n",
       "      <th>wind_speed_mean_100m_1h_ms</th>\n",
       "      <th>...</th>\n",
       "      <th>days_from_start</th>\n",
       "      <th>id</th>\n",
       "      <th>hour</th>\n",
       "      <th>day</th>\n",
       "      <th>day_of_week</th>\n",
       "      <th>month</th>\n",
       "      <th>categorical_id</th>\n",
       "      <th>hours_from_start</th>\n",
       "      <th>categorical_day_of_week</th>\n",
       "      <th>categorical_hour</th>\n",
       "    </tr>\n",
       "  </thead>\n",
       "  <tbody>\n",
       "    <tr>\n",
       "      <th>0</th>\n",
       "      <td>UP_MPNTLCDMRN_1</td>\n",
       "      <td>2019-01-01 00:00:00</td>\n",
       "      <td>3976.3125</td>\n",
       "      <td>2.8</td>\n",
       "      <td>3.4</td>\n",
       "      <td>1022.8</td>\n",
       "      <td>958.1</td>\n",
       "      <td>0.89</td>\n",
       "      <td>2.8</td>\n",
       "      <td>5.3</td>\n",
       "      <td>...</td>\n",
       "      <td>0</td>\n",
       "      <td>UP_MPNTLCDMRN_1</td>\n",
       "      <td>0</td>\n",
       "      <td>1</td>\n",
       "      <td>1</td>\n",
       "      <td>1</td>\n",
       "      <td>UP_MPNTLCDMRN_1</td>\n",
       "      <td>0.0</td>\n",
       "      <td>1</td>\n",
       "      <td>0</td>\n",
       "    </tr>\n",
       "    <tr>\n",
       "      <th>1</th>\n",
       "      <td>UP_MPNTLCDMRN_1</td>\n",
       "      <td>2019-01-01 01:00:00</td>\n",
       "      <td>3576.1875</td>\n",
       "      <td>0.1</td>\n",
       "      <td>4.6</td>\n",
       "      <td>1022.4</td>\n",
       "      <td>958.0</td>\n",
       "      <td>0.30</td>\n",
       "      <td>4.0</td>\n",
       "      <td>7.3</td>\n",
       "      <td>...</td>\n",
       "      <td>0</td>\n",
       "      <td>UP_MPNTLCDMRN_1</td>\n",
       "      <td>1</td>\n",
       "      <td>1</td>\n",
       "      <td>1</td>\n",
       "      <td>1</td>\n",
       "      <td>UP_MPNTLCDMRN_1</td>\n",
       "      <td>1.0</td>\n",
       "      <td>1</td>\n",
       "      <td>1</td>\n",
       "    </tr>\n",
       "    <tr>\n",
       "      <th>2</th>\n",
       "      <td>UP_MPNTLCDMRN_1</td>\n",
       "      <td>2019-01-01 02:00:00</td>\n",
       "      <td>3169.8750</td>\n",
       "      <td>-1.0</td>\n",
       "      <td>4.5</td>\n",
       "      <td>1021.8</td>\n",
       "      <td>957.6</td>\n",
       "      <td>0.07</td>\n",
       "      <td>4.7</td>\n",
       "      <td>8.6</td>\n",
       "      <td>...</td>\n",
       "      <td>0</td>\n",
       "      <td>UP_MPNTLCDMRN_1</td>\n",
       "      <td>2</td>\n",
       "      <td>1</td>\n",
       "      <td>1</td>\n",
       "      <td>1</td>\n",
       "      <td>UP_MPNTLCDMRN_1</td>\n",
       "      <td>2.0</td>\n",
       "      <td>1</td>\n",
       "      <td>2</td>\n",
       "    </tr>\n",
       "    <tr>\n",
       "      <th>3</th>\n",
       "      <td>UP_MPNTLCDMRN_1</td>\n",
       "      <td>2019-01-01 03:00:00</td>\n",
       "      <td>4007.6250</td>\n",
       "      <td>-1.0</td>\n",
       "      <td>4.8</td>\n",
       "      <td>1021.4</td>\n",
       "      <td>957.2</td>\n",
       "      <td>0.09</td>\n",
       "      <td>4.8</td>\n",
       "      <td>9.0</td>\n",
       "      <td>...</td>\n",
       "      <td>0</td>\n",
       "      <td>UP_MPNTLCDMRN_1</td>\n",
       "      <td>3</td>\n",
       "      <td>1</td>\n",
       "      <td>1</td>\n",
       "      <td>1</td>\n",
       "      <td>UP_MPNTLCDMRN_1</td>\n",
       "      <td>3.0</td>\n",
       "      <td>1</td>\n",
       "      <td>3</td>\n",
       "    </tr>\n",
       "    <tr>\n",
       "      <th>4</th>\n",
       "      <td>UP_MPNTLCDMRN_1</td>\n",
       "      <td>2019-01-01 04:00:00</td>\n",
       "      <td>4361.8125</td>\n",
       "      <td>0.6</td>\n",
       "      <td>4.4</td>\n",
       "      <td>1021.2</td>\n",
       "      <td>956.9</td>\n",
       "      <td>0.14</td>\n",
       "      <td>4.7</td>\n",
       "      <td>8.8</td>\n",
       "      <td>...</td>\n",
       "      <td>0</td>\n",
       "      <td>UP_MPNTLCDMRN_1</td>\n",
       "      <td>4</td>\n",
       "      <td>1</td>\n",
       "      <td>1</td>\n",
       "      <td>1</td>\n",
       "      <td>UP_MPNTLCDMRN_1</td>\n",
       "      <td>4.0</td>\n",
       "      <td>1</td>\n",
       "      <td>4</td>\n",
       "    </tr>\n",
       "  </tbody>\n",
       "</table>\n",
       "<p>5 rows × 31 columns</p>\n",
       "</div>"
      ],
      "text/plain": [
       "     plant_name_up                time        kwh  dew_point_2m_C  \\\n",
       "0  UP_MPNTLCDMRN_1 2019-01-01 00:00:00  3976.3125             2.8   \n",
       "1  UP_MPNTLCDMRN_1 2019-01-01 01:00:00  3576.1875             0.1   \n",
       "2  UP_MPNTLCDMRN_1 2019-01-01 02:00:00  3169.8750            -1.0   \n",
       "3  UP_MPNTLCDMRN_1 2019-01-01 03:00:00  4007.6250            -1.0   \n",
       "4  UP_MPNTLCDMRN_1 2019-01-01 04:00:00  4361.8125             0.6   \n",
       "\n",
       "   temperature_2m_C  msl_pressure_hPa  sfc_pressure_hPa  precipitation_1h_mm  \\\n",
       "0               3.4            1022.8             958.1                 0.89   \n",
       "1               4.6            1022.4             958.0                 0.30   \n",
       "2               4.5            1021.8             957.6                 0.07   \n",
       "3               4.8            1021.4             957.2                 0.09   \n",
       "4               4.4            1021.2             956.9                 0.14   \n",
       "\n",
       "   wind_speed_mean_10m_1h_ms  wind_speed_mean_100m_1h_ms  ...  \\\n",
       "0                        2.8                         5.3  ...   \n",
       "1                        4.0                         7.3  ...   \n",
       "2                        4.7                         8.6  ...   \n",
       "3                        4.8                         9.0  ...   \n",
       "4                        4.7                         8.8  ...   \n",
       "\n",
       "   days_from_start               id  hour  day  day_of_week  month  \\\n",
       "0                0  UP_MPNTLCDMRN_1     0    1            1      1   \n",
       "1                0  UP_MPNTLCDMRN_1     1    1            1      1   \n",
       "2                0  UP_MPNTLCDMRN_1     2    1            1      1   \n",
       "3                0  UP_MPNTLCDMRN_1     3    1            1      1   \n",
       "4                0  UP_MPNTLCDMRN_1     4    1            1      1   \n",
       "\n",
       "    categorical_id  hours_from_start  categorical_day_of_week  \\\n",
       "0  UP_MPNTLCDMRN_1               0.0                        1   \n",
       "1  UP_MPNTLCDMRN_1               1.0                        1   \n",
       "2  UP_MPNTLCDMRN_1               2.0                        1   \n",
       "3  UP_MPNTLCDMRN_1               3.0                        1   \n",
       "4  UP_MPNTLCDMRN_1               4.0                        1   \n",
       "\n",
       "   categorical_hour  \n",
       "0                 0  \n",
       "1                 1  \n",
       "2                 2  \n",
       "3                 3  \n",
       "4                 4  \n",
       "\n",
       "[5 rows x 31 columns]"
      ]
     },
     "execution_count": 12,
     "metadata": {},
     "output_type": "execute_result"
    }
   ],
   "source": [
    "raw_data.head()"
   ]
  },
  {
   "cell_type": "code",
   "execution_count": 13,
   "metadata": {},
   "outputs": [],
   "source": [
    "config = ExperimentConfig('sorgenia_wind', r'C:\\Users\\Lorenzo\\PycharmProjects\\TFT\\outputs')"
   ]
  },
  {
   "cell_type": "markdown",
   "metadata": {},
   "source": [
    "# START WITH MODEL1"
   ]
  },
  {
   "cell_type": "markdown",
   "metadata": {},
   "source": [
    "Wind Forecasts as known input"
   ]
  },
  {
   "cell_type": "code",
   "execution_count": 14,
   "metadata": {},
   "outputs": [],
   "source": [
    "formatter: SorgeniaFormatter = config.make_data_formatter()"
   ]
  },
  {
   "cell_type": "code",
   "execution_count": 15,
   "metadata": {},
   "outputs": [],
   "source": [
    "data_csv_path: str = config.data_csv_path"
   ]
  },
  {
   "cell_type": "markdown",
   "metadata": {},
   "source": [
    "# SPLIT DATA"
   ]
  },
  {
   "cell_type": "code",
   "execution_count": 16,
   "metadata": {},
   "outputs": [
    {
     "name": "stdout",
     "output_type": "stream",
     "text": [
      "Setting scalers with training data...\n"
     ]
    }
   ],
   "source": [
    "train, valid, test = formatter.split_data(raw_data)"
   ]
  },
  {
   "cell_type": "code",
   "execution_count": 17,
   "metadata": {},
   "outputs": [],
   "source": [
    "predictions_path: str = r'C:\\Users\\Lorenzo\\savedmodels_sorgenia_wind_known'"
   ]
  },
  {
   "cell_type": "code",
   "execution_count": 18,
   "metadata": {},
   "outputs": [],
   "source": [
    "p50_forecast: DataFrame = pd.read_csv(os.path.join(predictions_path, \"p50.csv\"))\n",
    "p90_forecast: DataFrame = pd.read_csv(os.path.join(predictions_path, \"p90.csv\"))\n",
    "targets: DataFrame = pd.read_csv(os.path.join(predictions_path, \"targets.csv\"))\n",
    "targets['forecast_time'] = targets['forecast_time'].astype('datetime64[s]')\n",
    "p50_forecast['forecast_time'] = p50_forecast['forecast_time'].astype('datetime64[s]')\n",
    "p90_forecast['forecast_time'] = p90_forecast['forecast_time'].astype('datetime64[s]')"
   ]
  },
  {
   "cell_type": "code",
   "execution_count": 19,
   "metadata": {},
   "outputs": [
    {
     "data": {
      "text/html": [
       "<div>\n",
       "<style scoped>\n",
       "    .dataframe tbody tr th:only-of-type {\n",
       "        vertical-align: middle;\n",
       "    }\n",
       "\n",
       "    .dataframe tbody tr th {\n",
       "        vertical-align: top;\n",
       "    }\n",
       "\n",
       "    .dataframe thead th {\n",
       "        text-align: right;\n",
       "    }\n",
       "</style>\n",
       "<table border=\"1\" class=\"dataframe\">\n",
       "  <thead>\n",
       "    <tr style=\"text-align: right;\">\n",
       "      <th></th>\n",
       "      <th>forecast_time</th>\n",
       "      <th>identifier</th>\n",
       "      <th>t+0</th>\n",
       "      <th>t+1</th>\n",
       "      <th>t+2</th>\n",
       "      <th>t+3</th>\n",
       "      <th>t+4</th>\n",
       "      <th>t+5</th>\n",
       "      <th>t+6</th>\n",
       "      <th>t+7</th>\n",
       "      <th>t+8</th>\n",
       "      <th>t+9</th>\n",
       "      <th>t+10</th>\n",
       "      <th>t+11</th>\n",
       "    </tr>\n",
       "  </thead>\n",
       "  <tbody>\n",
       "    <tr>\n",
       "      <th>0</th>\n",
       "      <td>2020-08-13 22:00:00</td>\n",
       "      <td>UP_MPNTLCDMRN_1</td>\n",
       "      <td>94.7528</td>\n",
       "      <td>236.21342</td>\n",
       "      <td>325.15270</td>\n",
       "      <td>307.60492</td>\n",
       "      <td>294.89087</td>\n",
       "      <td>246.62157</td>\n",
       "      <td>163.40056</td>\n",
       "      <td>103.391716</td>\n",
       "      <td>114.31194</td>\n",
       "      <td>313.3440</td>\n",
       "      <td>732.8784</td>\n",
       "      <td>652.0716</td>\n",
       "    </tr>\n",
       "    <tr>\n",
       "      <th>1</th>\n",
       "      <td>2020-08-13 23:00:00</td>\n",
       "      <td>UP_MPNTLCDMRN_1</td>\n",
       "      <td>1657.0032</td>\n",
       "      <td>1147.29830</td>\n",
       "      <td>676.12320</td>\n",
       "      <td>469.01343</td>\n",
       "      <td>347.40050</td>\n",
       "      <td>235.92680</td>\n",
       "      <td>150.77953</td>\n",
       "      <td>158.330250</td>\n",
       "      <td>440.21902</td>\n",
       "      <td>761.2005</td>\n",
       "      <td>706.5071</td>\n",
       "      <td>1364.0544</td>\n",
       "    </tr>\n",
       "    <tr>\n",
       "      <th>2</th>\n",
       "      <td>2020-08-14 00:00:00</td>\n",
       "      <td>UP_MPNTLCDMRN_1</td>\n",
       "      <td>1914.3452</td>\n",
       "      <td>1136.45910</td>\n",
       "      <td>711.58710</td>\n",
       "      <td>487.57380</td>\n",
       "      <td>344.98242</td>\n",
       "      <td>206.81010</td>\n",
       "      <td>194.00963</td>\n",
       "      <td>509.816930</td>\n",
       "      <td>810.82104</td>\n",
       "      <td>658.3359</td>\n",
       "      <td>1373.9912</td>\n",
       "      <td>1643.2124</td>\n",
       "    </tr>\n",
       "    <tr>\n",
       "      <th>3</th>\n",
       "      <td>2020-08-14 01:00:00</td>\n",
       "      <td>UP_MPNTLCDMRN_1</td>\n",
       "      <td>1109.7296</td>\n",
       "      <td>834.60860</td>\n",
       "      <td>563.53094</td>\n",
       "      <td>363.60790</td>\n",
       "      <td>183.96867</td>\n",
       "      <td>153.01237</td>\n",
       "      <td>492.92365</td>\n",
       "      <td>823.356100</td>\n",
       "      <td>682.92035</td>\n",
       "      <td>1556.1431</td>\n",
       "      <td>1759.6161</td>\n",
       "      <td>1981.1287</td>\n",
       "    </tr>\n",
       "    <tr>\n",
       "      <th>4</th>\n",
       "      <td>2020-08-14 02:00:00</td>\n",
       "      <td>UP_MPNTLCDMRN_1</td>\n",
       "      <td>1327.7163</td>\n",
       "      <td>889.43480</td>\n",
       "      <td>561.01917</td>\n",
       "      <td>274.82147</td>\n",
       "      <td>215.57652</td>\n",
       "      <td>569.98700</td>\n",
       "      <td>866.99520</td>\n",
       "      <td>742.008240</td>\n",
       "      <td>1652.62950</td>\n",
       "      <td>1800.0970</td>\n",
       "      <td>2014.1538</td>\n",
       "      <td>2023.6296</td>\n",
       "    </tr>\n",
       "  </tbody>\n",
       "</table>\n",
       "</div>"
      ],
      "text/plain": [
       "        forecast_time       identifier        t+0         t+1        t+2  \\\n",
       "0 2020-08-13 22:00:00  UP_MPNTLCDMRN_1    94.7528   236.21342  325.15270   \n",
       "1 2020-08-13 23:00:00  UP_MPNTLCDMRN_1  1657.0032  1147.29830  676.12320   \n",
       "2 2020-08-14 00:00:00  UP_MPNTLCDMRN_1  1914.3452  1136.45910  711.58710   \n",
       "3 2020-08-14 01:00:00  UP_MPNTLCDMRN_1  1109.7296   834.60860  563.53094   \n",
       "4 2020-08-14 02:00:00  UP_MPNTLCDMRN_1  1327.7163   889.43480  561.01917   \n",
       "\n",
       "         t+3        t+4        t+5        t+6         t+7         t+8  \\\n",
       "0  307.60492  294.89087  246.62157  163.40056  103.391716   114.31194   \n",
       "1  469.01343  347.40050  235.92680  150.77953  158.330250   440.21902   \n",
       "2  487.57380  344.98242  206.81010  194.00963  509.816930   810.82104   \n",
       "3  363.60790  183.96867  153.01237  492.92365  823.356100   682.92035   \n",
       "4  274.82147  215.57652  569.98700  866.99520  742.008240  1652.62950   \n",
       "\n",
       "         t+9       t+10       t+11  \n",
       "0   313.3440   732.8784   652.0716  \n",
       "1   761.2005   706.5071  1364.0544  \n",
       "2   658.3359  1373.9912  1643.2124  \n",
       "3  1556.1431  1759.6161  1981.1287  \n",
       "4  1800.0970  2014.1538  2023.6296  "
      ]
     },
     "execution_count": 19,
     "metadata": {},
     "output_type": "execute_result"
    }
   ],
   "source": [
    "p50_forecast.head()"
   ]
  },
  {
   "cell_type": "code",
   "execution_count": null,
   "metadata": {},
   "outputs": [],
   "source": []
  },
  {
   "cell_type": "markdown",
   "metadata": {},
   "source": [
    "# OPEN PREDICTIONS AND TARGETS FILES"
   ]
  },
  {
   "cell_type": "code",
   "execution_count": 22,
   "metadata": {},
   "outputs": [],
   "source": [
    "def evaluate(predictions_path: str, model: str):\n",
    "    p50_forecast: DataFrame = pd.read_csv(os.path.join(predictions_path, \"p50.csv\"))\n",
    "    p90_forecast: DataFrame = pd.read_csv(os.path.join(predictions_path, \"p90.csv\"))\n",
    "    targets: DataFrame = pd.read_csv(os.path.join(predictions_path, \"targets.csv\"))\n",
    "    targets['forecast_time'] = targets['forecast_time'].astype('datetime64[s]')\n",
    "    p50_forecast['forecast_time'] = p50_forecast['forecast_time'].astype('datetime64[s]')\n",
    "    p90_forecast['forecast_time'] = p90_forecast['forecast_time'].astype('datetime64[s]')\n",
    "    # pivot targets\n",
    "    targets_piv: DataFrame = infutils.pivot(targets)\n",
    "    p50_piv: DataFrame = infutils.pivot(p50_forecast)\n",
    "    p90_piv: DataFrame = infutils.pivot(p90_forecast)\n",
    "    # check if df have same date range\n",
    "    assert np.array_equal(targets_piv['forecast_time'].values, p50_piv['forecast_time'].values)\n",
    "    assert np.array_equal(targets_piv['forecast_time'].values, p90_piv['forecast_time'].values)\n",
    "    # calculate rolling mape on p50\n",
    "    df_mape_50: DataFrame = mape.rolling_mape_multitarget(targets_piv, p50_piv, 700)\n",
    "    print(f\"{model} \", df_mape_50.iloc[:, 1:].mean().mean())"
   ]
  },
  {
   "cell_type": "code",
   "execution_count": 23,
   "metadata": {},
   "outputs": [],
   "source": [
    "wind_known_path: str = r'C:\\Users\\Lorenzo\\savedmodels_sorgenia_wind_meteomatics'"
   ]
  },
  {
   "cell_type": "code",
   "execution_count": 24,
   "metadata": {},
   "outputs": [
    {
     "name": "stderr",
     "output_type": "stream",
     "text": [
      "..\\inference\\utils.py:46: FutureWarning: The default value of regex will change from True to False in a future version.\n",
      "  df_piv2['level_1'] = df_piv2['level_1'].str.replace('t+', '')\n",
      "..\\inference\\utils.py:46: FutureWarning: The default value of regex will change from True to False in a future version.\n",
      "  df_piv2['level_1'] = df_piv2['level_1'].str.replace('t+', '')\n",
      "..\\inference\\utils.py:46: FutureWarning: The default value of regex will change from True to False in a future version.\n",
      "  df_piv2['level_1'] = df_piv2['level_1'].str.replace('t+', '')\n"
     ]
    },
    {
     "name": "stdout",
     "output_type": "stream",
     "text": [
      "meteomatics_forecasts_model  93.04081293191166\n"
     ]
    }
   ],
   "source": [
    "evaluate(wind_known_path, 'meteomatics_forecasts_model')"
   ]
  },
  {
   "cell_type": "code",
   "execution_count": null,
   "metadata": {},
   "outputs": [],
   "source": []
  }
 ],
 "metadata": {
  "kernelspec": {
   "display_name": "tft",
   "language": "python",
   "name": "tft"
  },
  "language_info": {
   "codemirror_mode": {
    "name": "ipython",
    "version": 3
   },
   "file_extension": ".py",
   "mimetype": "text/x-python",
   "name": "python",
   "nbconvert_exporter": "python",
   "pygments_lexer": "ipython3",
   "version": "3.7.9"
  }
 },
 "nbformat": 4,
 "nbformat_minor": 4
}
