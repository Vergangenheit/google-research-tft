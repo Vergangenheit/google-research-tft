{
 "cells": [
  {
   "cell_type": "code",
   "execution_count": 1,
   "metadata": {},
   "outputs": [],
   "source": [
    "import sys\n",
    "sys.path.insert(0, '..')"
   ]
  },
  {
   "cell_type": "code",
   "execution_count": 2,
   "metadata": {},
   "outputs": [],
   "source": [
    "from data_formatters.base import GenericDataFormatter, InputTypes, DataTypes\n",
    "from data_formatters.sorgenia_wind import SorgeniaFormatter\n",
    "from expt_settings.configs import ExperimentConfig\n",
    "from libs.hyperparam_opt import HyperparamOptManager\n",
    "from libs.tft_model import TemporalFusionTransformer\n",
    "import libs.utils as utils\n",
    "import os\n",
    "import pandas as pd\n",
    "from pandas import DataFrame, Series, Timestamp, Index\n",
    "from tqdm import tqdm"
   ]
  },
  {
   "cell_type": "code",
   "execution_count": 3,
   "metadata": {},
   "outputs": [],
   "source": [
    "import numpy as np\n",
    "import tensorflow as tf\n",
    "import tensorflow.compat.v1 as tf1\n",
    "from tensorflow.compat.v1 import Session, ConfigProto\n",
    "from tensorflow.python.eager.context import PhysicalDevice\n",
    "from typing import Dict, List, Union, Generator\n",
    "from numpy import load"
   ]
  },
  {
   "cell_type": "markdown",
   "metadata": {},
   "source": [
    "IMPORT FUNCTIONS TO TRANSFORM DF AND CALCULATE MAPE"
   ]
  },
  {
   "cell_type": "code",
   "execution_count": 19,
   "metadata": {},
   "outputs": [],
   "source": [
    "from inference import mape\n",
    "from inference import utils"
   ]
  },
  {
   "cell_type": "code",
   "execution_count": 4,
   "metadata": {},
   "outputs": [
    {
     "name": "stdout",
     "output_type": "stream",
     "text": [
      "Default GPU Device:/device:GPU:0\n"
     ]
    }
   ],
   "source": [
    "if tf.test.gpu_device_name(): \n",
    "    print('Default GPU Device:{}'.format(tf.test.gpu_device_name()))\n",
    "else:\n",
    "    print(\"Please install GPU version of TF\")"
   ]
  },
  {
   "cell_type": "code",
   "execution_count": 5,
   "metadata": {},
   "outputs": [],
   "source": [
    "gpu: List[PhysicalDevice] = tf.config.experimental.list_physical_devices('GPU')\n",
    "tf.config.experimental.set_memory_growth(gpu[0], True)"
   ]
  },
  {
   "cell_type": "code",
   "execution_count": 6,
   "metadata": {},
   "outputs": [
    {
     "name": "stdout",
     "output_type": "stream",
     "text": [
      "Selecting GPU ID=0\n"
     ]
    }
   ],
   "source": [
    "# Tensorflow setup\n",
    "default_keras_session: Session = tf1.keras.backend.get_session()\n",
    "tf_config: ConfigProto = utils.get_default_tensorflow_config(tf_device=\"gpu\", gpu_id=0)"
   ]
  },
  {
   "cell_type": "code",
   "execution_count": 7,
   "metadata": {},
   "outputs": [],
   "source": [
    "file_path: str = r'C:\\Users\\Lorenzo\\PycharmProjects\\TFT\\outputs\\data\\sorgenia_wind\\data\\sorgenia_wind\\data\\sorgenia_final.csv'"
   ]
  },
  {
   "cell_type": "code",
   "execution_count": 8,
   "metadata": {},
   "outputs": [],
   "source": [
    "# extract data into DataFrame\n",
    "raw_data: DataFrame = pd.read_csv(file_path)\n",
    "raw_data['time'] = raw_data['time'].astype('datetime64[s]') "
   ]
  },
  {
   "cell_type": "code",
   "execution_count": 9,
   "metadata": {},
   "outputs": [
    {
     "data": {
      "text/html": [
       "<div>\n",
       "<style scoped>\n",
       "    .dataframe tbody tr th:only-of-type {\n",
       "        vertical-align: middle;\n",
       "    }\n",
       "\n",
       "    .dataframe tbody tr th {\n",
       "        vertical-align: top;\n",
       "    }\n",
       "\n",
       "    .dataframe thead th {\n",
       "        text-align: right;\n",
       "    }\n",
       "</style>\n",
       "<table border=\"1\" class=\"dataframe\">\n",
       "  <thead>\n",
       "    <tr style=\"text-align: right;\">\n",
       "      <th></th>\n",
       "      <th>plant_name_up</th>\n",
       "      <th>time</th>\n",
       "      <th>kwh</th>\n",
       "      <th>dew_point_2m_C</th>\n",
       "      <th>temperature_2m_C</th>\n",
       "      <th>msl_pressure_hPa</th>\n",
       "      <th>sfc_pressure_hPa</th>\n",
       "      <th>precipitation_1h_mm</th>\n",
       "      <th>wind_speed_mean_10m_1h_ms</th>\n",
       "      <th>wind_speed_mean_100m_1h_ms</th>\n",
       "      <th>...</th>\n",
       "      <th>days_from_start</th>\n",
       "      <th>id</th>\n",
       "      <th>hour</th>\n",
       "      <th>day</th>\n",
       "      <th>day_of_week</th>\n",
       "      <th>month</th>\n",
       "      <th>categorical_id</th>\n",
       "      <th>hours_from_start</th>\n",
       "      <th>categorical_day_of_week</th>\n",
       "      <th>categorical_hour</th>\n",
       "    </tr>\n",
       "  </thead>\n",
       "  <tbody>\n",
       "    <tr>\n",
       "      <th>0</th>\n",
       "      <td>UP_MPNTLCDMRN_1</td>\n",
       "      <td>2019-01-01 00:00:00</td>\n",
       "      <td>3976.3125</td>\n",
       "      <td>2.8</td>\n",
       "      <td>3.4</td>\n",
       "      <td>1022.8</td>\n",
       "      <td>958.1</td>\n",
       "      <td>0.89</td>\n",
       "      <td>2.8</td>\n",
       "      <td>5.3</td>\n",
       "      <td>...</td>\n",
       "      <td>0</td>\n",
       "      <td>UP_MPNTLCDMRN_1</td>\n",
       "      <td>0</td>\n",
       "      <td>1</td>\n",
       "      <td>1</td>\n",
       "      <td>1</td>\n",
       "      <td>UP_MPNTLCDMRN_1</td>\n",
       "      <td>0.0</td>\n",
       "      <td>1</td>\n",
       "      <td>0</td>\n",
       "    </tr>\n",
       "    <tr>\n",
       "      <th>1</th>\n",
       "      <td>UP_MPNTLCDMRN_1</td>\n",
       "      <td>2019-01-01 01:00:00</td>\n",
       "      <td>3576.1875</td>\n",
       "      <td>0.1</td>\n",
       "      <td>4.6</td>\n",
       "      <td>1022.4</td>\n",
       "      <td>958.0</td>\n",
       "      <td>0.30</td>\n",
       "      <td>4.0</td>\n",
       "      <td>7.3</td>\n",
       "      <td>...</td>\n",
       "      <td>0</td>\n",
       "      <td>UP_MPNTLCDMRN_1</td>\n",
       "      <td>1</td>\n",
       "      <td>1</td>\n",
       "      <td>1</td>\n",
       "      <td>1</td>\n",
       "      <td>UP_MPNTLCDMRN_1</td>\n",
       "      <td>1.0</td>\n",
       "      <td>1</td>\n",
       "      <td>1</td>\n",
       "    </tr>\n",
       "    <tr>\n",
       "      <th>2</th>\n",
       "      <td>UP_MPNTLCDMRN_1</td>\n",
       "      <td>2019-01-01 02:00:00</td>\n",
       "      <td>3169.8750</td>\n",
       "      <td>-1.0</td>\n",
       "      <td>4.5</td>\n",
       "      <td>1021.8</td>\n",
       "      <td>957.6</td>\n",
       "      <td>0.07</td>\n",
       "      <td>4.7</td>\n",
       "      <td>8.6</td>\n",
       "      <td>...</td>\n",
       "      <td>0</td>\n",
       "      <td>UP_MPNTLCDMRN_1</td>\n",
       "      <td>2</td>\n",
       "      <td>1</td>\n",
       "      <td>1</td>\n",
       "      <td>1</td>\n",
       "      <td>UP_MPNTLCDMRN_1</td>\n",
       "      <td>2.0</td>\n",
       "      <td>1</td>\n",
       "      <td>2</td>\n",
       "    </tr>\n",
       "    <tr>\n",
       "      <th>3</th>\n",
       "      <td>UP_MPNTLCDMRN_1</td>\n",
       "      <td>2019-01-01 03:00:00</td>\n",
       "      <td>4007.6250</td>\n",
       "      <td>-1.0</td>\n",
       "      <td>4.8</td>\n",
       "      <td>1021.4</td>\n",
       "      <td>957.2</td>\n",
       "      <td>0.09</td>\n",
       "      <td>4.8</td>\n",
       "      <td>9.0</td>\n",
       "      <td>...</td>\n",
       "      <td>0</td>\n",
       "      <td>UP_MPNTLCDMRN_1</td>\n",
       "      <td>3</td>\n",
       "      <td>1</td>\n",
       "      <td>1</td>\n",
       "      <td>1</td>\n",
       "      <td>UP_MPNTLCDMRN_1</td>\n",
       "      <td>3.0</td>\n",
       "      <td>1</td>\n",
       "      <td>3</td>\n",
       "    </tr>\n",
       "    <tr>\n",
       "      <th>4</th>\n",
       "      <td>UP_MPNTLCDMRN_1</td>\n",
       "      <td>2019-01-01 04:00:00</td>\n",
       "      <td>4361.8125</td>\n",
       "      <td>0.6</td>\n",
       "      <td>4.4</td>\n",
       "      <td>1021.2</td>\n",
       "      <td>956.9</td>\n",
       "      <td>0.14</td>\n",
       "      <td>4.7</td>\n",
       "      <td>8.8</td>\n",
       "      <td>...</td>\n",
       "      <td>0</td>\n",
       "      <td>UP_MPNTLCDMRN_1</td>\n",
       "      <td>4</td>\n",
       "      <td>1</td>\n",
       "      <td>1</td>\n",
       "      <td>1</td>\n",
       "      <td>UP_MPNTLCDMRN_1</td>\n",
       "      <td>4.0</td>\n",
       "      <td>1</td>\n",
       "      <td>4</td>\n",
       "    </tr>\n",
       "  </tbody>\n",
       "</table>\n",
       "<p>5 rows × 31 columns</p>\n",
       "</div>"
      ],
      "text/plain": [
       "     plant_name_up                time        kwh  dew_point_2m_C  \\\n",
       "0  UP_MPNTLCDMRN_1 2019-01-01 00:00:00  3976.3125             2.8   \n",
       "1  UP_MPNTLCDMRN_1 2019-01-01 01:00:00  3576.1875             0.1   \n",
       "2  UP_MPNTLCDMRN_1 2019-01-01 02:00:00  3169.8750            -1.0   \n",
       "3  UP_MPNTLCDMRN_1 2019-01-01 03:00:00  4007.6250            -1.0   \n",
       "4  UP_MPNTLCDMRN_1 2019-01-01 04:00:00  4361.8125             0.6   \n",
       "\n",
       "   temperature_2m_C  msl_pressure_hPa  sfc_pressure_hPa  precipitation_1h_mm  \\\n",
       "0               3.4            1022.8             958.1                 0.89   \n",
       "1               4.6            1022.4             958.0                 0.30   \n",
       "2               4.5            1021.8             957.6                 0.07   \n",
       "3               4.8            1021.4             957.2                 0.09   \n",
       "4               4.4            1021.2             956.9                 0.14   \n",
       "\n",
       "   wind_speed_mean_10m_1h_ms  wind_speed_mean_100m_1h_ms  ...  \\\n",
       "0                        2.8                         5.3  ...   \n",
       "1                        4.0                         7.3  ...   \n",
       "2                        4.7                         8.6  ...   \n",
       "3                        4.8                         9.0  ...   \n",
       "4                        4.7                         8.8  ...   \n",
       "\n",
       "   days_from_start               id  hour  day  day_of_week  month  \\\n",
       "0                0  UP_MPNTLCDMRN_1     0    1            1      1   \n",
       "1                0  UP_MPNTLCDMRN_1     1    1            1      1   \n",
       "2                0  UP_MPNTLCDMRN_1     2    1            1      1   \n",
       "3                0  UP_MPNTLCDMRN_1     3    1            1      1   \n",
       "4                0  UP_MPNTLCDMRN_1     4    1            1      1   \n",
       "\n",
       "    categorical_id  hours_from_start  categorical_day_of_week  \\\n",
       "0  UP_MPNTLCDMRN_1               0.0                        1   \n",
       "1  UP_MPNTLCDMRN_1               1.0                        1   \n",
       "2  UP_MPNTLCDMRN_1               2.0                        1   \n",
       "3  UP_MPNTLCDMRN_1               3.0                        1   \n",
       "4  UP_MPNTLCDMRN_1               4.0                        1   \n",
       "\n",
       "   categorical_hour  \n",
       "0                 0  \n",
       "1                 1  \n",
       "2                 2  \n",
       "3                 3  \n",
       "4                 4  \n",
       "\n",
       "[5 rows x 31 columns]"
      ]
     },
     "execution_count": 9,
     "metadata": {},
     "output_type": "execute_result"
    }
   ],
   "source": [
    "raw_data.head()"
   ]
  },
  {
   "cell_type": "code",
   "execution_count": 10,
   "metadata": {},
   "outputs": [],
   "source": [
    "config = ExperimentConfig('sorgenia_wind', r'C:\\Users\\Lorenzo\\PycharmProjects\\TFT\\outputs')"
   ]
  },
  {
   "cell_type": "markdown",
   "metadata": {},
   "source": [
    "# START WITH MODEL1"
   ]
  },
  {
   "cell_type": "markdown",
   "metadata": {},
   "source": [
    "Wind Forecasts as known input"
   ]
  },
  {
   "cell_type": "code",
   "execution_count": 11,
   "metadata": {},
   "outputs": [],
   "source": [
    "formatter: SorgeniaFormatter = config.make_data_formatter()"
   ]
  },
  {
   "cell_type": "code",
   "execution_count": 12,
   "metadata": {},
   "outputs": [],
   "source": [
    "data_csv_path: str = config.data_csv_path"
   ]
  },
  {
   "cell_type": "markdown",
   "metadata": {},
   "source": [
    "# SPLIT DATA"
   ]
  },
  {
   "cell_type": "code",
   "execution_count": 13,
   "metadata": {},
   "outputs": [
    {
     "name": "stdout",
     "output_type": "stream",
     "text": [
      "Setting scalers with training data...\n"
     ]
    }
   ],
   "source": [
    "train, valid, test = formatter.split_data(raw_data)"
   ]
  },
  {
   "cell_type": "markdown",
   "metadata": {},
   "source": [
    "# OPEN PREDICTIONS AND TARGETS FILES"
   ]
  },
  {
   "cell_type": "code",
   "execution_count": 42,
   "metadata": {},
   "outputs": [],
   "source": [
    "def evaluate(predictions_path: str, model: str):\n",
    "    p50_forecast: DataFrame = pd.read_csv(os.path.join(predictions_path, \"p50.csv\"))\n",
    "    p90_forecast: DataFrame = pd.read_csv(os.path.join(predictions_path, \"p90.csv\"))\n",
    "    targets: DataFrame = pd.read_csv(os.path.join(predictions_path, \"targets.csv\"))\n",
    "    targets['forecast_time'] = targets['forecast_time'].astype('datetime64[s]')\n",
    "    p50_forecast['forecast_time'] = p50_forecast['forecast_time'].astype('datetime64[s]')\n",
    "    p90_forecast['forecast_time'] = p90_forecast['forecast_time'].astype('datetime64[s]')\n",
    "    # pivot targets\n",
    "    targets_piv: DataFrame = utils.pivot(targets)\n",
    "    p50_piv: DataFrame = utils.pivot(p50_forecast)\n",
    "    p90_piv: DataFrame = utils.pivot(p90_forecast)\n",
    "    # check if df have same date range\n",
    "    assert np.array_equal(targets_piv['forecast_time'].values, p50_piv['forecast_time'].values)\n",
    "    assert np.array_equal(targets_piv['forecast_time'].values, p90_piv['forecast_time'].values)\n",
    "    # calculate rolling mape on p50\n",
    "    df_mape_50: DataFrame = mape.rolling_mape_multitarget(targets_piv, p50_piv, 700)\n",
    "    print(f\"{model} \", df_mape_50.iloc[:, 1:].mean().mean())"
   ]
  },
  {
   "cell_type": "code",
   "execution_count": 43,
   "metadata": {},
   "outputs": [],
   "source": [
    "wind_known_path: str = r'C:\\Users\\Lorenzo\\savedmodels_sorgenia_wind_unknown'"
   ]
  },
  {
   "cell_type": "code",
   "execution_count": 44,
   "metadata": {},
   "outputs": [
    {
     "name": "stderr",
     "output_type": "stream",
     "text": [
      "..\\inference\\utils.py:46: FutureWarning: The default value of regex will change from True to False in a future version.\n",
      "  df_piv2['level_1'] = df_piv2['level_1'].str.replace('t+', '')\n",
      "..\\inference\\utils.py:46: FutureWarning: The default value of regex will change from True to False in a future version.\n",
      "  df_piv2['level_1'] = df_piv2['level_1'].str.replace('t+', '')\n",
      "..\\inference\\utils.py:46: FutureWarning: The default value of regex will change from True to False in a future version.\n",
      "  df_piv2['level_1'] = df_piv2['level_1'].str.replace('t+', '')\n"
     ]
    },
    {
     "name": "stdout",
     "output_type": "stream",
     "text": [
      "no_forecasts_model  64.73959397056852\n"
     ]
    }
   ],
   "source": [
    "evaluate(wind_known_path, 'no_forecasts_model')"
   ]
  },
  {
   "cell_type": "code",
   "execution_count": null,
   "metadata": {},
   "outputs": [],
   "source": []
  }
 ],
 "metadata": {
  "kernelspec": {
   "display_name": "tft",
   "language": "python",
   "name": "tft"
  },
  "language_info": {
   "codemirror_mode": {
    "name": "ipython",
    "version": 3
   },
   "file_extension": ".py",
   "mimetype": "text/x-python",
   "name": "python",
   "nbconvert_exporter": "python",
   "pygments_lexer": "ipython3",
   "version": "3.7.9"
  }
 },
 "nbformat": 4,
 "nbformat_minor": 4
}
