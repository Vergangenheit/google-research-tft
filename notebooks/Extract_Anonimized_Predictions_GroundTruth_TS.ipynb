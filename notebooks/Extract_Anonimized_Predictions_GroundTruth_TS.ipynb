{
 "cells": [
  {
   "cell_type": "code",
   "execution_count": null,
   "metadata": {},
   "outputs": [],
   "source": [
    "from sqlalchemy.engine import Engine, Connection\n",
    "from sqlalchemy import create_engine\n",
    "import os\n",
    "from os import getenv\n",
    "from typing import List, Dict, Optional\n",
    "import pandas as pd\n",
    "from pandas import DataFrame, Series, Timestamp\n",
    "import matplotlib.pyplot as plt\n",
    "from datetime import datetime\n",
    "import datetime as dt\n",
    "import numpy as np\n",
    "from numpy import ndarray\n",
    "import pytz"
   ]
  },
  {
   "cell_type": "code",
   "execution_count": null,
   "metadata": {},
   "outputs": [],
   "source": [
    "import sys\n",
    "sys.path.insert(0, '..')"
   ]
  },
  {
   "cell_type": "code",
   "execution_count": null,
   "metadata": {},
   "outputs": [],
   "source": [
    "try:\n",
    "    from dotenv import load_dotenv\n",
    "\n",
    "    load_dotenv()\n",
    "except:\n",
    "    print('No \".env\" file or python-dotenv not installed... Using default env variables...')"
   ]
  },
  {
   "cell_type": "code",
   "execution_count": null,
   "metadata": {},
   "outputs": [],
   "source": [
    "def db_connection() -> Engine:\n",
    "    dbname: Optional[str] = getenv('POSTGRES_DB_NAME')\n",
    "    host: Optional[str] = getenv('POSTGRES_HOST')\n",
    "    user: Optional[str] = getenv('POSTGRES_USERNAME')\n",
    "    password: Optional[str] = getenv('POSTGRES_PASSWORD')\n",
    "    port: Optional[str] = getenv('POSTGRES_PORT')\n",
    "        \n",
    "    postgres_str: str = f'postgresql://{user}:{password}@{host}:{port}/{dbname}'\n",
    "    \n",
    "    engine: Engine = create_engine(postgres_str)\n",
    "    \n",
    "    return engine"
   ]
  },
  {
   "cell_type": "markdown",
   "metadata": {},
   "source": [
    "EXTRACT PREDICTIONS (SORGENIA)"
   ]
  },
  {
   "cell_type": "code",
   "execution_count": null,
   "metadata": {},
   "outputs": [],
   "source": [
    "query: str = \"SELECT * FROM tft_testset_preds\"\n",
    "df_preds: DataFrame = pd.read_sql_query(query, con=db_connection())"
   ]
  },
  {
   "cell_type": "code",
   "execution_count": null,
   "metadata": {},
   "outputs": [],
   "source": [
    "df_maserio = df_preds[df_preds['identifier']=='UP_MPNTLCDMRN_1'][['forecast_time_utc', 'identifier', 't4']]"
   ]
  },
  {
   "cell_type": "code",
   "execution_count": null,
   "metadata": {},
   "outputs": [],
   "source": [
    "df_maserio = df_maserio.rename(columns={'t4': 't4_preds'})"
   ]
  },
  {
   "cell_type": "code",
   "execution_count": null,
   "metadata": {},
   "outputs": [],
   "source": [
    "df_maserio"
   ]
  },
  {
   "cell_type": "markdown",
   "metadata": {},
   "source": [
    "EXTRACT TRUTHS (SORGENIA)"
   ]
  },
  {
   "cell_type": "code",
   "execution_count": null,
   "metadata": {},
   "outputs": [],
   "source": [
    "query: str = \"SELECT * FROM tft_testset_targets\"\n",
    "df_truths: DataFrame = pd.read_sql_query(query, con=db_connection())"
   ]
  },
  {
   "cell_type": "code",
   "execution_count": null,
   "metadata": {},
   "outputs": [],
   "source": [
    "df_maserio_truth = df_truths[df_truths['identifier']=='UP_MPNTLCDMRN_1'][['forecast_time_utc', 'identifier', 't4']]"
   ]
  },
  {
   "cell_type": "code",
   "execution_count": null,
   "metadata": {},
   "outputs": [],
   "source": [
    "df_maserio_truth = df_maserio_truth.rename(columns={'t4': 't4_truth'})\n",
    "df_maserio_truth"
   ]
  },
  {
   "cell_type": "markdown",
   "metadata": {},
   "source": [
    "APPEND TRUTH TO df_maserio"
   ]
  },
  {
   "cell_type": "code",
   "execution_count": null,
   "metadata": {},
   "outputs": [],
   "source": [
    "df_maserio = df_maserio.merge(df_maserio_truth, on=['forecast_time_utc', 'identifier'])"
   ]
  },
  {
   "cell_type": "code",
   "execution_count": null,
   "metadata": {},
   "outputs": [],
   "source": [
    "df_maserio['identifier'] = 'farm'"
   ]
  },
  {
   "cell_type": "code",
   "execution_count": null,
   "metadata": {},
   "outputs": [],
   "source": [
    "df_maserio.to_csv(os.path.join(r'C:\\Users\\Lorenzo\\PycharmProjects\\TFT\\outputs', 'sample_for_esapro.csv'), index=False)"
   ]
  },
  {
   "cell_type": "code",
   "execution_count": null,
   "metadata": {},
   "outputs": [],
   "source": []
  }
 ],
 "metadata": {
  "kernelspec": {
   "display_name": "tft",
   "language": "python",
   "name": "tft"
  },
  "language_info": {
   "codemirror_mode": {
    "name": "ipython",
    "version": 3
   },
   "file_extension": ".py",
   "mimetype": "text/x-python",
   "name": "python",
   "nbconvert_exporter": "python",
   "pygments_lexer": "ipython3",
   "version": "3.7.9"
  }
 },
 "nbformat": 4,
 "nbformat_minor": 4
}
