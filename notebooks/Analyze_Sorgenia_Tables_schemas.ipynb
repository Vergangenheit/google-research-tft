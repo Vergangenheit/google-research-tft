{
 "cells": [
  {
   "cell_type": "code",
   "execution_count": 59,
   "metadata": {},
   "outputs": [],
   "source": [
    "from sqlalchemy.engine import Engine, Connection\n",
    "from sqlalchemy import create_engine\n",
    "from os import getenv\n",
    "from typing import List, Dict, Optional\n",
    "import pandas as pd\n",
    "from pandas import DataFrame, Series, Timestamp\n",
    "import matplotlib.pyplot as plt\n",
    "from datetime import datetime\n",
    "import numpy as np\n",
    "from numpy import ndarray"
   ]
  },
  {
   "cell_type": "code",
   "execution_count": 2,
   "metadata": {},
   "outputs": [],
   "source": [
    "import sys\n",
    "sys.path.insert(0, '..')"
   ]
  },
  {
   "cell_type": "code",
   "execution_count": 3,
   "metadata": {},
   "outputs": [],
   "source": [
    "try:\n",
    "    from dotenv import load_dotenv\n",
    "\n",
    "    load_dotenv()\n",
    "except:\n",
    "    print('No \".env\" file or python-dotenv not installed... Using default env variables...')"
   ]
  },
  {
   "cell_type": "code",
   "execution_count": 4,
   "metadata": {},
   "outputs": [],
   "source": [
    "def db_connection() -> Engine:\n",
    "    dbname: Optional[str] = getenv('POSTGRES_DB_NAME')\n",
    "    host: Optional[str] = getenv('POSTGRES_HOST')\n",
    "    user: Optional[str] = getenv('POSTGRES_USERNAME')\n",
    "    password: Optional[str] = getenv('POSTGRES_PASSWORD')\n",
    "    port: Optional[str] = getenv('POSTGRES_PORT')\n",
    "        \n",
    "    postgres_str: str = f'postgresql://{user}:{password}@{host}:{port}/{dbname}'\n",
    "    \n",
    "    engine: Engine = create_engine(postgres_str)\n",
    "    \n",
    "    return engine"
   ]
  },
  {
   "cell_type": "code",
   "execution_count": 5,
   "metadata": {},
   "outputs": [],
   "source": [
    "sql_energy: str = \"SELECT * FROM sorgenia_energy\"\n",
    "engine: Engine = db_connection()"
   ]
  },
  {
   "cell_type": "code",
   "execution_count": 6,
   "metadata": {},
   "outputs": [],
   "source": [
    "energy_df: DataFrame = pd.read_sql_query(sql_energy, con=engine)"
   ]
  },
  {
   "cell_type": "code",
   "execution_count": 7,
   "metadata": {},
   "outputs": [
    {
     "data": {
      "text/html": [
       "<div>\n",
       "<style scoped>\n",
       "    .dataframe tbody tr th:only-of-type {\n",
       "        vertical-align: middle;\n",
       "    }\n",
       "\n",
       "    .dataframe tbody tr th {\n",
       "        vertical-align: top;\n",
       "    }\n",
       "\n",
       "    .dataframe thead th {\n",
       "        text-align: right;\n",
       "    }\n",
       "</style>\n",
       "<table border=\"1\" class=\"dataframe\">\n",
       "  <thead>\n",
       "    <tr style=\"text-align: right;\">\n",
       "      <th></th>\n",
       "      <th>id</th>\n",
       "      <th>plant_name_up</th>\n",
       "      <th>start_date_utc</th>\n",
       "      <th>end_date_utc</th>\n",
       "      <th>kwh</th>\n",
       "    </tr>\n",
       "  </thead>\n",
       "  <tbody>\n",
       "    <tr>\n",
       "      <th>0</th>\n",
       "      <td>1</td>\n",
       "      <td>UP_PRCLCDPRZZ_1</td>\n",
       "      <td>2016-12-31 23:00:00</td>\n",
       "      <td>2016-12-31 23:15:00</td>\n",
       "      <td>269.4</td>\n",
       "    </tr>\n",
       "    <tr>\n",
       "      <th>1</th>\n",
       "      <td>2</td>\n",
       "      <td>UP_PRCLCDPRZZ_1</td>\n",
       "      <td>2016-12-31 23:15:00</td>\n",
       "      <td>2016-12-31 23:30:00</td>\n",
       "      <td>260.1</td>\n",
       "    </tr>\n",
       "    <tr>\n",
       "      <th>2</th>\n",
       "      <td>3</td>\n",
       "      <td>UP_PRCLCDPRZZ_1</td>\n",
       "      <td>2016-12-31 23:30:00</td>\n",
       "      <td>2016-12-31 23:45:00</td>\n",
       "      <td>131.1</td>\n",
       "    </tr>\n",
       "    <tr>\n",
       "      <th>3</th>\n",
       "      <td>4</td>\n",
       "      <td>UP_PRCLCDPRZZ_1</td>\n",
       "      <td>2016-12-31 23:45:00</td>\n",
       "      <td>2017-01-01 00:00:00</td>\n",
       "      <td>210.9</td>\n",
       "    </tr>\n",
       "    <tr>\n",
       "      <th>4</th>\n",
       "      <td>5</td>\n",
       "      <td>UP_PRCLCDPRZZ_1</td>\n",
       "      <td>2017-01-01 00:00:00</td>\n",
       "      <td>2017-01-01 00:15:00</td>\n",
       "      <td>351.3</td>\n",
       "    </tr>\n",
       "  </tbody>\n",
       "</table>\n",
       "</div>"
      ],
      "text/plain": [
       "   id    plant_name_up      start_date_utc        end_date_utc    kwh\n",
       "0   1  UP_PRCLCDPRZZ_1 2016-12-31 23:00:00 2016-12-31 23:15:00  269.4\n",
       "1   2  UP_PRCLCDPRZZ_1 2016-12-31 23:15:00 2016-12-31 23:30:00  260.1\n",
       "2   3  UP_PRCLCDPRZZ_1 2016-12-31 23:30:00 2016-12-31 23:45:00  131.1\n",
       "3   4  UP_PRCLCDPRZZ_1 2016-12-31 23:45:00 2017-01-01 00:00:00  210.9\n",
       "4   5  UP_PRCLCDPRZZ_1 2017-01-01 00:00:00 2017-01-01 00:15:00  351.3"
      ]
     },
     "execution_count": 7,
     "metadata": {},
     "output_type": "execute_result"
    }
   ],
   "source": [
    "energy_df.head()"
   ]
  },
  {
   "cell_type": "code",
   "execution_count": 48,
   "metadata": {},
   "outputs": [],
   "source": [
    "def group_hourly(df: DataFrame) -> DataFrame:\n",
    "    df: DataFrame = df.copy()\n",
    "    df['day']: Series = df['start_date_utc'].dt.year.astype('str') + '-' + df['start_date_utc'].dt.month.astype(\n",
    "        'str') + '-' + df[\n",
    "                    'start_date_utc'].dt.day.astype('str')\n",
    "    df['day']: Series = pd.to_datetime(df['day'], infer_datetime_format=True)\n",
    "    grouped: DataFrame = df.groupby(['plant_name_up', 'day', df.start_date_utc.dt.hour]).agg(\n",
    "        {'kwh': 'mean'})\n",
    "    grouped: DataFrame = grouped.reset_index(drop=False).rename(columns={'start_date_utc': 'time'})\n",
    "#     grouped: DataFrame = grouped.sort_values(by=['plant_name_up', 'day', 'time'], ascending=True, ignore_index=True)\n",
    "    grouped['time'] = grouped['day'].astype('str') + ' ' + grouped['time'].astype('str') + ':00:00'\n",
    "#     grouped['time'] = grouped['time'].astype('datetime64[ns, UTC]')\n",
    "    grouped['time'] = grouped['time'].astype('datetime64[ns]')\n",
    "    grouped: DataFrame = grouped.sort_values(by=['plant_name_up', 'time'], ascending=True, ignore_index=True)\n",
    "    grouped.drop('day', axis=1, inplace=True)\n",
    "\n",
    "    return grouped"
   ]
  },
  {
   "cell_type": "code",
   "execution_count": 49,
   "metadata": {},
   "outputs": [],
   "source": [
    "energy_grouped = group_hourly(energy_df)"
   ]
  },
  {
   "cell_type": "code",
   "execution_count": 50,
   "metadata": {},
   "outputs": [
    {
     "data": {
      "text/html": [
       "<div>\n",
       "<style scoped>\n",
       "    .dataframe tbody tr th:only-of-type {\n",
       "        vertical-align: middle;\n",
       "    }\n",
       "\n",
       "    .dataframe tbody tr th {\n",
       "        vertical-align: top;\n",
       "    }\n",
       "\n",
       "    .dataframe thead th {\n",
       "        text-align: right;\n",
       "    }\n",
       "</style>\n",
       "<table border=\"1\" class=\"dataframe\">\n",
       "  <thead>\n",
       "    <tr style=\"text-align: right;\">\n",
       "      <th></th>\n",
       "      <th>plant_name_up</th>\n",
       "      <th>time</th>\n",
       "      <th>kwh</th>\n",
       "    </tr>\n",
       "  </thead>\n",
       "  <tbody>\n",
       "    <tr>\n",
       "      <th>0</th>\n",
       "      <td>UP_MPNTLCDMRN_1</td>\n",
       "      <td>2016-12-31 23:00:00</td>\n",
       "      <td>225.000</td>\n",
       "    </tr>\n",
       "    <tr>\n",
       "      <th>1</th>\n",
       "      <td>UP_MPNTLCDMRN_1</td>\n",
       "      <td>2017-01-01 00:00:00</td>\n",
       "      <td>65.625</td>\n",
       "    </tr>\n",
       "    <tr>\n",
       "      <th>2</th>\n",
       "      <td>UP_MPNTLCDMRN_1</td>\n",
       "      <td>2017-01-01 01:00:00</td>\n",
       "      <td>31.875</td>\n",
       "    </tr>\n",
       "    <tr>\n",
       "      <th>3</th>\n",
       "      <td>UP_MPNTLCDMRN_1</td>\n",
       "      <td>2017-01-01 02:00:00</td>\n",
       "      <td>0.000</td>\n",
       "    </tr>\n",
       "    <tr>\n",
       "      <th>4</th>\n",
       "      <td>UP_MPNTLCDMRN_1</td>\n",
       "      <td>2017-01-01 03:00:00</td>\n",
       "      <td>0.000</td>\n",
       "    </tr>\n",
       "  </tbody>\n",
       "</table>\n",
       "</div>"
      ],
      "text/plain": [
       "     plant_name_up                time      kwh\n",
       "0  UP_MPNTLCDMRN_1 2016-12-31 23:00:00  225.000\n",
       "1  UP_MPNTLCDMRN_1 2017-01-01 00:00:00   65.625\n",
       "2  UP_MPNTLCDMRN_1 2017-01-01 01:00:00   31.875\n",
       "3  UP_MPNTLCDMRN_1 2017-01-01 02:00:00    0.000\n",
       "4  UP_MPNTLCDMRN_1 2017-01-01 03:00:00    0.000"
      ]
     },
     "execution_count": 50,
     "metadata": {},
     "output_type": "execute_result"
    }
   ],
   "source": [
    "energy_grouped.head()"
   ]
  },
  {
   "cell_type": "code",
   "execution_count": 51,
   "metadata": {},
   "outputs": [
    {
     "data": {
      "text/plain": [
       "plant_name_up            object\n",
       "time             datetime64[ns]\n",
       "kwh                     float64\n",
       "dtype: object"
      ]
     },
     "execution_count": 51,
     "metadata": {},
     "output_type": "execute_result"
    }
   ],
   "source": [
    "energy_grouped.dtypes"
   ]
  },
  {
   "cell_type": "code",
   "execution_count": 12,
   "metadata": {},
   "outputs": [
    {
     "data": {
      "text/plain": [
       "(254203, 3)"
      ]
     },
     "execution_count": 12,
     "metadata": {},
     "output_type": "execute_result"
    }
   ],
   "source": [
    "energy_grouped.shape"
   ]
  },
  {
   "cell_type": "code",
   "execution_count": 13,
   "metadata": {},
   "outputs": [
    {
     "data": {
      "text/plain": [
       "array(['UP_MPNTLCDMRN_1', 'UP_MPNTLCSMBC_1', 'UP_PEPIZZA_1',\n",
       "       'UP_PRCLCDMZRD_1', 'UP_PRCLCDMZRD_2', 'UP_PRCLCDPLRM_1',\n",
       "       'UP_PRCLCDPRZZ_1', 'UP_PRCLCMINEO_1'], dtype=object)"
      ]
     },
     "execution_count": 13,
     "metadata": {},
     "output_type": "execute_result"
    }
   ],
   "source": [
    "energy_grouped.plant_name_up.unique()"
   ]
  },
  {
   "cell_type": "markdown",
   "metadata": {},
   "source": [
    "EXTRACT WEATHER COPERNICUS"
   ]
  },
  {
   "cell_type": "code",
   "execution_count": 14,
   "metadata": {},
   "outputs": [],
   "source": [
    "mm_query: str = \"SELECT * FROM sorgenia_weather\""
   ]
  },
  {
   "cell_type": "code",
   "execution_count": 15,
   "metadata": {},
   "outputs": [],
   "source": [
    "def extract_weather(weather_sql: str, engine: Engine) -> DataFrame:\n",
    "    weather_df: DataFrame = pd.read_sql_query(weather_sql, con=engine)\n",
    "    weather_df['wind_gusts_100m_1h_ms'] = weather_df['wind_gusts_100m_1h_ms'].astype('float64')\n",
    "    weather_df['wind_gusts_100m_ms'] = weather_df['wind_gusts_100m_ms'].astype('float64')\n",
    "    weather_df: DataFrame = weather_df.sort_values(by=['timestamp_utc'], ascending=True, ignore_index=True)\n",
    "        \n",
    "    return weather_df"
   ]
  },
  {
   "cell_type": "code",
   "execution_count": 16,
   "metadata": {},
   "outputs": [],
   "source": [
    "weather_df: DataFrame = extract_weather(mm_query, engine)"
   ]
  },
  {
   "cell_type": "markdown",
   "metadata": {},
   "source": [
    "INFER THE DATES GAP BETWEEN Energy and Weather dfs"
   ]
  },
  {
   "cell_type": "code",
   "execution_count": 28,
   "metadata": {},
   "outputs": [],
   "source": [
    "upper: str = weather_df['timestamp_utc'].min().strftime('%Y-%m-%d %H:%M:%S')\n",
    "lower: str = energy_grouped['time'].min().strftime('%Y-%m-%d %H:%M:%S')"
   ]
  },
  {
   "cell_type": "code",
   "execution_count": 33,
   "metadata": {},
   "outputs": [],
   "source": [
    "cop_sql: str = f\"SELECT * FROM sorgenia_weather_copernicus WHERE timestamp_utc >= '{lower}' and timestamp_utc < '{upper}'\""
   ]
  },
  {
   "cell_type": "code",
   "execution_count": 34,
   "metadata": {},
   "outputs": [],
   "source": [
    "weather_remain: DataFrame = extract_weather(cop_sql, engine)"
   ]
  },
  {
   "cell_type": "code",
   "execution_count": 37,
   "metadata": {},
   "outputs": [
    {
     "data": {
      "text/plain": [
       "(Timestamp('2016-12-31 23:00:00'), Timestamp('2018-12-31 23:00:00'))"
      ]
     },
     "execution_count": 37,
     "metadata": {},
     "output_type": "execute_result"
    }
   ],
   "source": [
    "weather_remain['timestamp_utc'].min(), weather_remain['timestamp_utc'].max()"
   ]
  },
  {
   "cell_type": "markdown",
   "metadata": {},
   "source": [
    "STACK WEATHER df together"
   ]
  },
  {
   "cell_type": "code",
   "execution_count": 43,
   "metadata": {},
   "outputs": [],
   "source": [
    "weather: DataFrame = pd.concat([weather_df, weather_remain], axis=0)\n",
    "weather.sort_values(by='timestamp_utc', ascending=True, inplace=True)"
   ]
  },
  {
   "cell_type": "code",
   "execution_count": 47,
   "metadata": {},
   "outputs": [
    {
     "data": {
      "text/plain": [
       "id                                     int64\n",
       "plant_name_up                         object\n",
       "timestamp_utc                 datetime64[ns]\n",
       "dew_point_2m_C                       float64\n",
       "temperature_2m_C                     float64\n",
       "msl_pressure_hPa                     float64\n",
       "sfc_pressure_hPa                     float64\n",
       "precipitation_1h_mm                  float64\n",
       "wind_speed_mean_10m_1h_ms            float64\n",
       "wind_speed_mean_100m_1h_ms           float64\n",
       "wind_dir_mean_100m_1h_d              float64\n",
       "wind_dir_mean_10m_1h_d               float64\n",
       "wind_gusts_10m_1h_ms                 float64\n",
       "wind_gusts_100m_1h_ms                float64\n",
       "wind_gusts_100m_ms                   float64\n",
       "wind_gusts_10m_ms                    float64\n",
       "dtype: object"
      ]
     },
     "execution_count": 47,
     "metadata": {},
     "output_type": "execute_result"
    }
   ],
   "source": [
    "weather.dtypes"
   ]
  },
  {
   "cell_type": "code",
   "execution_count": null,
   "metadata": {},
   "outputs": [],
   "source": [
    "timestamp_s: Series = df['time'].map(datetime.timestamp)\n",
    "    day: int = 24 * 60 * 60\n",
    "    year: float = 365.2425 * day\n",
    "\n",
    "    df['Day sin']: Series = np.sin(timestamp_s * (2 * np.pi / day))\n",
    "    df['Day cos']: Series = np.cos(timestamp_s * (2 * np.pi / day))\n",
    "    df['Year sin']: Series = np.sin(timestamp_s * (2 * np.pi / year))\n",
    "    df['Year cos']: Series = np.cos(timestamp_s * (2 * np.pi / year))\n",
    "\n",
    "    earliest_time: Timestamp = df.time.min()\n",
    "    df['t']: Series = (df['time'] - earliest_time).dt.seconds / 60 / 60 + (df['time'] - earliest_time).dt.days * 24\n",
    "    df['days_from_start']: Series = (df['time'] - earliest_time).dt.days\n",
    "    df[\"id\"] = df[\"plant_name_up\"]\n",
    "    df['hour']: Series = df[\"time\"].dt.hour\n",
    "    df['day']: Series = df[\"time\"].dt.day\n",
    "    df['day_of_week']: Series = df[\"time\"].dt.dayofweek\n",
    "    df['month']: Series = df[\"time\"].dt.month\n",
    "    df['categorical_id']: Series = df['id'].copy()\n",
    "    df['hours_from_start']: Series = df['t']\n",
    "    df['categorical_day_of_week']: Series = df['day_of_week'].copy()\n",
    "    df['categorical_hour']: Series = df['hour'].copy()"
   ]
  },
  {
   "cell_type": "code",
   "execution_count": null,
   "metadata": {},
   "outputs": [],
   "source": [
    "# weather_df['wind_gusts_100m_1h_ms'] = weather_df['wind_gusts_100m_1h_ms'].astype('float64')\n",
    "# weather_df['wind_gusts_100m_ms'] = weather_df['wind_gusts_100m_ms'].astype('float64')"
   ]
  },
  {
   "cell_type": "code",
   "execution_count": null,
   "metadata": {},
   "outputs": [],
   "source": [
    "# weather_df: DataFrame = weather_df.sort_values(by=['timestamp_utc'], ascending=True, ignore_index=True)"
   ]
  },
  {
   "cell_type": "code",
   "execution_count": null,
   "metadata": {},
   "outputs": [],
   "source": [
    "weather_df.head()"
   ]
  },
  {
   "cell_type": "code",
   "execution_count": null,
   "metadata": {},
   "outputs": [],
   "source": [
    "weather_df.dtypes"
   ]
  },
  {
   "cell_type": "code",
   "execution_count": null,
   "metadata": {},
   "outputs": [],
   "source": [
    "weather_df.wind_gusts_100m_ms.value_counts()"
   ]
  },
  {
   "cell_type": "markdown",
   "metadata": {},
   "source": [
    "ANALYZE DISTRIB"
   ]
  },
  {
   "cell_type": "code",
   "execution_count": null,
   "metadata": {},
   "outputs": [],
   "source": [
    " # Let's go ahead and analyse the distributions of these variables\n",
    "def analyse_continous(df: DataFrame, var: str):\n",
    "    df = df.copy()\n",
    "    df[var].hist(bins=20)\n",
    "    plt.ylabel('Power range')\n",
    "    plt.xlabel(var)\n",
    "    plt.title(var)\n",
    "    plt.show()"
   ]
  },
  {
   "cell_type": "code",
   "execution_count": null,
   "metadata": {},
   "outputs": [],
   "source": [
    "for var in weather_df.columns[3:]:\n",
    "    analyse_continous(weather_df, var)"
   ]
  },
  {
   "cell_type": "code",
   "execution_count": null,
   "metadata": {},
   "outputs": [],
   "source": [
    "assert weather_df.plant_name_up.value_counts().tolist().sort() == energy_grouped.plant_name_up.unique().tolist().sort()"
   ]
  },
  {
   "cell_type": "markdown",
   "metadata": {},
   "source": [
    "MERGE THE TWO DF"
   ]
  },
  {
   "cell_type": "code",
   "execution_count": 45,
   "metadata": {},
   "outputs": [],
   "source": [
    "def merge_df(energy: DataFrame, weather: DataFrame) -> DataFrame:\n",
    "    df: DataFrame = energy.merge(weather, left_on=['time', 'plant_name_up'], right_on=['timestamp_utc', 'plant_name_up'])\n",
    "    df.drop(['timestamp_utc', 'id'], axis=1, inplace=True)\n",
    "    df = df.sort_values(by=['plant_name_up','time'], ascending=True, ignore_index=True)\n",
    "    \n",
    "    return df"
   ]
  },
  {
   "cell_type": "code",
   "execution_count": 52,
   "metadata": {},
   "outputs": [],
   "source": [
    "df = merge_df(energy_grouped, weather)"
   ]
  },
  {
   "cell_type": "code",
   "execution_count": 53,
   "metadata": {},
   "outputs": [
    {
     "data": {
      "text/html": [
       "<div>\n",
       "<style scoped>\n",
       "    .dataframe tbody tr th:only-of-type {\n",
       "        vertical-align: middle;\n",
       "    }\n",
       "\n",
       "    .dataframe tbody tr th {\n",
       "        vertical-align: top;\n",
       "    }\n",
       "\n",
       "    .dataframe thead th {\n",
       "        text-align: right;\n",
       "    }\n",
       "</style>\n",
       "<table border=\"1\" class=\"dataframe\">\n",
       "  <thead>\n",
       "    <tr style=\"text-align: right;\">\n",
       "      <th></th>\n",
       "      <th>plant_name_up</th>\n",
       "      <th>time</th>\n",
       "      <th>kwh</th>\n",
       "      <th>dew_point_2m_C</th>\n",
       "      <th>temperature_2m_C</th>\n",
       "      <th>msl_pressure_hPa</th>\n",
       "      <th>sfc_pressure_hPa</th>\n",
       "      <th>precipitation_1h_mm</th>\n",
       "      <th>wind_speed_mean_10m_1h_ms</th>\n",
       "      <th>wind_speed_mean_100m_1h_ms</th>\n",
       "      <th>wind_dir_mean_100m_1h_d</th>\n",
       "      <th>wind_dir_mean_10m_1h_d</th>\n",
       "      <th>wind_gusts_10m_1h_ms</th>\n",
       "      <th>wind_gusts_100m_1h_ms</th>\n",
       "      <th>wind_gusts_100m_ms</th>\n",
       "      <th>wind_gusts_10m_ms</th>\n",
       "    </tr>\n",
       "  </thead>\n",
       "  <tbody>\n",
       "    <tr>\n",
       "      <th>0</th>\n",
       "      <td>UP_MPNTLCDMRN_1</td>\n",
       "      <td>2016-12-31 23:00:00</td>\n",
       "      <td>225.000</td>\n",
       "      <td>-0.902831</td>\n",
       "      <td>4.980909</td>\n",
       "      <td>1028.935552</td>\n",
       "      <td>983.718765</td>\n",
       "      <td>0.000000e+00</td>\n",
       "      <td>1.381208</td>\n",
       "      <td>2.254668</td>\n",
       "      <td>26.531339</td>\n",
       "      <td>38.664892</td>\n",
       "      <td>4.240202</td>\n",
       "      <td>NaN</td>\n",
       "      <td>NaN</td>\n",
       "      <td>4.026465</td>\n",
       "    </tr>\n",
       "    <tr>\n",
       "      <th>1</th>\n",
       "      <td>UP_MPNTLCDMRN_1</td>\n",
       "      <td>2017-01-01 00:00:00</td>\n",
       "      <td>65.625</td>\n",
       "      <td>-0.783022</td>\n",
       "      <td>4.890773</td>\n",
       "      <td>1028.693079</td>\n",
       "      <td>983.524042</td>\n",
       "      <td>-1.734723e-15</td>\n",
       "      <td>1.278206</td>\n",
       "      <td>2.224647</td>\n",
       "      <td>22.408971</td>\n",
       "      <td>34.256697</td>\n",
       "      <td>4.027452</td>\n",
       "      <td>NaN</td>\n",
       "      <td>NaN</td>\n",
       "      <td>3.707296</td>\n",
       "    </tr>\n",
       "    <tr>\n",
       "      <th>2</th>\n",
       "      <td>UP_MPNTLCDMRN_1</td>\n",
       "      <td>2017-01-01 01:00:00</td>\n",
       "      <td>31.875</td>\n",
       "      <td>-0.565645</td>\n",
       "      <td>4.807044</td>\n",
       "      <td>1028.156679</td>\n",
       "      <td>983.034144</td>\n",
       "      <td>-1.734723e-15</td>\n",
       "      <td>1.211802</td>\n",
       "      <td>2.130597</td>\n",
       "      <td>17.880837</td>\n",
       "      <td>28.905779</td>\n",
       "      <td>3.713940</td>\n",
       "      <td>NaN</td>\n",
       "      <td>NaN</td>\n",
       "      <td>3.515824</td>\n",
       "    </tr>\n",
       "    <tr>\n",
       "      <th>3</th>\n",
       "      <td>UP_MPNTLCDMRN_1</td>\n",
       "      <td>2017-01-01 02:00:00</td>\n",
       "      <td>0.000</td>\n",
       "      <td>-0.331075</td>\n",
       "      <td>4.911959</td>\n",
       "      <td>1028.162779</td>\n",
       "      <td>983.062126</td>\n",
       "      <td>-1.734723e-15</td>\n",
       "      <td>1.017035</td>\n",
       "      <td>1.846413</td>\n",
       "      <td>15.523460</td>\n",
       "      <td>28.402692</td>\n",
       "      <td>3.547375</td>\n",
       "      <td>NaN</td>\n",
       "      <td>NaN</td>\n",
       "      <td>3.310938</td>\n",
       "    </tr>\n",
       "    <tr>\n",
       "      <th>4</th>\n",
       "      <td>UP_MPNTLCDMRN_1</td>\n",
       "      <td>2017-01-01 03:00:00</td>\n",
       "      <td>0.000</td>\n",
       "      <td>-0.668040</td>\n",
       "      <td>4.464566</td>\n",
       "      <td>1027.616920</td>\n",
       "      <td>982.551146</td>\n",
       "      <td>-1.734723e-15</td>\n",
       "      <td>0.715094</td>\n",
       "      <td>1.450024</td>\n",
       "      <td>0.706032</td>\n",
       "      <td>13.915324</td>\n",
       "      <td>3.362168</td>\n",
       "      <td>NaN</td>\n",
       "      <td>NaN</td>\n",
       "      <td>3.166429</td>\n",
       "    </tr>\n",
       "  </tbody>\n",
       "</table>\n",
       "</div>"
      ],
      "text/plain": [
       "     plant_name_up                time      kwh  dew_point_2m_C  \\\n",
       "0  UP_MPNTLCDMRN_1 2016-12-31 23:00:00  225.000       -0.902831   \n",
       "1  UP_MPNTLCDMRN_1 2017-01-01 00:00:00   65.625       -0.783022   \n",
       "2  UP_MPNTLCDMRN_1 2017-01-01 01:00:00   31.875       -0.565645   \n",
       "3  UP_MPNTLCDMRN_1 2017-01-01 02:00:00    0.000       -0.331075   \n",
       "4  UP_MPNTLCDMRN_1 2017-01-01 03:00:00    0.000       -0.668040   \n",
       "\n",
       "   temperature_2m_C  msl_pressure_hPa  sfc_pressure_hPa  precipitation_1h_mm  \\\n",
       "0          4.980909       1028.935552        983.718765         0.000000e+00   \n",
       "1          4.890773       1028.693079        983.524042        -1.734723e-15   \n",
       "2          4.807044       1028.156679        983.034144        -1.734723e-15   \n",
       "3          4.911959       1028.162779        983.062126        -1.734723e-15   \n",
       "4          4.464566       1027.616920        982.551146        -1.734723e-15   \n",
       "\n",
       "   wind_speed_mean_10m_1h_ms  wind_speed_mean_100m_1h_ms  \\\n",
       "0                   1.381208                    2.254668   \n",
       "1                   1.278206                    2.224647   \n",
       "2                   1.211802                    2.130597   \n",
       "3                   1.017035                    1.846413   \n",
       "4                   0.715094                    1.450024   \n",
       "\n",
       "   wind_dir_mean_100m_1h_d  wind_dir_mean_10m_1h_d  wind_gusts_10m_1h_ms  \\\n",
       "0                26.531339               38.664892              4.240202   \n",
       "1                22.408971               34.256697              4.027452   \n",
       "2                17.880837               28.905779              3.713940   \n",
       "3                15.523460               28.402692              3.547375   \n",
       "4                 0.706032               13.915324              3.362168   \n",
       "\n",
       "   wind_gusts_100m_1h_ms  wind_gusts_100m_ms  wind_gusts_10m_ms  \n",
       "0                    NaN                 NaN           4.026465  \n",
       "1                    NaN                 NaN           3.707296  \n",
       "2                    NaN                 NaN           3.515824  \n",
       "3                    NaN                 NaN           3.310938  \n",
       "4                    NaN                 NaN           3.166429  "
      ]
     },
     "execution_count": 53,
     "metadata": {},
     "output_type": "execute_result"
    }
   ],
   "source": [
    "df.head()"
   ]
  },
  {
   "cell_type": "code",
   "execution_count": 54,
   "metadata": {},
   "outputs": [
    {
     "data": {
      "text/plain": [
       "(245448, 16)"
      ]
     },
     "execution_count": 54,
     "metadata": {},
     "output_type": "execute_result"
    }
   ],
   "source": [
    "df.shape"
   ]
  },
  {
   "cell_type": "code",
   "execution_count": null,
   "metadata": {},
   "outputs": [],
   "source": [
    "for var in df.columns[3:]:\n",
    "    analyse_continous(df, var)"
   ]
  },
  {
   "cell_type": "markdown",
   "metadata": {},
   "source": [
    "CHECK IF ALL UP HAVE FULL TIME RANGE"
   ]
  },
  {
   "cell_type": "code",
   "execution_count": null,
   "metadata": {},
   "outputs": [],
   "source": [
    "for up in df.plant_name_up.unique():\n",
    "    df1 = df[df['plant_name_up']==up]\n",
    "    print(df1.time.min(), df1.time.max())"
   ]
  },
  {
   "cell_type": "code",
   "execution_count": 60,
   "metadata": {},
   "outputs": [],
   "source": [
    "timestamp_s: Series = df['time'].map(datetime.timestamp)\n",
    "day: int = 24 * 60 * 60\n",
    "year: float = 365.2425 * day\n",
    "\n",
    "df['Day sin']: Series = np.sin(timestamp_s * (2 * np.pi / day))\n",
    "df['Day cos']: Series = np.cos(timestamp_s * (2 * np.pi / day))\n",
    "df['Year sin']: Series = np.sin(timestamp_s * (2 * np.pi / year))\n",
    "df['Year cos']: Series = np.cos(timestamp_s * (2 * np.pi / year))"
   ]
  },
  {
   "cell_type": "code",
   "execution_count": 61,
   "metadata": {},
   "outputs": [],
   "source": [
    "earliest_time: Timestamp = df.time.min()\n",
    "df['t']: Series = (df['time'] - earliest_time).dt.seconds / 60 / 60 + (df['time'] - earliest_time).dt.days * 24"
   ]
  },
  {
   "cell_type": "code",
   "execution_count": 62,
   "metadata": {},
   "outputs": [],
   "source": [
    "df['days_from_start']: Series = (df['time'] - earliest_time).dt.days\n",
    "df[\"id\"] = df[\"plant_name_up\"]\n",
    "df['hour']: Series = df[\"time\"].dt.hour\n",
    "df['day']: Series = df[\"time\"].dt.day\n",
    "df['day_of_week']: Series = df[\"time\"].dt.dayofweek\n",
    "df['month']: Series = df[\"time\"].dt.month\n",
    "df['categorical_id']: Series = df['id'].copy()\n",
    "df['hours_from_start']: Series = df['t']\n",
    "df['categorical_day_of_week']: Series = df['day_of_week'].copy()\n",
    "df['categorical_hour']: Series = df['hour'].copy()"
   ]
  },
  {
   "cell_type": "code",
   "execution_count": 63,
   "metadata": {},
   "outputs": [],
   "source": [
    "df.to_csv(r'C:\\Users\\Lorenzo\\PycharmProjects\\TFT\\outputs\\data\\sorgenia_wind\\data\\sorgenia_wind\\data\\sorgenia_wind_mm_cop.csv', index=False)"
   ]
  },
  {
   "cell_type": "code",
   "execution_count": null,
   "metadata": {},
   "outputs": [],
   "source": [
    "df.head()"
   ]
  },
  {
   "cell_type": "code",
   "execution_count": null,
   "metadata": {},
   "outputs": [],
   "source": [
    "df.columns"
   ]
  },
  {
   "cell_type": "code",
   "execution_count": null,
   "metadata": {},
   "outputs": [],
   "source": []
  }
 ],
 "metadata": {
  "kernelspec": {
   "display_name": "tft",
   "language": "python",
   "name": "tft"
  },
  "language_info": {
   "codemirror_mode": {
    "name": "ipython",
    "version": 3
   },
   "file_extension": ".py",
   "mimetype": "text/x-python",
   "name": "python",
   "nbconvert_exporter": "python",
   "pygments_lexer": "ipython3",
   "version": "3.7.9"
  }
 },
 "nbformat": 4,
 "nbformat_minor": 4
}
