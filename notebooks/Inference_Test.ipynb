{
 "cells": [
  {
   "cell_type": "code",
   "execution_count": null,
   "metadata": {},
   "outputs": [],
   "source": [
    "from sqlalchemy.engine import Engine, Connection\n",
    "from sqlalchemy import create_engine\n",
    "from os import getenv\n",
    "import pandas as pd\n",
    "from pandas import DataFrame, Series, Timestamp\n",
    "import matplotlib.pyplot as plt\n",
    "from datetime import datetime\n",
    "import datetime as dt\n",
    "import numpy as np\n",
    "from numpy import ndarray\n",
    "import pytz"
   ]
  },
  {
   "cell_type": "code",
   "execution_count": null,
   "metadata": {},
   "outputs": [],
   "source": [
    "import sys\n",
    "sys.path.insert(0, '..')"
   ]
  },
  {
   "cell_type": "code",
   "execution_count": null,
   "metadata": {},
   "outputs": [],
   "source": [
    "try:\n",
    "    from dotenv import load_dotenv\n",
    "\n",
    "    load_dotenv()\n",
    "except:\n",
    "    print('No \".env\" file or python-dotenv not installed... Using default env variables...')"
   ]
  },
  {
   "cell_type": "code",
   "execution_count": null,
   "metadata": {},
   "outputs": [],
   "source": [
    "import tensorflow as tf\n",
    "import tensorflow.compat.v1 as tf1\n",
    "from tensorflow import Graph\n",
    "from tensorflow.compat.v1 import Session, ConfigProto\n",
    "from tensorflow.python.eager.context import PhysicalDevice\n",
    "from typing import Dict, List, Union, Generator, Tuple, TypeVar, Type\n",
    "import os\n",
    "from numpy import load, ndarray\n",
    "import time\n",
    "from tensorflow.python.keras.engine.functional import Functional"
   ]
  },
  {
   "cell_type": "code",
   "execution_count": null,
   "metadata": {},
   "outputs": [],
   "source": [
    "from data_formatters.base import GenericDataFormatter, InputTypes, DataTypes\n",
    "from data_formatters.sorgenia_wind import SorgeniaFormatter\n",
    "from expt_settings.configs import ExperimentConfig\n",
    "from libs.hyperparam_opt import HyperparamOptManager\n",
    "from libs.tft_model import TemporalFusionTransformer\n",
    "import libs.utils as utils"
   ]
  },
  {
   "cell_type": "code",
   "execution_count": null,
   "metadata": {},
   "outputs": [],
   "source": [
    "from inference.inference import GetData\n",
    "from inference.predictor import MyPredictor"
   ]
  },
  {
   "cell_type": "markdown",
   "metadata": {},
   "source": [
    "EXTRACT INFERENCE DATA"
   ]
  },
  {
   "cell_type": "code",
   "execution_count": null,
   "metadata": {},
   "outputs": [],
   "source": [
    "getdata = GetData()\n",
    "df: DataFrame = getdata.generate()"
   ]
  },
  {
   "cell_type": "code",
   "execution_count": null,
   "metadata": {},
   "outputs": [],
   "source": [
    "df_maserio = df[df['id']=='UP_MPNTLCDMRN_1']\n",
    "df_maserio['kwh'].shape"
   ]
  },
  {
   "cell_type": "code",
   "execution_count": null,
   "metadata": {},
   "outputs": [],
   "source": [
    "df_maserio['kwh'].tail()"
   ]
  },
  {
   "cell_type": "markdown",
   "metadata": {},
   "source": [
    "INSTANTIATE PREDICTOR"
   ]
  },
  {
   "cell_type": "code",
   "execution_count": null,
   "metadata": {},
   "outputs": [],
   "source": [
    "predictor = MyPredictor.from_path(r'C:\\Users\\Lorenzo\\PycharmProjects\\TFT\\outputs')"
   ]
  },
  {
   "cell_type": "markdown",
   "metadata": {},
   "source": [
    "RUN PREDICTION"
   ]
  },
  {
   "cell_type": "code",
   "execution_count": null,
   "metadata": {},
   "outputs": [],
   "source": [
    "# testing Predictor on sample\n",
    "preds: List = predictor.predict(df)"
   ]
  },
  {
   "cell_type": "code",
   "execution_count": null,
   "metadata": {},
   "outputs": [],
   "source": []
  }
 ],
 "metadata": {
  "kernelspec": {
   "display_name": "tft",
   "language": "python",
   "name": "tft"
  },
  "language_info": {
   "codemirror_mode": {
    "name": "ipython",
    "version": 3
   },
   "file_extension": ".py",
   "mimetype": "text/x-python",
   "name": "python",
   "nbconvert_exporter": "python",
   "pygments_lexer": "ipython3",
   "version": "3.7.9"
  }
 },
 "nbformat": 4,
 "nbformat_minor": 4
}
