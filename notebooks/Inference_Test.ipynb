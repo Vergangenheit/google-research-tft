{
 "cells": [
  {
   "cell_type": "code",
   "execution_count": 13,
   "metadata": {},
   "outputs": [],
   "source": [
    "import numpy as np\n",
    "import pandas as pd\n",
    "from pandas import DataFrame, Series, Timestamp\n",
    "import tensorflow as tf\n",
    "import tensorflow.compat.v1 as tf1\n",
    "from tensorflow.compat.v1 import Session, ConfigProto\n",
    "from tensorflow.python.eager.context import PhysicalDevice\n",
    "from typing import Dict, List, Union, Generator\n",
    "import os\n",
    "from numpy import load\n",
    "import time"
   ]
  },
  {
   "cell_type": "code",
   "execution_count": 14,
   "metadata": {},
   "outputs": [],
   "source": [
    "import sys\n",
    "sys.path.insert(0, '..')"
   ]
  },
  {
   "cell_type": "code",
   "execution_count": 15,
   "metadata": {},
   "outputs": [],
   "source": [
    "from data_formatters.base import GenericDataFormatter, InputTypes, DataTypes\n",
    "from data_formatters.sorgenia_wind import SorgeniaFormatter"
   ]
  },
  {
   "cell_type": "code",
   "execution_count": 16,
   "metadata": {},
   "outputs": [],
   "source": [
    "from expt_settings.configs import ExperimentConfig\n",
    "from libs.hyperparam_opt import HyperparamOptManager\n",
    "from libs.tft_model import TemporalFusionTransformer, InterpretableMultiHeadAttention\n",
    "import libs.utils as utils"
   ]
  },
  {
   "cell_type": "markdown",
   "metadata": {},
   "source": [
    "# LOAD DATA AND EXTRACT TESTSET"
   ]
  },
  {
   "cell_type": "code",
   "execution_count": 5,
   "metadata": {},
   "outputs": [],
   "source": [
    "file_path: str = r'C:\\Users\\Lorenzo\\PycharmProjects\\TFT\\outputs\\data\\sorgenia_wind\\data\\sorgenia_wind\\data\\sorgenia_wind_mm_cop.csv'"
   ]
  },
  {
   "cell_type": "code",
   "execution_count": 6,
   "metadata": {},
   "outputs": [],
   "source": [
    "raw_data: DataFrame = pd.read_csv(file_path)"
   ]
  },
  {
   "cell_type": "code",
   "execution_count": 7,
   "metadata": {},
   "outputs": [
    {
     "data": {
      "text/html": [
       "<div>\n",
       "<style scoped>\n",
       "    .dataframe tbody tr th:only-of-type {\n",
       "        vertical-align: middle;\n",
       "    }\n",
       "\n",
       "    .dataframe tbody tr th {\n",
       "        vertical-align: top;\n",
       "    }\n",
       "\n",
       "    .dataframe thead th {\n",
       "        text-align: right;\n",
       "    }\n",
       "</style>\n",
       "<table border=\"1\" class=\"dataframe\">\n",
       "  <thead>\n",
       "    <tr style=\"text-align: right;\">\n",
       "      <th></th>\n",
       "      <th>plant_name_up</th>\n",
       "      <th>time</th>\n",
       "      <th>kwh</th>\n",
       "      <th>dew_point_2m_C</th>\n",
       "      <th>temperature_2m_C</th>\n",
       "      <th>msl_pressure_hPa</th>\n",
       "      <th>sfc_pressure_hPa</th>\n",
       "      <th>precipitation_1h_mm</th>\n",
       "      <th>wind_speed_mean_10m_1h_ms</th>\n",
       "      <th>wind_speed_mean_100m_1h_ms</th>\n",
       "      <th>...</th>\n",
       "      <th>days_from_start</th>\n",
       "      <th>id</th>\n",
       "      <th>hour</th>\n",
       "      <th>day</th>\n",
       "      <th>day_of_week</th>\n",
       "      <th>month</th>\n",
       "      <th>categorical_id</th>\n",
       "      <th>hours_from_start</th>\n",
       "      <th>categorical_day_of_week</th>\n",
       "      <th>categorical_hour</th>\n",
       "    </tr>\n",
       "  </thead>\n",
       "  <tbody>\n",
       "    <tr>\n",
       "      <th>0</th>\n",
       "      <td>UP_MPNTLCDMRN_1</td>\n",
       "      <td>2016-12-31 23:00:00</td>\n",
       "      <td>225.000</td>\n",
       "      <td>-0.902831</td>\n",
       "      <td>4.980909</td>\n",
       "      <td>1028.935552</td>\n",
       "      <td>983.718765</td>\n",
       "      <td>0.000000e+00</td>\n",
       "      <td>1.381208</td>\n",
       "      <td>2.254668</td>\n",
       "      <td>...</td>\n",
       "      <td>0</td>\n",
       "      <td>UP_MPNTLCDMRN_1</td>\n",
       "      <td>23</td>\n",
       "      <td>31</td>\n",
       "      <td>5</td>\n",
       "      <td>12</td>\n",
       "      <td>UP_MPNTLCDMRN_1</td>\n",
       "      <td>0.0</td>\n",
       "      <td>5</td>\n",
       "      <td>23</td>\n",
       "    </tr>\n",
       "    <tr>\n",
       "      <th>1</th>\n",
       "      <td>UP_MPNTLCDMRN_1</td>\n",
       "      <td>2017-01-01 00:00:00</td>\n",
       "      <td>65.625</td>\n",
       "      <td>-0.783022</td>\n",
       "      <td>4.890773</td>\n",
       "      <td>1028.693079</td>\n",
       "      <td>983.524042</td>\n",
       "      <td>-1.734723e-15</td>\n",
       "      <td>1.278206</td>\n",
       "      <td>2.224647</td>\n",
       "      <td>...</td>\n",
       "      <td>0</td>\n",
       "      <td>UP_MPNTLCDMRN_1</td>\n",
       "      <td>0</td>\n",
       "      <td>1</td>\n",
       "      <td>6</td>\n",
       "      <td>1</td>\n",
       "      <td>UP_MPNTLCDMRN_1</td>\n",
       "      <td>1.0</td>\n",
       "      <td>6</td>\n",
       "      <td>0</td>\n",
       "    </tr>\n",
       "    <tr>\n",
       "      <th>2</th>\n",
       "      <td>UP_MPNTLCDMRN_1</td>\n",
       "      <td>2017-01-01 01:00:00</td>\n",
       "      <td>31.875</td>\n",
       "      <td>-0.565645</td>\n",
       "      <td>4.807044</td>\n",
       "      <td>1028.156679</td>\n",
       "      <td>983.034144</td>\n",
       "      <td>-1.734723e-15</td>\n",
       "      <td>1.211802</td>\n",
       "      <td>2.130597</td>\n",
       "      <td>...</td>\n",
       "      <td>0</td>\n",
       "      <td>UP_MPNTLCDMRN_1</td>\n",
       "      <td>1</td>\n",
       "      <td>1</td>\n",
       "      <td>6</td>\n",
       "      <td>1</td>\n",
       "      <td>UP_MPNTLCDMRN_1</td>\n",
       "      <td>2.0</td>\n",
       "      <td>6</td>\n",
       "      <td>1</td>\n",
       "    </tr>\n",
       "    <tr>\n",
       "      <th>3</th>\n",
       "      <td>UP_MPNTLCDMRN_1</td>\n",
       "      <td>2017-01-01 02:00:00</td>\n",
       "      <td>0.000</td>\n",
       "      <td>-0.331075</td>\n",
       "      <td>4.911959</td>\n",
       "      <td>1028.162779</td>\n",
       "      <td>983.062126</td>\n",
       "      <td>-1.734723e-15</td>\n",
       "      <td>1.017035</td>\n",
       "      <td>1.846413</td>\n",
       "      <td>...</td>\n",
       "      <td>0</td>\n",
       "      <td>UP_MPNTLCDMRN_1</td>\n",
       "      <td>2</td>\n",
       "      <td>1</td>\n",
       "      <td>6</td>\n",
       "      <td>1</td>\n",
       "      <td>UP_MPNTLCDMRN_1</td>\n",
       "      <td>3.0</td>\n",
       "      <td>6</td>\n",
       "      <td>2</td>\n",
       "    </tr>\n",
       "    <tr>\n",
       "      <th>4</th>\n",
       "      <td>UP_MPNTLCDMRN_1</td>\n",
       "      <td>2017-01-01 03:00:00</td>\n",
       "      <td>0.000</td>\n",
       "      <td>-0.668040</td>\n",
       "      <td>4.464566</td>\n",
       "      <td>1027.616920</td>\n",
       "      <td>982.551146</td>\n",
       "      <td>-1.734723e-15</td>\n",
       "      <td>0.715094</td>\n",
       "      <td>1.450024</td>\n",
       "      <td>...</td>\n",
       "      <td>0</td>\n",
       "      <td>UP_MPNTLCDMRN_1</td>\n",
       "      <td>3</td>\n",
       "      <td>1</td>\n",
       "      <td>6</td>\n",
       "      <td>1</td>\n",
       "      <td>UP_MPNTLCDMRN_1</td>\n",
       "      <td>4.0</td>\n",
       "      <td>6</td>\n",
       "      <td>3</td>\n",
       "    </tr>\n",
       "  </tbody>\n",
       "</table>\n",
       "<p>5 rows × 31 columns</p>\n",
       "</div>"
      ],
      "text/plain": [
       "     plant_name_up                 time      kwh  dew_point_2m_C  \\\n",
       "0  UP_MPNTLCDMRN_1  2016-12-31 23:00:00  225.000       -0.902831   \n",
       "1  UP_MPNTLCDMRN_1  2017-01-01 00:00:00   65.625       -0.783022   \n",
       "2  UP_MPNTLCDMRN_1  2017-01-01 01:00:00   31.875       -0.565645   \n",
       "3  UP_MPNTLCDMRN_1  2017-01-01 02:00:00    0.000       -0.331075   \n",
       "4  UP_MPNTLCDMRN_1  2017-01-01 03:00:00    0.000       -0.668040   \n",
       "\n",
       "   temperature_2m_C  msl_pressure_hPa  sfc_pressure_hPa  precipitation_1h_mm  \\\n",
       "0          4.980909       1028.935552        983.718765         0.000000e+00   \n",
       "1          4.890773       1028.693079        983.524042        -1.734723e-15   \n",
       "2          4.807044       1028.156679        983.034144        -1.734723e-15   \n",
       "3          4.911959       1028.162779        983.062126        -1.734723e-15   \n",
       "4          4.464566       1027.616920        982.551146        -1.734723e-15   \n",
       "\n",
       "   wind_speed_mean_10m_1h_ms  wind_speed_mean_100m_1h_ms  ...  \\\n",
       "0                   1.381208                    2.254668  ...   \n",
       "1                   1.278206                    2.224647  ...   \n",
       "2                   1.211802                    2.130597  ...   \n",
       "3                   1.017035                    1.846413  ...   \n",
       "4                   0.715094                    1.450024  ...   \n",
       "\n",
       "   days_from_start               id  hour  day  day_of_week  month  \\\n",
       "0                0  UP_MPNTLCDMRN_1    23   31            5     12   \n",
       "1                0  UP_MPNTLCDMRN_1     0    1            6      1   \n",
       "2                0  UP_MPNTLCDMRN_1     1    1            6      1   \n",
       "3                0  UP_MPNTLCDMRN_1     2    1            6      1   \n",
       "4                0  UP_MPNTLCDMRN_1     3    1            6      1   \n",
       "\n",
       "    categorical_id  hours_from_start  categorical_day_of_week  \\\n",
       "0  UP_MPNTLCDMRN_1               0.0                        5   \n",
       "1  UP_MPNTLCDMRN_1               1.0                        6   \n",
       "2  UP_MPNTLCDMRN_1               2.0                        6   \n",
       "3  UP_MPNTLCDMRN_1               3.0                        6   \n",
       "4  UP_MPNTLCDMRN_1               4.0                        6   \n",
       "\n",
       "   categorical_hour  \n",
       "0                23  \n",
       "1                 0  \n",
       "2                 1  \n",
       "3                 2  \n",
       "4                 3  \n",
       "\n",
       "[5 rows x 31 columns]"
      ]
     },
     "execution_count": 7,
     "metadata": {},
     "output_type": "execute_result"
    }
   ],
   "source": [
    "raw_data.head()"
   ]
  },
  {
   "cell_type": "code",
   "execution_count": 8,
   "metadata": {},
   "outputs": [],
   "source": [
    "raw_data['time'] = raw_data['time'].astype('datetime64[s]')"
   ]
  },
  {
   "cell_type": "code",
   "execution_count": 17,
   "metadata": {},
   "outputs": [],
   "source": [
    "config = ExperimentConfig('sorgenia_wind', r'C:\\Users\\Lorenzo\\PycharmProjects\\TFT\\outputs')"
   ]
  },
  {
   "cell_type": "code",
   "execution_count": 18,
   "metadata": {},
   "outputs": [],
   "source": [
    "formatter: SorgeniaFormatter = config.make_data_formatter()"
   ]
  },
  {
   "cell_type": "code",
   "execution_count": 19,
   "metadata": {},
   "outputs": [],
   "source": [
    "data_csv_path: str = config.data_csv_path"
   ]
  },
  {
   "cell_type": "markdown",
   "metadata": {},
   "source": [
    "SPLIT DATA"
   ]
  },
  {
   "cell_type": "code",
   "execution_count": 12,
   "metadata": {},
   "outputs": [
    {
     "name": "stdout",
     "output_type": "stream",
     "text": [
      "Setting scalers with training data...\n"
     ]
    }
   ],
   "source": [
    "train, valid, test = formatter.split_data(raw_data)"
   ]
  },
  {
   "cell_type": "code",
   "execution_count": null,
   "metadata": {},
   "outputs": [],
   "source": [
    "test['time'].unique()[168]"
   ]
  },
  {
   "cell_type": "markdown",
   "metadata": {},
   "source": [
    "PICK OBSERVED DATA"
   ]
  },
  {
   "cell_type": "code",
   "execution_count": null,
   "metadata": {},
   "outputs": [],
   "source": [
    "forecast_time: str = '2020-08-13 22:00:00'"
   ]
  },
  {
   "cell_type": "code",
   "execution_count": null,
   "metadata": {},
   "outputs": [],
   "source": [
    "obs: DataFrame = test[test['time']<= forecast_time]"
   ]
  },
  {
   "cell_type": "code",
   "execution_count": null,
   "metadata": {},
   "outputs": [],
   "source": [
    "obs"
   ]
  },
  {
   "cell_type": "code",
   "execution_count": null,
   "metadata": {},
   "outputs": [],
   "source": [
    "assert obs.shape[0] == 7*168"
   ]
  },
  {
   "cell_type": "markdown",
   "metadata": {},
   "source": [
    "PICK KNOWN DATA"
   ]
  },
  {
   "cell_type": "code",
   "execution_count": null,
   "metadata": {},
   "outputs": [],
   "source": [
    "known: DataFrame = test[(test['time'] > forecast_time) & (test['time'] <= pd.Timestamp(forecast_time) + pd.Timedelta(hours=12))]"
   ]
  },
  {
   "cell_type": "code",
   "execution_count": null,
   "metadata": {},
   "outputs": [],
   "source": [
    "known"
   ]
  },
  {
   "cell_type": "code",
   "execution_count": null,
   "metadata": {},
   "outputs": [],
   "source": [
    "assert known.shape[0] == 12*7\n",
    "assert len(known['time'].unique()) == 12"
   ]
  },
  {
   "cell_type": "markdown",
   "metadata": {},
   "source": [
    "CONCAT THE TWO DF"
   ]
  },
  {
   "cell_type": "code",
   "execution_count": null,
   "metadata": {},
   "outputs": [],
   "source": [
    "inference_data: DataFrame = pd.concat([obs, known], axis=0, ignore_index=True)\n",
    "inference_data: DataFrame = inference_data.sort_values(by=['plant_name_up','time'], ascending=True, ignore_index=True)"
   ]
  },
  {
   "cell_type": "code",
   "execution_count": null,
   "metadata": {},
   "outputs": [],
   "source": [
    "inference_data"
   ]
  },
  {
   "cell_type": "code",
   "execution_count": null,
   "metadata": {},
   "outputs": [],
   "source": [
    "assert inference_data.shape[0] == 7*168 + 7*12"
   ]
  },
  {
   "cell_type": "code",
   "execution_count": null,
   "metadata": {},
   "outputs": [],
   "source": [
    "inference_data.columns"
   ]
  },
  {
   "cell_type": "markdown",
   "metadata": {},
   "source": [
    "PREPARE INFRASTRUCTURE FOR TRAINING"
   ]
  },
  {
   "cell_type": "code",
   "execution_count": 20,
   "metadata": {},
   "outputs": [
    {
     "name": "stdout",
     "output_type": "stream",
     "text": [
      "Default GPU Device:/device:GPU:0\n"
     ]
    }
   ],
   "source": [
    "if tf.test.gpu_device_name(): \n",
    "    print('Default GPU Device:{}'.format(tf.test.gpu_device_name()))\n",
    "else:\n",
    "    print(\"Please install GPU version of TF\")"
   ]
  },
  {
   "cell_type": "code",
   "execution_count": 21,
   "metadata": {},
   "outputs": [],
   "source": [
    "gpu: List[PhysicalDevice] = tf.config.experimental.list_physical_devices('GPU')\n",
    "tf.config.experimental.set_memory_growth(gpu[0], True)"
   ]
  },
  {
   "cell_type": "code",
   "execution_count": 22,
   "metadata": {},
   "outputs": [
    {
     "name": "stdout",
     "output_type": "stream",
     "text": [
      "Selecting GPU ID=0\n"
     ]
    }
   ],
   "source": [
    "# Tensorflow setup\n",
    "# default_keras_session: Session = tf1.keras.backend.get_session()\n",
    "tf_config: ConfigProto = utils.get_default_tensorflow_config(tf_device=\"gpu\", gpu_id=0)"
   ]
  },
  {
   "cell_type": "code",
   "execution_count": 23,
   "metadata": {},
   "outputs": [
    {
     "data": {
      "text/plain": [
       "{'total_time_steps': 180,\n",
       " 'num_encoder_steps': 168,\n",
       " 'num_epochs': 100,\n",
       " 'early_stopping_patience': 10,\n",
       " 'multiprocessing_workers': 5,\n",
       " 'column_definition': [('id', <DataTypes.REAL_VALUED: 0>, <InputTypes.ID: 4>),\n",
       "  ('time', <DataTypes.DATE: 2>, <InputTypes.TIME: 5>),\n",
       "  ('kwh', <DataTypes.REAL_VALUED: 0>, <InputTypes.TARGET: 0>),\n",
       "  ('hour', <DataTypes.REAL_VALUED: 0>, <InputTypes.KNOWN_INPUT: 2>),\n",
       "  ('day_of_week', <DataTypes.REAL_VALUED: 0>, <InputTypes.KNOWN_INPUT: 2>),\n",
       "  ('hours_from_start',\n",
       "   <DataTypes.REAL_VALUED: 0>,\n",
       "   <InputTypes.KNOWN_INPUT: 2>),\n",
       "  ('dew_point_2m_C',\n",
       "   <DataTypes.REAL_VALUED: 0>,\n",
       "   <InputTypes.OBSERVED_INPUT: 1>),\n",
       "  ('temperature_2m_C',\n",
       "   <DataTypes.REAL_VALUED: 0>,\n",
       "   <InputTypes.OBSERVED_INPUT: 1>),\n",
       "  ('msl_pressure_hPa',\n",
       "   <DataTypes.REAL_VALUED: 0>,\n",
       "   <InputTypes.OBSERVED_INPUT: 1>),\n",
       "  ('sfc_pressure_hPa',\n",
       "   <DataTypes.REAL_VALUED: 0>,\n",
       "   <InputTypes.OBSERVED_INPUT: 1>),\n",
       "  ('precipitation_1h_mm',\n",
       "   <DataTypes.REAL_VALUED: 0>,\n",
       "   <InputTypes.OBSERVED_INPUT: 1>),\n",
       "  ('wind_speed_mean_10m_1h_ms',\n",
       "   <DataTypes.REAL_VALUED: 0>,\n",
       "   <InputTypes.KNOWN_INPUT: 2>),\n",
       "  ('wind_speed_mean_100m_1h_ms',\n",
       "   <DataTypes.REAL_VALUED: 0>,\n",
       "   <InputTypes.KNOWN_INPUT: 2>),\n",
       "  ('wind_dir_mean_100m_1h_d',\n",
       "   <DataTypes.REAL_VALUED: 0>,\n",
       "   <InputTypes.KNOWN_INPUT: 2>),\n",
       "  ('wind_dir_mean_10m_1h_d',\n",
       "   <DataTypes.REAL_VALUED: 0>,\n",
       "   <InputTypes.KNOWN_INPUT: 2>),\n",
       "  ('wind_gusts_10m_1h_ms',\n",
       "   <DataTypes.REAL_VALUED: 0>,\n",
       "   <InputTypes.KNOWN_INPUT: 2>),\n",
       "  ('wind_gusts_10m_ms',\n",
       "   <DataTypes.REAL_VALUED: 0>,\n",
       "   <InputTypes.KNOWN_INPUT: 2>),\n",
       "  ('Day sin', <DataTypes.REAL_VALUED: 0>, <InputTypes.KNOWN_INPUT: 2>),\n",
       "  ('Day cos', <DataTypes.REAL_VALUED: 0>, <InputTypes.KNOWN_INPUT: 2>),\n",
       "  ('Year sin', <DataTypes.REAL_VALUED: 0>, <InputTypes.KNOWN_INPUT: 2>),\n",
       "  ('Year cos', <DataTypes.REAL_VALUED: 0>, <InputTypes.KNOWN_INPUT: 2>),\n",
       "  ('categorical_id',\n",
       "   <DataTypes.CATEGORICAL: 1>,\n",
       "   <InputTypes.STATIC_INPUT: 3>)],\n",
       " 'input_size': 20,\n",
       " 'output_size': 1,\n",
       " 'category_counts': None,\n",
       " 'input_obs_loc': [0],\n",
       " 'static_input_loc': [19],\n",
       " 'known_regular_inputs': [1, 2, 3, 9, 10, 11, 12, 13, 14, 15, 16, 17, 18],\n",
       " 'known_categorical_inputs': [0]}"
      ]
     },
     "execution_count": 23,
     "metadata": {},
     "output_type": "execute_result"
    }
   ],
   "source": [
    "fixed_params: Dict = formatter.get_experiment_params()\n",
    "fixed_params"
   ]
  },
  {
   "cell_type": "code",
   "execution_count": null,
   "metadata": {},
   "outputs": [],
   "source": [
    "# # Sets up default params\n",
    "# fixed_params: Dict = formatter.get_experiment_params()\n",
    "params: Dict = formatter.get_default_model_params()\n",
    "params[\"model_folder\"]: str = os.path.join(config.model_folder, \"fixed\")\n",
    "model_folder = os.path.join(config.model_folder, \"fixed\")"
   ]
  },
  {
   "cell_type": "code",
   "execution_count": null,
   "metadata": {},
   "outputs": [],
   "source": [
    "params"
   ]
  },
  {
   "cell_type": "code",
   "execution_count": null,
   "metadata": {},
   "outputs": [],
   "source": [
    "# Sets up hyperparam manager\n",
    "print(\"*** Loading hyperparm manager ***\")\n",
    "opt_manager = HyperparamOptManager({k: [params[k]] for k in params},\n",
    "                                   fixed_params, model_folder)"
   ]
  },
  {
   "cell_type": "code",
   "execution_count": null,
   "metadata": {},
   "outputs": [],
   "source": [
    "# opt_manager.hyperparam_folder = r'C:\\Users\\Lorenzo\\savedmodels_sorgenia_wind_mm+cop'\n",
    "model_folder: str = opt_manager.hyperparam_folder\n",
    "model_folder"
   ]
  },
  {
   "cell_type": "markdown",
   "metadata": {},
   "source": [
    "# PREDICTION"
   ]
  },
  {
   "cell_type": "code",
   "execution_count": null,
   "metadata": {},
   "outputs": [],
   "source": [
    "t0: float = time.perf_counter()\n",
    "print(\"*** Computing Preds ***\")\n",
    "tf1.reset_default_graph()\n",
    "with tf.Graph().as_default(), tf1.Session(config=tf_config) as sess:\n",
    "    tf1.keras.backend.set_session(sess)\n",
    "    params: Dict = opt_manager.get_next_parameters()\n",
    "    print(params)\n",
    "    params['exp_name'] = 'sorgenia_wind'\n",
    "    params['data_folder'] = config.data_csv_path\n",
    "    model = TemporalFusionTransformer(params, use_cudnn=True)\n",
    "    params.pop('exp_name', None)\n",
    "    params.pop('data_folder', None)\n",
    "    # load model\n",
    "    model.load(model_folder, use_keras_loadings=True)\n",
    "    \n",
    "#     output_map: Dict = model.predict(inference_data, return_targets=False)\n",
    "#     p50_forecast: DataFrame = formatter.format_predictions(output_map.get(\"p50\"))\n",
    "\n",
    "t1: float = time.perf_counter()\n",
    "print(\"Time elapsed \", t1-t0)"
   ]
  },
  {
   "cell_type": "code",
   "execution_count": null,
   "metadata": {},
   "outputs": [],
   "source": [
    "p50_forecast"
   ]
  },
  {
   "cell_type": "code",
   "execution_count": null,
   "metadata": {},
   "outputs": [],
   "source": []
  }
 ],
 "metadata": {
  "kernelspec": {
   "display_name": "tft",
   "language": "python",
   "name": "tft"
  },
  "language_info": {
   "codemirror_mode": {
    "name": "ipython",
    "version": 3
   },
   "file_extension": ".py",
   "mimetype": "text/x-python",
   "name": "python",
   "nbconvert_exporter": "python",
   "pygments_lexer": "ipython3",
   "version": "3.7.9"
  }
 },
 "nbformat": 4,
 "nbformat_minor": 4
}
