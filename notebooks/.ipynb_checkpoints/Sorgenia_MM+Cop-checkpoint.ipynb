{
 "cells": [
  {
   "cell_type": "code",
   "execution_count": null,
   "metadata": {},
   "outputs": [],
   "source": []
  },
  {
   "cell_type": "code",
   "execution_count": null,
   "metadata": {},
   "outputs": [],
   "source": [
    "import sys\n",
    "sys.path.insert(0, '..')"
   ]
  },
  {
   "cell_type": "code",
   "execution_count": null,
   "metadata": {},
   "outputs": [],
   "source": [
    "from data_formatters.base import GenericDataFormatter, InputTypes, DataTypes\n",
    "from data_formatters.sorgenia_wind import SorgeniaFormatter\n",
    "from expt_settings.configs import ExperimentConfig\n",
    "from libs.hyperparam_opt import HyperparamOptManager\n",
    "from libs.tft_model import TemporalFusionTransformer\n",
    "import libs.utils as utils\n",
    "import os\n",
    "from os import getenv\n",
    "import pandas as pd\n",
    "from pandas import DataFrame, Series, Timestamp, Index\n",
    "from tqdm import tqdm"
   ]
  },
  {
   "cell_type": "code",
   "execution_count": null,
   "metadata": {},
   "outputs": [],
   "source": [
    "import numpy as np\n",
    "import tensorflow as tf\n",
    "import tensorflow.compat.v1 as tf1\n",
    "from tensorflow.compat.v1 import Session, ConfigProto\n",
    "from tensorflow.python.eager.context import PhysicalDevice\n",
    "from typing import Dict, List, Union, Generator, Optional\n",
    "from numpy import load\n",
    "import plotly.graph_objects as go\n",
    "from plotly.graph_objects import Figure"
   ]
  },
  {
   "cell_type": "markdown",
   "metadata": {},
   "source": [
    "IMPORT FUNCTIONS TO TRANSFORM DF AND CALCULATE MAPE"
   ]
  },
  {
   "cell_type": "code",
   "execution_count": null,
   "metadata": {},
   "outputs": [],
   "source": [
    "from inference import mape\n",
    "from inference import utils as infutils\n",
    "from script_download_data import preprocess_sorgenia\n",
    "from inference import evaluate"
   ]
  },
  {
   "cell_type": "code",
   "execution_count": null,
   "metadata": {},
   "outputs": [],
   "source": [
    "from psycopg2 import connect, Error, DatabaseError\n",
    "from psycopg2.extensions import connection, cursor\n",
    "from psycopg2.extras import execute_batch"
   ]
  },
  {
   "cell_type": "code",
   "execution_count": null,
   "metadata": {},
   "outputs": [],
   "source": [
    "try:\n",
    "    from dotenv import load_dotenv\n",
    "\n",
    "    load_dotenv()\n",
    "except:\n",
    "    print('No \".env\" file or python-dotenv not installed... Using default env variables...')"
   ]
  },
  {
   "cell_type": "markdown",
   "metadata": {},
   "source": [
    "CALCULATE MAPE"
   ]
  },
  {
   "cell_type": "markdown",
   "metadata": {},
   "source": [
    "Mind you that the training cycle outputs (model weights and predictions files on testset) are in a local path because I trained on the server and then scp'd the data into my machine"
   ]
  },
  {
   "cell_type": "code",
   "execution_count": null,
   "metadata": {},
   "outputs": [],
   "source": [
    "pred_folder: str = r'C:\\Users\\Lorenzo\\savedmodels_sorgenia_wind_mm+cop'"
   ]
  },
  {
   "cell_type": "code",
   "execution_count": null,
   "metadata": {},
   "outputs": [],
   "source": [
    "def list_files(startpath: str):\n",
    "    for root, dirs, files in os.walk(startpath):\n",
    "        level = root.replace(startpath, '').count(os.sep)\n",
    "        indent = ' ' * 4 * (level)\n",
    "        print('{}{}/'.format(indent, os.path.basename(root)))\n",
    "        subindent = ' ' * 4 * (level + 1)\n",
    "        for f in files:\n",
    "            print('{}{}'.format(subindent, f))"
   ]
  },
  {
   "cell_type": "code",
   "execution_count": null,
   "metadata": {},
   "outputs": [],
   "source": [
    "list_files(pred_folder)"
   ]
  },
  {
   "cell_type": "code",
   "execution_count": null,
   "metadata": {},
   "outputs": [],
   "source": [
    "df_mape: DataFrame = evaluate.evaluate(pred_folder, 'mm+cop_forecasts_model', 700)"
   ]
  },
  {
   "cell_type": "code",
   "execution_count": null,
   "metadata": {},
   "outputs": [],
   "source": [
    "df_mape"
   ]
  },
  {
   "cell_type": "markdown",
   "metadata": {},
   "source": [
    "WRITE df_mape to DB"
   ]
  },
  {
   "cell_type": "code",
   "execution_count": null,
   "metadata": {},
   "outputs": [],
   "source": [
    "# def insert_batch(l: List):\n",
    "#     dbname: Optional[str] = getenv('POSTGRES_DB_NAME')\n",
    "#     host: Optional[str] = getenv('POSTGRES_HOST')\n",
    "#     user: Optional[str] = getenv('POSTGRES_USERNAME')\n",
    "#     password: Optional[str] = getenv('POSTGRES_PASSWORD')\n",
    "#     port: Optional[str] = getenv('POSTGRES_PORT')\n",
    "#     table: Optional[str] = getenv('TESTSET_MAPE_TABLE')\n",
    "\n",
    "#     connection: connection = connect(\n",
    "#         f\"host={host} dbname={dbname} user={user} password={password} port={port}\")\n",
    "#     cursor: cursor = connection.cursor()\n",
    "\n",
    "#     sql: str = f\"INSERT INTO {table} VALUES (%s, %s, %s, %s, %s, %s, %s, %s, %s, %s, %s, %s, %s, %s)\"\n",
    "#     try:\n",
    "#         execute_batch(cursor, sql, l)\n",
    "#         connection.commit()\n",
    "#         cursor.close()\n",
    "#     except (Exception, DatabaseError) as err:\n",
    "#         print(err)\n",
    "#     finally:\n",
    "#         if connection is not None:\n",
    "#             connection.close()\n"
   ]
  },
  {
   "cell_type": "code",
   "execution_count": null,
   "metadata": {},
   "outputs": [],
   "source": [
    "# tuples = [tuple(x) for x in df_mape.to_numpy()]"
   ]
  },
  {
   "cell_type": "code",
   "execution_count": null,
   "metadata": {},
   "outputs": [],
   "source": [
    "# insert_batch(tuples)"
   ]
  },
  {
   "cell_type": "code",
   "execution_count": null,
   "metadata": {},
   "outputs": [],
   "source": [
    "df_mape.shape"
   ]
  },
  {
   "cell_type": "markdown",
   "metadata": {},
   "source": [
    "PLOT MAPE BOXPLOT"
   ]
  },
  {
   "cell_type": "code",
   "execution_count": null,
   "metadata": {},
   "outputs": [],
   "source": [
    "fig: Figure = evaluate.boxplotter(df_mape)\n",
    "fig.show()"
   ]
  },
  {
   "cell_type": "code",
   "execution_count": null,
   "metadata": {},
   "outputs": [],
   "source": []
  }
 ],
 "metadata": {
  "kernelspec": {
   "display_name": "tft",
   "language": "python",
   "name": "tft"
  },
  "language_info": {
   "codemirror_mode": {
    "name": "ipython",
    "version": 3
   },
   "file_extension": ".py",
   "mimetype": "text/x-python",
   "name": "python",
   "nbconvert_exporter": "python",
   "pygments_lexer": "ipython3",
   "version": "3.7.9"
  }
 },
 "nbformat": 4,
 "nbformat_minor": 4
}
