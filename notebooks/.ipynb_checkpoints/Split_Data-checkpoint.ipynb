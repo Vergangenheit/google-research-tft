{
 "cells": [
  {
   "cell_type": "markdown",
   "metadata": {},
   "source": [
    "analyze split_data method from data_formatter class(GenericDataFormatter)"
   ]
  },
  {
   "cell_type": "code",
   "execution_count": 1,
   "metadata": {},
   "outputs": [],
   "source": [
    "import numpy as np\n",
    "import pandas as pd\n",
    "from pandas import DataFrame, Series\n",
    "import tensorflow as tf\n",
    "import tensorflow.compat.v1 as tf1\n",
    "from tensorflow.compat.v1 import Session, ConfigProto\n",
    "from tensorflow.python.eager.context import PhysicalDevice\n",
    "from typing import Dict, List, Union, Generator\n",
    "import os\n",
    "from numpy import load"
   ]
  },
  {
   "cell_type": "code",
   "execution_count": 2,
   "metadata": {},
   "outputs": [],
   "source": [
    "import sys\n",
    "sys.path.insert(0, '..')"
   ]
  },
  {
   "cell_type": "code",
   "execution_count": 11,
   "metadata": {},
   "outputs": [],
   "source": [
    "from data_formatters.base import GenericDataFormatter, InputTypes, DataTypes\n",
    "from data_formatters.sorgenia_wind import SorgeniaFormatter"
   ]
  },
  {
   "cell_type": "code",
   "execution_count": 4,
   "metadata": {},
   "outputs": [],
   "source": [
    "from expt_settings.configs import ExperimentConfig\n",
    "from libs.hyperparam_opt import HyperparamOptManager\n",
    "from libs.tft_model import TemporalFusionTransformer\n",
    "import libs.utils as utils"
   ]
  },
  {
   "cell_type": "code",
   "execution_count": 5,
   "metadata": {},
   "outputs": [
    {
     "name": "stdout",
     "output_type": "stream",
     "text": [
      "Default GPU Device:/device:GPU:0\n"
     ]
    }
   ],
   "source": [
    "if tf.test.gpu_device_name(): \n",
    "    print('Default GPU Device:{}'.format(tf.test.gpu_device_name()))\n",
    "else:\n",
    "    print(\"Please install GPU version of TF\")"
   ]
  },
  {
   "cell_type": "code",
   "execution_count": 6,
   "metadata": {},
   "outputs": [],
   "source": [
    "gpu: List[PhysicalDevice] = tf.config.experimental.list_physical_devices('GPU')\n",
    "tf.config.experimental.set_memory_growth(gpu[0], True)"
   ]
  },
  {
   "cell_type": "code",
   "execution_count": 7,
   "metadata": {},
   "outputs": [
    {
     "name": "stdout",
     "output_type": "stream",
     "text": [
      "Selecting GPU ID=0\n"
     ]
    }
   ],
   "source": [
    "# Tensorflow setup\n",
    "default_keras_session: Session = tf1.keras.backend.get_session()\n",
    "tf_config: ConfigProto = utils.get_default_tensorflow_config(tf_device=\"gpu\", gpu_id=0)"
   ]
  },
  {
   "cell_type": "code",
   "execution_count": 8,
   "metadata": {},
   "outputs": [],
   "source": [
    "file_path: str = r'C:\\Users\\Lorenzo\\PycharmProjects\\TFT\\outputs\\data\\sorgenia_wind\\data\\sorgenia_wind\\data\\sorgenia_final.csv'"
   ]
  },
  {
   "cell_type": "code",
   "execution_count": 9,
   "metadata": {},
   "outputs": [],
   "source": [
    "raw_data: DataFrame = pd.read_csv(file_path)"
   ]
  },
  {
   "cell_type": "code",
   "execution_count": 12,
   "metadata": {},
   "outputs": [
    {
     "data": {
      "text/html": [
       "<div>\n",
       "<style scoped>\n",
       "    .dataframe tbody tr th:only-of-type {\n",
       "        vertical-align: middle;\n",
       "    }\n",
       "\n",
       "    .dataframe tbody tr th {\n",
       "        vertical-align: top;\n",
       "    }\n",
       "\n",
       "    .dataframe thead th {\n",
       "        text-align: right;\n",
       "    }\n",
       "</style>\n",
       "<table border=\"1\" class=\"dataframe\">\n",
       "  <thead>\n",
       "    <tr style=\"text-align: right;\">\n",
       "      <th></th>\n",
       "      <th>plant_name_up</th>\n",
       "      <th>time</th>\n",
       "      <th>kwh</th>\n",
       "      <th>dew_point_2m_C</th>\n",
       "      <th>temperature_2m_C</th>\n",
       "      <th>msl_pressure_hPa</th>\n",
       "      <th>sfc_pressure_hPa</th>\n",
       "      <th>precipitation_1h_mm</th>\n",
       "      <th>wind_speed_mean_10m_1h_ms</th>\n",
       "      <th>wind_speed_mean_100m_1h_ms</th>\n",
       "      <th>...</th>\n",
       "      <th>days_from_start</th>\n",
       "      <th>id</th>\n",
       "      <th>hour</th>\n",
       "      <th>day</th>\n",
       "      <th>day_of_week</th>\n",
       "      <th>month</th>\n",
       "      <th>categorical_id</th>\n",
       "      <th>hours_from_start</th>\n",
       "      <th>categorical_day_of_week</th>\n",
       "      <th>categorical_hour</th>\n",
       "    </tr>\n",
       "  </thead>\n",
       "  <tbody>\n",
       "    <tr>\n",
       "      <th>0</th>\n",
       "      <td>UP_MPNTLCDMRN_1</td>\n",
       "      <td>2016-12-31 23:00:00</td>\n",
       "      <td>225.000</td>\n",
       "      <td>-0.902831</td>\n",
       "      <td>4.980909</td>\n",
       "      <td>1028.935552</td>\n",
       "      <td>983.718765</td>\n",
       "      <td>0.000000e+00</td>\n",
       "      <td>1.381208</td>\n",
       "      <td>2.254668</td>\n",
       "      <td>...</td>\n",
       "      <td>0</td>\n",
       "      <td>UP_MPNTLCDMRN_1</td>\n",
       "      <td>23</td>\n",
       "      <td>31</td>\n",
       "      <td>5</td>\n",
       "      <td>12</td>\n",
       "      <td>UP_MPNTLCDMRN_1</td>\n",
       "      <td>0.0</td>\n",
       "      <td>5</td>\n",
       "      <td>23</td>\n",
       "    </tr>\n",
       "    <tr>\n",
       "      <th>1</th>\n",
       "      <td>UP_MPNTLCDMRN_1</td>\n",
       "      <td>2017-01-01 00:00:00</td>\n",
       "      <td>65.625</td>\n",
       "      <td>-0.783022</td>\n",
       "      <td>4.890773</td>\n",
       "      <td>1028.693079</td>\n",
       "      <td>983.524042</td>\n",
       "      <td>-1.734723e-15</td>\n",
       "      <td>1.278206</td>\n",
       "      <td>2.224647</td>\n",
       "      <td>...</td>\n",
       "      <td>0</td>\n",
       "      <td>UP_MPNTLCDMRN_1</td>\n",
       "      <td>0</td>\n",
       "      <td>1</td>\n",
       "      <td>6</td>\n",
       "      <td>1</td>\n",
       "      <td>UP_MPNTLCDMRN_1</td>\n",
       "      <td>1.0</td>\n",
       "      <td>6</td>\n",
       "      <td>0</td>\n",
       "    </tr>\n",
       "    <tr>\n",
       "      <th>2</th>\n",
       "      <td>UP_MPNTLCDMRN_1</td>\n",
       "      <td>2017-01-01 01:00:00</td>\n",
       "      <td>31.875</td>\n",
       "      <td>-0.565645</td>\n",
       "      <td>4.807044</td>\n",
       "      <td>1028.156679</td>\n",
       "      <td>983.034144</td>\n",
       "      <td>-1.734723e-15</td>\n",
       "      <td>1.211802</td>\n",
       "      <td>2.130597</td>\n",
       "      <td>...</td>\n",
       "      <td>0</td>\n",
       "      <td>UP_MPNTLCDMRN_1</td>\n",
       "      <td>1</td>\n",
       "      <td>1</td>\n",
       "      <td>6</td>\n",
       "      <td>1</td>\n",
       "      <td>UP_MPNTLCDMRN_1</td>\n",
       "      <td>2.0</td>\n",
       "      <td>6</td>\n",
       "      <td>1</td>\n",
       "    </tr>\n",
       "    <tr>\n",
       "      <th>3</th>\n",
       "      <td>UP_MPNTLCDMRN_1</td>\n",
       "      <td>2017-01-01 02:00:00</td>\n",
       "      <td>0.000</td>\n",
       "      <td>-0.331075</td>\n",
       "      <td>4.911959</td>\n",
       "      <td>1028.162779</td>\n",
       "      <td>983.062126</td>\n",
       "      <td>-1.734723e-15</td>\n",
       "      <td>1.017035</td>\n",
       "      <td>1.846413</td>\n",
       "      <td>...</td>\n",
       "      <td>0</td>\n",
       "      <td>UP_MPNTLCDMRN_1</td>\n",
       "      <td>2</td>\n",
       "      <td>1</td>\n",
       "      <td>6</td>\n",
       "      <td>1</td>\n",
       "      <td>UP_MPNTLCDMRN_1</td>\n",
       "      <td>3.0</td>\n",
       "      <td>6</td>\n",
       "      <td>2</td>\n",
       "    </tr>\n",
       "    <tr>\n",
       "      <th>4</th>\n",
       "      <td>UP_MPNTLCDMRN_1</td>\n",
       "      <td>2017-01-01 03:00:00</td>\n",
       "      <td>0.000</td>\n",
       "      <td>-0.668040</td>\n",
       "      <td>4.464566</td>\n",
       "      <td>1027.616920</td>\n",
       "      <td>982.551146</td>\n",
       "      <td>-1.734723e-15</td>\n",
       "      <td>0.715094</td>\n",
       "      <td>1.450024</td>\n",
       "      <td>...</td>\n",
       "      <td>0</td>\n",
       "      <td>UP_MPNTLCDMRN_1</td>\n",
       "      <td>3</td>\n",
       "      <td>1</td>\n",
       "      <td>6</td>\n",
       "      <td>1</td>\n",
       "      <td>UP_MPNTLCDMRN_1</td>\n",
       "      <td>4.0</td>\n",
       "      <td>6</td>\n",
       "      <td>3</td>\n",
       "    </tr>\n",
       "  </tbody>\n",
       "</table>\n",
       "<p>5 rows × 31 columns</p>\n",
       "</div>"
      ],
      "text/plain": [
       "     plant_name_up                 time      kwh  dew_point_2m_C  \\\n",
       "0  UP_MPNTLCDMRN_1  2016-12-31 23:00:00  225.000       -0.902831   \n",
       "1  UP_MPNTLCDMRN_1  2017-01-01 00:00:00   65.625       -0.783022   \n",
       "2  UP_MPNTLCDMRN_1  2017-01-01 01:00:00   31.875       -0.565645   \n",
       "3  UP_MPNTLCDMRN_1  2017-01-01 02:00:00    0.000       -0.331075   \n",
       "4  UP_MPNTLCDMRN_1  2017-01-01 03:00:00    0.000       -0.668040   \n",
       "\n",
       "   temperature_2m_C  msl_pressure_hPa  sfc_pressure_hPa  precipitation_1h_mm  \\\n",
       "0          4.980909       1028.935552        983.718765         0.000000e+00   \n",
       "1          4.890773       1028.693079        983.524042        -1.734723e-15   \n",
       "2          4.807044       1028.156679        983.034144        -1.734723e-15   \n",
       "3          4.911959       1028.162779        983.062126        -1.734723e-15   \n",
       "4          4.464566       1027.616920        982.551146        -1.734723e-15   \n",
       "\n",
       "   wind_speed_mean_10m_1h_ms  wind_speed_mean_100m_1h_ms  ...  \\\n",
       "0                   1.381208                    2.254668  ...   \n",
       "1                   1.278206                    2.224647  ...   \n",
       "2                   1.211802                    2.130597  ...   \n",
       "3                   1.017035                    1.846413  ...   \n",
       "4                   0.715094                    1.450024  ...   \n",
       "\n",
       "   days_from_start               id  hour  day  day_of_week  month  \\\n",
       "0                0  UP_MPNTLCDMRN_1    23   31            5     12   \n",
       "1                0  UP_MPNTLCDMRN_1     0    1            6      1   \n",
       "2                0  UP_MPNTLCDMRN_1     1    1            6      1   \n",
       "3                0  UP_MPNTLCDMRN_1     2    1            6      1   \n",
       "4                0  UP_MPNTLCDMRN_1     3    1            6      1   \n",
       "\n",
       "    categorical_id  hours_from_start  categorical_day_of_week  \\\n",
       "0  UP_MPNTLCDMRN_1               0.0                        5   \n",
       "1  UP_MPNTLCDMRN_1               1.0                        6   \n",
       "2  UP_MPNTLCDMRN_1               2.0                        6   \n",
       "3  UP_MPNTLCDMRN_1               3.0                        6   \n",
       "4  UP_MPNTLCDMRN_1               4.0                        6   \n",
       "\n",
       "   categorical_hour  \n",
       "0                23  \n",
       "1                 0  \n",
       "2                 1  \n",
       "3                 2  \n",
       "4                 3  \n",
       "\n",
       "[5 rows x 31 columns]"
      ]
     },
     "execution_count": 12,
     "metadata": {},
     "output_type": "execute_result"
    }
   ],
   "source": [
    "raw_data.head()"
   ]
  },
  {
   "cell_type": "code",
   "execution_count": 13,
   "metadata": {},
   "outputs": [],
   "source": [
    "config = ExperimentConfig('sorgenia_wind', r'C:\\Users\\Lorenzo\\PycharmProjects\\TFT\\outputs')"
   ]
  },
  {
   "cell_type": "code",
   "execution_count": 14,
   "metadata": {},
   "outputs": [],
   "source": [
    "formatter: SorgeniaFormatter = config.make_data_formatter()"
   ]
  },
  {
   "cell_type": "markdown",
   "metadata": {},
   "source": [
    "# SPLIT THE DATA"
   ]
  },
  {
   "cell_type": "code",
   "execution_count": 15,
   "metadata": {},
   "outputs": [
    {
     "name": "stdout",
     "output_type": "stream",
     "text": [
      "Setting scalers with training data...\n"
     ]
    }
   ],
   "source": [
    "train, valid, test = formatter.split_data(raw_data)"
   ]
  },
  {
   "cell_type": "code",
   "execution_count": 16,
   "metadata": {},
   "outputs": [
    {
     "data": {
      "text/html": [
       "<div>\n",
       "<style scoped>\n",
       "    .dataframe tbody tr th:only-of-type {\n",
       "        vertical-align: middle;\n",
       "    }\n",
       "\n",
       "    .dataframe tbody tr th {\n",
       "        vertical-align: top;\n",
       "    }\n",
       "\n",
       "    .dataframe thead th {\n",
       "        text-align: right;\n",
       "    }\n",
       "</style>\n",
       "<table border=\"1\" class=\"dataframe\">\n",
       "  <thead>\n",
       "    <tr style=\"text-align: right;\">\n",
       "      <th></th>\n",
       "      <th>plant_name_up</th>\n",
       "      <th>time</th>\n",
       "      <th>kwh</th>\n",
       "      <th>dew_point_2m_C</th>\n",
       "      <th>temperature_2m_C</th>\n",
       "      <th>msl_pressure_hPa</th>\n",
       "      <th>sfc_pressure_hPa</th>\n",
       "      <th>precipitation_1h_mm</th>\n",
       "      <th>wind_speed_mean_10m_1h_ms</th>\n",
       "      <th>wind_speed_mean_100m_1h_ms</th>\n",
       "      <th>...</th>\n",
       "      <th>days_from_start</th>\n",
       "      <th>id</th>\n",
       "      <th>hour</th>\n",
       "      <th>day</th>\n",
       "      <th>day_of_week</th>\n",
       "      <th>month</th>\n",
       "      <th>categorical_id</th>\n",
       "      <th>hours_from_start</th>\n",
       "      <th>categorical_day_of_week</th>\n",
       "      <th>categorical_hour</th>\n",
       "    </tr>\n",
       "  </thead>\n",
       "  <tbody>\n",
       "    <tr>\n",
       "      <th>0</th>\n",
       "      <td>UP_MPNTLCDMRN_1</td>\n",
       "      <td>2016-12-31 23:00:00</td>\n",
       "      <td>-0.561958</td>\n",
       "      <td>-2.278493</td>\n",
       "      <td>-1.639455</td>\n",
       "      <td>2.258226</td>\n",
       "      <td>1.593520</td>\n",
       "      <td>-0.191301</td>\n",
       "      <td>-0.684613</td>\n",
       "      <td>-0.611277</td>\n",
       "      <td>...</td>\n",
       "      <td>0</td>\n",
       "      <td>UP_MPNTLCDMRN_1</td>\n",
       "      <td>1.661345</td>\n",
       "      <td>31</td>\n",
       "      <td>1.000944</td>\n",
       "      <td>12</td>\n",
       "      <td>0</td>\n",
       "      <td>-1.731980</td>\n",
       "      <td>5</td>\n",
       "      <td>23</td>\n",
       "    </tr>\n",
       "    <tr>\n",
       "      <th>1</th>\n",
       "      <td>UP_MPNTLCDMRN_1</td>\n",
       "      <td>2017-01-01 00:00:00</td>\n",
       "      <td>-0.688670</td>\n",
       "      <td>-2.255795</td>\n",
       "      <td>-1.651979</td>\n",
       "      <td>2.215322</td>\n",
       "      <td>1.574535</td>\n",
       "      <td>-0.191301</td>\n",
       "      <td>-0.746078</td>\n",
       "      <td>-0.622932</td>\n",
       "      <td>...</td>\n",
       "      <td>0</td>\n",
       "      <td>UP_MPNTLCDMRN_1</td>\n",
       "      <td>-1.661381</td>\n",
       "      <td>1</td>\n",
       "      <td>1.500937</td>\n",
       "      <td>1</td>\n",
       "      <td>0</td>\n",
       "      <td>-1.731839</td>\n",
       "      <td>6</td>\n",
       "      <td>0</td>\n",
       "    </tr>\n",
       "    <tr>\n",
       "      <th>2</th>\n",
       "      <td>UP_MPNTLCDMRN_1</td>\n",
       "      <td>2017-01-01 01:00:00</td>\n",
       "      <td>-0.715503</td>\n",
       "      <td>-2.214612</td>\n",
       "      <td>-1.663613</td>\n",
       "      <td>2.120409</td>\n",
       "      <td>1.526770</td>\n",
       "      <td>-0.191301</td>\n",
       "      <td>-0.785703</td>\n",
       "      <td>-0.659444</td>\n",
       "      <td>...</td>\n",
       "      <td>0</td>\n",
       "      <td>UP_MPNTLCDMRN_1</td>\n",
       "      <td>-1.516914</td>\n",
       "      <td>1</td>\n",
       "      <td>1.500937</td>\n",
       "      <td>1</td>\n",
       "      <td>0</td>\n",
       "      <td>-1.731697</td>\n",
       "      <td>6</td>\n",
       "      <td>1</td>\n",
       "    </tr>\n",
       "    <tr>\n",
       "      <th>3</th>\n",
       "      <td>UP_MPNTLCDMRN_1</td>\n",
       "      <td>2017-01-01 02:00:00</td>\n",
       "      <td>-0.740845</td>\n",
       "      <td>-2.170171</td>\n",
       "      <td>-1.649036</td>\n",
       "      <td>2.121488</td>\n",
       "      <td>1.529499</td>\n",
       "      <td>-0.191301</td>\n",
       "      <td>-0.901926</td>\n",
       "      <td>-0.769771</td>\n",
       "      <td>...</td>\n",
       "      <td>0</td>\n",
       "      <td>UP_MPNTLCDMRN_1</td>\n",
       "      <td>-1.372448</td>\n",
       "      <td>1</td>\n",
       "      <td>1.500937</td>\n",
       "      <td>1</td>\n",
       "      <td>0</td>\n",
       "      <td>-1.731556</td>\n",
       "      <td>6</td>\n",
       "      <td>2</td>\n",
       "    </tr>\n",
       "    <tr>\n",
       "      <th>4</th>\n",
       "      <td>UP_MPNTLCDMRN_1</td>\n",
       "      <td>2017-01-01 03:00:00</td>\n",
       "      <td>-0.740845</td>\n",
       "      <td>-2.234011</td>\n",
       "      <td>-1.711200</td>\n",
       "      <td>2.024902</td>\n",
       "      <td>1.479679</td>\n",
       "      <td>-0.191301</td>\n",
       "      <td>-1.082103</td>\n",
       "      <td>-0.923659</td>\n",
       "      <td>...</td>\n",
       "      <td>0</td>\n",
       "      <td>UP_MPNTLCDMRN_1</td>\n",
       "      <td>-1.227982</td>\n",
       "      <td>1</td>\n",
       "      <td>1.500937</td>\n",
       "      <td>1</td>\n",
       "      <td>0</td>\n",
       "      <td>-1.731415</td>\n",
       "      <td>6</td>\n",
       "      <td>3</td>\n",
       "    </tr>\n",
       "  </tbody>\n",
       "</table>\n",
       "<p>5 rows × 31 columns</p>\n",
       "</div>"
      ],
      "text/plain": [
       "     plant_name_up                 time       kwh  dew_point_2m_C  \\\n",
       "0  UP_MPNTLCDMRN_1  2016-12-31 23:00:00 -0.561958       -2.278493   \n",
       "1  UP_MPNTLCDMRN_1  2017-01-01 00:00:00 -0.688670       -2.255795   \n",
       "2  UP_MPNTLCDMRN_1  2017-01-01 01:00:00 -0.715503       -2.214612   \n",
       "3  UP_MPNTLCDMRN_1  2017-01-01 02:00:00 -0.740845       -2.170171   \n",
       "4  UP_MPNTLCDMRN_1  2017-01-01 03:00:00 -0.740845       -2.234011   \n",
       "\n",
       "   temperature_2m_C  msl_pressure_hPa  sfc_pressure_hPa  precipitation_1h_mm  \\\n",
       "0         -1.639455          2.258226          1.593520            -0.191301   \n",
       "1         -1.651979          2.215322          1.574535            -0.191301   \n",
       "2         -1.663613          2.120409          1.526770            -0.191301   \n",
       "3         -1.649036          2.121488          1.529499            -0.191301   \n",
       "4         -1.711200          2.024902          1.479679            -0.191301   \n",
       "\n",
       "   wind_speed_mean_10m_1h_ms  wind_speed_mean_100m_1h_ms  ...  \\\n",
       "0                  -0.684613                   -0.611277  ...   \n",
       "1                  -0.746078                   -0.622932  ...   \n",
       "2                  -0.785703                   -0.659444  ...   \n",
       "3                  -0.901926                   -0.769771  ...   \n",
       "4                  -1.082103                   -0.923659  ...   \n",
       "\n",
       "   days_from_start               id      hour  day  day_of_week  month  \\\n",
       "0                0  UP_MPNTLCDMRN_1  1.661345   31     1.000944     12   \n",
       "1                0  UP_MPNTLCDMRN_1 -1.661381    1     1.500937      1   \n",
       "2                0  UP_MPNTLCDMRN_1 -1.516914    1     1.500937      1   \n",
       "3                0  UP_MPNTLCDMRN_1 -1.372448    1     1.500937      1   \n",
       "4                0  UP_MPNTLCDMRN_1 -1.227982    1     1.500937      1   \n",
       "\n",
       "   categorical_id  hours_from_start  categorical_day_of_week  categorical_hour  \n",
       "0               0         -1.731980                        5                23  \n",
       "1               0         -1.731839                        6                 0  \n",
       "2               0         -1.731697                        6                 1  \n",
       "3               0         -1.731556                        6                 2  \n",
       "4               0         -1.731415                        6                 3  \n",
       "\n",
       "[5 rows x 31 columns]"
      ]
     },
     "execution_count": 16,
     "metadata": {},
     "output_type": "execute_result"
    }
   ],
   "source": [
    "train.head()"
   ]
  },
  {
   "cell_type": "markdown",
   "metadata": {},
   "source": [
    "looks like the data_formatter scaled \"power_usage\", \"hour\", \"day_of_week\", \"hours_from_start\""
   ]
  },
  {
   "cell_type": "code",
   "execution_count": 17,
   "metadata": {},
   "outputs": [],
   "source": [
    "column_definitions = formatter.get_column_definition()"
   ]
  },
  {
   "cell_type": "code",
   "execution_count": 19,
   "metadata": {},
   "outputs": [],
   "source": [
    "train_samples, valid_samples = formatter.get_num_samples_for_calibration()"
   ]
  },
  {
   "cell_type": "code",
   "execution_count": null,
   "metadata": {},
   "outputs": [],
   "source": [
    "# Sets up default params\n",
    "fixed_params: Dict = formatter.get_experiment_params()\n",
    "params: Dict = formatter.get_default_model_params()\n",
    "params[\"model_folder\"]: str = os.path.join(config.model_folder, \"fixed\")\n",
    "model_folder = os.path.join(config.model_folder, \"fixed\")"
   ]
  },
  {
   "cell_type": "code",
   "execution_count": null,
   "metadata": {},
   "outputs": [],
   "source": [
    "# Sets up hyperparam manager\n",
    "print(\"*** Loading hyperparm manager ***\")\n",
    "opt_manager = HyperparamOptManager({k: [params[k]] for k in params},\n",
    "                                   fixed_params, model_folder)"
   ]
  },
  {
   "cell_type": "code",
   "execution_count": null,
   "metadata": {},
   "outputs": [],
   "source": [
    "model_folder: str = opt_manager.hyperparam_folder"
   ]
  },
  {
   "cell_type": "markdown",
   "metadata": {},
   "source": [
    "# ANALYZE PARAMETERS"
   ]
  },
  {
   "cell_type": "code",
   "execution_count": null,
   "metadata": {},
   "outputs": [],
   "source": [
    "fixed_params.keys()"
   ]
  },
  {
   "cell_type": "code",
   "execution_count": null,
   "metadata": {},
   "outputs": [],
   "source": [
    "#column definition\n",
    "fixed_params.get('column_definition')"
   ]
  },
  {
   "cell_type": "code",
   "execution_count": null,
   "metadata": {},
   "outputs": [],
   "source": [
    "fixed_params.get('known_categorical_inputs')"
   ]
  },
  {
   "cell_type": "markdown",
   "metadata": {},
   "source": [
    "# TRAINING"
   ]
  },
  {
   "cell_type": "code",
   "execution_count": null,
   "metadata": {},
   "outputs": [],
   "source": [
    "print(\"*** Running calibration ***\")\n",
    "print(\"Params Selected:\")\n",
    "for k in params:\n",
    "    print(\"{}: {}\".format(k, params[k]))\n",
    "    \n",
    "best_loss = np.Inf\n",
    "for _ in range(1):\n",
    "    tf1.reset_default_graph()\n",
    "    with tf.Graph().as_default(), tf1.Session(config=tf_config) as sess:\n",
    "        tf1.keras.backend.set_session(sess)\n",
    "        \n",
    "        params: Dict = opt_manager.get_next_parameters()\n",
    "        model: TemporalFusionTransformer = TemporalFusionTransformer(params, use_cudnn=False)\n",
    "\n",
    "        if not os.path.exists(os.path.join(model.data_folder, 'data.npy')) and not model.training_data_cached():\n",
    "            model.cache_batched_data(train, \"train\", num_samples=train_samples)\n",
    "            model.cache_batched_data(valid, \"valid\", num_samples=valid_samples)\n",
    "            \n",
    "        sess.run(tf1.global_variables_initializer())\n",
    "        model.fit() \n",
    "        \n",
    "        val_loss: Series = model.evaluate()\n",
    "            \n",
    "        if val_loss < best_loss:\n",
    "            opt_manager.update_score(params, val_loss, model)\n",
    "            best_loss = val_loss\n",
    "        tf1.keras.backend.set_session(default_keras_session)"
   ]
  },
  {
   "cell_type": "code",
   "execution_count": null,
   "metadata": {},
   "outputs": [],
   "source": [
    "model_ckpt: str = r'C:\\Users\\Lorenzo\\PycharmProjects\\TFT\\outputs\\saved_models\\electricity\\fixed\\TemporalFusionTransformer.check'"
   ]
  },
  {
   "cell_type": "code",
   "execution_count": null,
   "metadata": {},
   "outputs": [],
   "source": [
    "folder: str = r'C:\\Users\\Lorenzo\\PycharmProjects\\TFT\\outputs\\data\\electricity\\data\\electricity'\n",
    "train_size: int = 450000"
   ]
  },
  {
   "cell_type": "code",
   "execution_count": null,
   "metadata": {},
   "outputs": [],
   "source": [
    "def traindata_gen(folder: str, minibatch_size: int) -> Generator:\n",
    "    data: memmap = load(os.path.join(folder, 'data.npy'), mmap_mode='r')\n",
    "    print(type(data))\n",
    "    labels: memmap = load(os.path.join(folder, 'labels.npy'), mmap_mode='r')\n",
    "    active_flags: memmap = load(os.path.join(folder, 'active_flags.npy'), mmap_mode='r')\n",
    "    train_size: Tuple = data.shape\n",
    "    for i in range(train_size[0] // minibatch_size + 1):\n",
    "        upper = min((i + 1) * minibatch_size, train_size[0])\n",
    "\n",
    "        yield data[i * minibatch_size:upper], np.concatenate([labels[i * minibatch_size:upper],\n",
    "                                                                           labels[i * minibatch_size:upper],\n",
    "                                                                           labels[i * minibatch_size:upper]], axis=-1), \\\n",
    "                      active_flags[i * minibatch_size:upper]"
   ]
  },
  {
   "cell_type": "code",
   "execution_count": null,
   "metadata": {},
   "outputs": [],
   "source": [
    "num_batches = 0\n",
    "for data, labels, active_flags in traindata_gen(folder, 64):\n",
    "    num_batches += 1\n",
    "num_batches"
   ]
  },
  {
   "cell_type": "code",
   "execution_count": null,
   "metadata": {},
   "outputs": [],
   "source": [
    "import math\n",
    "math.ceil(50000/64)"
   ]
  },
  {
   "cell_type": "code",
   "execution_count": null,
   "metadata": {},
   "outputs": [],
   "source": []
  }
 ],
 "metadata": {
  "kernelspec": {
   "display_name": "tft",
   "language": "python",
   "name": "tft"
  },
  "language_info": {
   "codemirror_mode": {
    "name": "ipython",
    "version": 3
   },
   "file_extension": ".py",
   "mimetype": "text/x-python",
   "name": "python",
   "nbconvert_exporter": "python",
   "pygments_lexer": "ipython3",
   "version": "3.7.9"
  }
 },
 "nbformat": 4,
 "nbformat_minor": 4
}
