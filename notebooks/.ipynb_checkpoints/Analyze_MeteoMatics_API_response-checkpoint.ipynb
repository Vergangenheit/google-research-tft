{
 "cells": [
  {
   "cell_type": "code",
   "execution_count": 48,
   "metadata": {},
   "outputs": [],
   "source": [
    "import json\n",
    "import os\n",
    "from typing import Dict, List\n",
    "from datetime import datetime"
   ]
  },
  {
   "cell_type": "code",
   "execution_count": 4,
   "metadata": {},
   "outputs": [],
   "source": [
    "path : str = r'C:\\Users\\Lorenzo\\Downloads'"
   ]
  },
  {
   "cell_type": "code",
   "execution_count": 59,
   "metadata": {},
   "outputs": [],
   "source": [
    "with open(os.path.join(path, 'Test2_h13.json')) as f:\n",
    "    text: str = f.read()\n",
    "    data: Dict = json.loads(text)"
   ]
  },
  {
   "cell_type": "code",
   "execution_count": 60,
   "metadata": {},
   "outputs": [
    {
     "name": "stdout",
     "output_type": "stream",
     "text": [
      "3.0\n",
      "omninext\n",
      "2021-05-26T14:18:03Z\n",
      "OK\n"
     ]
    }
   ],
   "source": [
    "print(data.get('version'))\n",
    "print(data.get('user'))\n",
    "print(data.get('dateGenerated'))\n",
    "print(data.get('status'))"
   ]
  },
  {
   "cell_type": "code",
   "execution_count": 61,
   "metadata": {},
   "outputs": [
    {
     "data": {
      "text/plain": [
       "9"
      ]
     },
     "execution_count": 61,
     "metadata": {},
     "output_type": "execute_result"
    }
   ],
   "source": [
    "len(data.get('data'))"
   ]
  },
  {
   "cell_type": "code",
   "execution_count": 62,
   "metadata": {},
   "outputs": [
    {
     "name": "stdout",
     "output_type": "stream",
     "text": [
      "dew_point_2m:C\n",
      "t_2m:C\n",
      "msl_pressure:hPa\n",
      "sfc_pressure:hPa\n",
      "precip_1h:mm\n",
      "wind_speed_mean_10m_1h:ms\n",
      "wind_speed_mean_100m_1h:ms\n",
      "medium_cloud_cover:p\n",
      "high_cloud_cover:p\n"
     ]
    }
   ],
   "source": [
    "for d in data.get('data'):\n",
    "    print(d.get('parameter'))"
   ]
  },
  {
   "cell_type": "code",
   "execution_count": 63,
   "metadata": {},
   "outputs": [],
   "source": [
    "dataGenerated: str = data.get('dateGenerated')"
   ]
  },
  {
   "cell_type": "code",
   "execution_count": 64,
   "metadata": {},
   "outputs": [],
   "source": [
    "dates: List = []\n",
    "for d in data.get('data'):\n",
    "    for cc in d.get('coordinates'):\n",
    "        info: List = cc.get('dates')\n",
    "        for h in info:\n",
    "            date_str: str = h.get('date')\n",
    "            date: datetime = datetime.strptime(date_str, '%Y-%m-%dT%H:%M:%SZ')\n",
    "            dates.append(date)\n",
    "#     print(d.get('coordinates')[0].keys())"
   ]
  },
  {
   "cell_type": "code",
   "execution_count": 65,
   "metadata": {},
   "outputs": [
    {
     "data": {
      "text/plain": [
       "(datetime.datetime(2021, 5, 26, 13, 0), datetime.datetime(2021, 5, 27, 13, 0))"
      ]
     },
     "execution_count": 65,
     "metadata": {},
     "output_type": "execute_result"
    }
   ],
   "source": [
    "min(dates), max(dates)"
   ]
  },
  {
   "cell_type": "code",
   "execution_count": null,
   "metadata": {},
   "outputs": [],
   "source": []
  }
 ],
 "metadata": {
  "kernelspec": {
   "display_name": "tft",
   "language": "python",
   "name": "tft"
  },
  "language_info": {
   "codemirror_mode": {
    "name": "ipython",
    "version": 3
   },
   "file_extension": ".py",
   "mimetype": "text/x-python",
   "name": "python",
   "nbconvert_exporter": "python",
   "pygments_lexer": "ipython3",
   "version": "3.7.9"
  }
 },
 "nbformat": 4,
 "nbformat_minor": 4
}
