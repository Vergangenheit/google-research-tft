{
 "cells": [
  {
   "cell_type": "code",
   "execution_count": 6,
   "metadata": {},
   "outputs": [],
   "source": [
    "from sqlalchemy.engine import Engine, Connection\n",
    "from sqlalchemy import create_engine\n",
    "from os import getenv\n",
    "import pandas as pd\n",
    "from pandas import DataFrame, Series, Timestamp\n",
    "import matplotlib.pyplot as plt\n",
    "from datetime import datetime\n",
    "import datetime as dt\n",
    "import numpy as np\n",
    "from numpy import ndarray\n",
    "import pytz\n",
    "from typing import List"
   ]
  },
  {
   "cell_type": "code",
   "execution_count": 2,
   "metadata": {},
   "outputs": [],
   "source": [
    "import sys\n",
    "sys.path.insert(0, '..')"
   ]
  },
  {
   "cell_type": "code",
   "execution_count": 3,
   "metadata": {},
   "outputs": [],
   "source": [
    "try:\n",
    "    from dotenv import load_dotenv\n",
    "\n",
    "    load_dotenv()\n",
    "except:\n",
    "    print('No \".env\" file or python-dotenv not installed... Using default env variables...')"
   ]
  },
  {
   "cell_type": "code",
   "execution_count": 4,
   "metadata": {},
   "outputs": [],
   "source": [
    "from etl.ETL import db_connection, group_hourly"
   ]
  },
  {
   "cell_type": "code",
   "execution_count": 7,
   "metadata": {},
   "outputs": [],
   "source": [
    "farm_list: List = ['UP_PRCLCDPLRM_1',\n",
    "'UP_PRCLCDMZRD_1',\n",
    "'UP_PRCLCDPRZZ_1',\n",
    "'UP_PRCLCMINEO_1',\n",
    "'UP_PEPIZZA_1',\n",
    "'UP_MPNTLCSMBC_1',\n",
    "'UP_MPNTLCDMRN_1']"
   ]
  },
  {
   "cell_type": "markdown",
   "metadata": {},
   "source": [
    "# EXTRACT DATA FROM ENERGY TABLE"
   ]
  },
  {
   "cell_type": "code",
   "execution_count": 9,
   "metadata": {},
   "outputs": [],
   "source": [
    "# LIVE EMAIL timestamp \n",
    "ts: str = \"2021-07-04 01:00:00\""
   ]
  },
  {
   "cell_type": "code",
   "execution_count": 8,
   "metadata": {},
   "outputs": [],
   "source": [
    "energy_table: str = \"sorgenia_energy\""
   ]
  },
  {
   "cell_type": "code",
   "execution_count": 18,
   "metadata": {},
   "outputs": [],
   "source": [
    "# query_energy: str = \"SELECT * FROM {} WHERE start_date_utc < '{}'\"\n",
    "query_energy: str = \"SELECT * FROM {}\"\n",
    "df_energy: DataFrame = pd.read_sql_query(query_energy.format(energy_table, ts), con=db_connection())\n",
    "df_energy: DataFrame = group_hourly(df_energy)\n",
    "df_energy: DataFrame = df_energy[df_energy['plant_name_up'].isin(farm_list)]"
   ]
  },
  {
   "cell_type": "code",
   "execution_count": 19,
   "metadata": {},
   "outputs": [
    {
     "data": {
      "text/plain": [
       "(Timestamp('2016-12-31 23:00:00'), Timestamp('2021-07-20 03:00:00'))"
      ]
     },
     "execution_count": 19,
     "metadata": {},
     "output_type": "execute_result"
    }
   ],
   "source": [
    "df_energy['time'].min(), df_energy['time'].max()"
   ]
  },
  {
   "cell_type": "code",
   "execution_count": 21,
   "metadata": {},
   "outputs": [
    {
     "data": {
      "text/html": [
       "<div>\n",
       "<style scoped>\n",
       "    .dataframe tbody tr th:only-of-type {\n",
       "        vertical-align: middle;\n",
       "    }\n",
       "\n",
       "    .dataframe tbody tr th {\n",
       "        vertical-align: top;\n",
       "    }\n",
       "\n",
       "    .dataframe thead th {\n",
       "        text-align: right;\n",
       "    }\n",
       "</style>\n",
       "<table border=\"1\" class=\"dataframe\">\n",
       "  <thead>\n",
       "    <tr style=\"text-align: right;\">\n",
       "      <th></th>\n",
       "      <th>plant_name_up</th>\n",
       "      <th>time</th>\n",
       "      <th>kwh</th>\n",
       "    </tr>\n",
       "  </thead>\n",
       "  <tbody>\n",
       "    <tr>\n",
       "      <th>0</th>\n",
       "      <td>UP_MPNTLCDMRN_1</td>\n",
       "      <td>2016-12-31 23:00:00</td>\n",
       "      <td>225.000</td>\n",
       "    </tr>\n",
       "    <tr>\n",
       "      <th>1</th>\n",
       "      <td>UP_MPNTLCDMRN_1</td>\n",
       "      <td>2017-01-01 00:00:00</td>\n",
       "      <td>65.625</td>\n",
       "    </tr>\n",
       "    <tr>\n",
       "      <th>2</th>\n",
       "      <td>UP_MPNTLCDMRN_1</td>\n",
       "      <td>2017-01-01 01:00:00</td>\n",
       "      <td>31.875</td>\n",
       "    </tr>\n",
       "    <tr>\n",
       "      <th>3</th>\n",
       "      <td>UP_MPNTLCDMRN_1</td>\n",
       "      <td>2017-01-01 02:00:00</td>\n",
       "      <td>0.000</td>\n",
       "    </tr>\n",
       "    <tr>\n",
       "      <th>4</th>\n",
       "      <td>UP_MPNTLCDMRN_1</td>\n",
       "      <td>2017-01-01 03:00:00</td>\n",
       "      <td>0.000</td>\n",
       "    </tr>\n",
       "  </tbody>\n",
       "</table>\n",
       "</div>"
      ],
      "text/plain": [
       "     plant_name_up                time      kwh\n",
       "0  UP_MPNTLCDMRN_1 2016-12-31 23:00:00  225.000\n",
       "1  UP_MPNTLCDMRN_1 2017-01-01 00:00:00   65.625\n",
       "2  UP_MPNTLCDMRN_1 2017-01-01 01:00:00   31.875\n",
       "3  UP_MPNTLCDMRN_1 2017-01-01 02:00:00    0.000\n",
       "4  UP_MPNTLCDMRN_1 2017-01-01 03:00:00    0.000"
      ]
     },
     "execution_count": 21,
     "metadata": {},
     "output_type": "execute_result"
    }
   ],
   "source": [
    "df_energy.head()"
   ]
  },
  {
   "cell_type": "markdown",
   "metadata": {},
   "source": [
    "# CHECK MISSING TIMESTAMPS"
   ]
  },
  {
   "cell_type": "code",
   "execution_count": 20,
   "metadata": {},
   "outputs": [],
   "source": [
    "def gaps_percentage(df: DataFrame):\n",
    "    df = df.sort_values(by='time', ascending=True, ignore_index=True)\n",
    "    print(\"goes from {} to {}\".format(df['time'].min(), df['time'].max()))\n",
    "    df['time+1'] = df['time'].shift(-1)\n",
    "    df['time_freq'] = (df['time+1'] - df['time']).astype('timedelta64[h]')\n",
    "    print(\"measurements frequency for is {} hour\".format(df['time_freq'].value_counts().index[0]))\n",
    "    print(\"hourly frequency for {} of data\".format(df['time_freq'].value_counts().iloc[0]/df.shape[0]*100))\n",
    "    print()"
   ]
  },
  {
   "cell_type": "code",
   "execution_count": 23,
   "metadata": {},
   "outputs": [],
   "source": [
    "df_maserio = df_energy[df_energy['plant_name_up']=='UP_MPNTLCDMRN_1']"
   ]
  },
  {
   "cell_type": "code",
   "execution_count": 24,
   "metadata": {},
   "outputs": [
    {
     "name": "stdout",
     "output_type": "stream",
     "text": [
      "goes from 2016-12-31 23:00:00 to 2021-07-20 03:00:00\n",
      "measurements frequency for is 1.0 hour\n",
      "hourly frequency for 99.99435506632797 of data\n",
      "\n"
     ]
    }
   ],
   "source": [
    "gaps_percentage(df_maserio)"
   ]
  },
  {
   "cell_type": "code",
   "execution_count": 25,
   "metadata": {},
   "outputs": [],
   "source": [
    "def gaps(df: DataFrame):\n",
    "    df = df.sort_values(by='time', ascending=True, ignore_index=True)\n",
    "    df['time+1'] = df['time'].shift(-1)\n",
    "    df['time_freq'] = (df['time+1'] - df['time']).astype('timedelta64[h]')\n",
    "    gaps = df[df['time_freq'] > 1.0]\n",
    "    print(gaps)\n",
    "    print(df['time_freq'].unique())"
   ]
  },
  {
   "cell_type": "code",
   "execution_count": 26,
   "metadata": {},
   "outputs": [
    {
     "name": "stdout",
     "output_type": "stream",
     "text": [
      "         plant_name_up                time      kwh              time+1  \\\n",
      "35063  UP_MPNTLCDMRN_1 2020-12-31 22:00:00  744.375 2021-07-04 22:00:00   \n",
      "\n",
      "       time_freq  \n",
      "35063     4440.0  \n",
      "[1.00e+00 4.44e+03      nan]\n"
     ]
    }
   ],
   "source": [
    "gaps(df_maserio)"
   ]
  },
  {
   "cell_type": "code",
   "execution_count": 28,
   "metadata": {},
   "outputs": [
    {
     "data": {
      "text/html": [
       "<div>\n",
       "<style scoped>\n",
       "    .dataframe tbody tr th:only-of-type {\n",
       "        vertical-align: middle;\n",
       "    }\n",
       "\n",
       "    .dataframe tbody tr th {\n",
       "        vertical-align: top;\n",
       "    }\n",
       "\n",
       "    .dataframe thead th {\n",
       "        text-align: right;\n",
       "    }\n",
       "</style>\n",
       "<table border=\"1\" class=\"dataframe\">\n",
       "  <thead>\n",
       "    <tr style=\"text-align: right;\">\n",
       "      <th></th>\n",
       "      <th>plant_name_up</th>\n",
       "      <th>time</th>\n",
       "      <th>kwh</th>\n",
       "    </tr>\n",
       "  </thead>\n",
       "  <tbody>\n",
       "    <tr>\n",
       "      <th>35062</th>\n",
       "      <td>UP_MPNTLCDMRN_1</td>\n",
       "      <td>2020-12-31 21:00:00</td>\n",
       "      <td>905.62500</td>\n",
       "    </tr>\n",
       "    <tr>\n",
       "      <th>35063</th>\n",
       "      <td>UP_MPNTLCDMRN_1</td>\n",
       "      <td>2020-12-31 22:00:00</td>\n",
       "      <td>744.37500</td>\n",
       "    </tr>\n",
       "    <tr>\n",
       "      <th>35064</th>\n",
       "      <td>UP_MPNTLCDMRN_1</td>\n",
       "      <td>2021-07-04 22:00:00</td>\n",
       "      <td>2.91125</td>\n",
       "    </tr>\n",
       "    <tr>\n",
       "      <th>35065</th>\n",
       "      <td>UP_MPNTLCDMRN_1</td>\n",
       "      <td>2021-07-04 23:00:00</td>\n",
       "      <td>3.75600</td>\n",
       "    </tr>\n",
       "    <tr>\n",
       "      <th>35066</th>\n",
       "      <td>UP_MPNTLCDMRN_1</td>\n",
       "      <td>2021-07-05 00:00:00</td>\n",
       "      <td>3.86450</td>\n",
       "    </tr>\n",
       "  </tbody>\n",
       "</table>\n",
       "</div>"
      ],
      "text/plain": [
       "         plant_name_up                time        kwh\n",
       "35062  UP_MPNTLCDMRN_1 2020-12-31 21:00:00  905.62500\n",
       "35063  UP_MPNTLCDMRN_1 2020-12-31 22:00:00  744.37500\n",
       "35064  UP_MPNTLCDMRN_1 2021-07-04 22:00:00    2.91125\n",
       "35065  UP_MPNTLCDMRN_1 2021-07-04 23:00:00    3.75600\n",
       "35066  UP_MPNTLCDMRN_1 2021-07-05 00:00:00    3.86450"
      ]
     },
     "execution_count": 28,
     "metadata": {},
     "output_type": "execute_result"
    }
   ],
   "source": [
    "df_maserio.iloc[35062:35067, :]"
   ]
  },
  {
   "cell_type": "markdown",
   "metadata": {},
   "source": [
    "# CHECK DISTRIBUTIONS BETWEEN PRE AND POST"
   ]
  },
  {
   "cell_type": "code",
   "execution_count": 29,
   "metadata": {},
   "outputs": [],
   "source": [
    "pre = df_maserio[df_maserio['time']<= '2020-12-31 22:00:00']\n",
    "post = df_maserio[df_maserio['time'] > '2020-12-31 22:00:00']"
   ]
  },
  {
   "cell_type": "code",
   "execution_count": 32,
   "metadata": {},
   "outputs": [
    {
     "data": {
      "text/plain": [
       "(35064, 3)"
      ]
     },
     "execution_count": 32,
     "metadata": {},
     "output_type": "execute_result"
    }
   ],
   "source": [
    "pre.shape"
   ]
  },
  {
   "cell_type": "code",
   "execution_count": 33,
   "metadata": {},
   "outputs": [
    {
     "data": {
      "text/plain": [
       "(366, 3)"
      ]
     },
     "execution_count": 33,
     "metadata": {},
     "output_type": "execute_result"
    }
   ],
   "source": [
    "post.shape"
   ]
  },
  {
   "cell_type": "code",
   "execution_count": 34,
   "metadata": {},
   "outputs": [
    {
     "data": {
      "image/png": "[encoded data removed]",
      "text/plain": [
       "<Figure size 432x288 with 1 Axes>"
      ]
     },
     "metadata": {
      "needs_background": "light"
     },
     "output_type": "display_data"
    }
   ],
   "source": [
    "pre['kwh'].hist(bins=20)\n",
    "plt.xlabel('kwh')\n",
    "plt.title('Energy Production historicals')\n",
    "plt.show()"
   ]
  },
  {
   "cell_type": "code",
   "execution_count": 35,
   "metadata": {},
   "outputs": [
    {
     "data": {
      "image/png": "[encoded data removed]",
      "text/plain": [
       "<Figure size 432x288 with 1 Axes>"
      ]
     },
     "metadata": {
      "needs_background": "light"
     },
     "output_type": "display_data"
    }
   ],
   "source": [
    "post['kwh'].hist(bins=20)\n",
    "plt.xlabel('kwh')\n",
    "plt.title('Energy Production historicals')\n",
    "plt.show()"
   ]
  },
  {
   "cell_type": "markdown",
   "metadata": {},
   "source": [
    "# THE DIFFERENCE IS UOM (kWh vs MWh)"
   ]
  },
  {
   "cell_type": "code",
   "execution_count": null,
   "metadata": {},
   "outputs": [],
   "source": []
  }
 ],
 "metadata": {
  "kernelspec": {
   "display_name": "tft",
   "language": "python",
   "name": "tft"
  },
  "language_info": {
   "codemirror_mode": {
    "name": "ipython",
    "version": 3
   },
   "file_extension": ".py",
   "mimetype": "text/x-python",
   "name": "python",
   "nbconvert_exporter": "python",
   "pygments_lexer": "ipython3",
   "version": "3.7.9"
  }
 },
 "nbformat": 4,
 "nbformat_minor": 4
}
