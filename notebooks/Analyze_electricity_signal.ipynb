{
 "cells": [
  {
   "cell_type": "code",
   "execution_count": null,
   "metadata": {},
   "outputs": [],
   "source": [
    "import pandas as pd\n",
    "from pandas import DataFrame, Series\n",
    "import numpy as np\n",
    "from numpy import ndarray\n",
    "import seaborn as sns\n",
    "import matplotlib.pyplot as plt\n",
    "from scipy.signal import savgol_filter\n",
    "import statsmodels\n",
    "import tensorflow as tf"
   ]
  },
  {
   "cell_type": "code",
   "execution_count": null,
   "metadata": {},
   "outputs": [],
   "source": [
    "file_path: str = r'C:\\Users\\Lorenzo\\PycharmProjects\\TFT\\outputs\\data\\electricity\\data\\electricity\\hourly_electricity.csv'"
   ]
  },
  {
   "cell_type": "code",
   "execution_count": null,
   "metadata": {},
   "outputs": [],
   "source": [
    "raw_data: DataFrame = pd.read_csv(file_path, index_col=0)"
   ]
  },
  {
   "cell_type": "code",
   "execution_count": null,
   "metadata": {},
   "outputs": [],
   "source": [
    "raw_data.head()"
   ]
  },
  {
   "cell_type": "code",
   "execution_count": null,
   "metadata": {},
   "outputs": [],
   "source": [
    "raw_data['date'] = raw_data['date'].astype('datetime64[s]')\n",
    "raw_data.sort_values(by='date', ascending=True, inplace=True)"
   ]
  },
  {
   "cell_type": "code",
   "execution_count": null,
   "metadata": {},
   "outputs": [],
   "source": [
    "# sns.lineplot(data=raw_data, x='date', y='power_usage', hue='id')"
   ]
  },
  {
   "cell_type": "markdown",
   "metadata": {},
   "source": [
    "Plot a single point of consumption"
   ]
  },
  {
   "cell_type": "code",
   "execution_count": null,
   "metadata": {},
   "outputs": [],
   "source": [
    "mt_001 = raw_data[raw_data['id']=='MT_001']\n",
    "fig = plt.figure(figsize=(12,10))\n",
    "plt.plot(mt_001['date'], mt_001['power_usage'])\n",
    "plt.title('MT_001 Power usage')\n",
    "plt.xlabel('Time')\n",
    "plt.ylabel('Power usage[MW]')\n",
    "plt.show()"
   ]
  },
  {
   "cell_type": "markdown",
   "metadata": {},
   "source": [
    "DECOMPOSING TIME-SERIES INTO TREND AND SEASONALITY"
   ]
  },
  {
   "cell_type": "code",
   "execution_count": null,
   "metadata": {},
   "outputs": [],
   "source": [
    "from statsmodels.tsa.seasonal import seasonal_decompose, DecomposeResult"
   ]
  },
  {
   "cell_type": "code",
   "execution_count": null,
   "metadata": {},
   "outputs": [],
   "source": [
    "mt_001 = mt_001[['date', 'power_usage']]\n",
    "mt_001.set_index('date', drop=True, inplace=True)\n",
    "decomposition: DecomposeResult = seasonal_decompose(mt_001)"
   ]
  },
  {
   "cell_type": "code",
   "execution_count": null,
   "metadata": {},
   "outputs": [],
   "source": [
    "trend: Series = decomposition.trend\n",
    "seasonal: Series = decomposition.seasonal\n",
    "residual: Series = decomposition.resid"
   ]
  },
  {
   "cell_type": "code",
   "execution_count": null,
   "metadata": {},
   "outputs": [],
   "source": [
    "fig, ax = plt.subplots(figsize=(12,10), nrows=4)\n",
    "mt_001.plot(kind='line', ax=ax[0])\n",
    "trend.plot(kind='line', colormap='RdBu', ax=ax[1])\n",
    "seasonal.plot(kind='line', colormap='Dark2', ax=ax[2])\n",
    "residual.plot(kind='line', colormap='Pastel2', ax=ax[3])\n",
    "ax[0].set_title('Electricity comsumption for MT_001 decomposed into Trend and Seasonality')\n",
    "ax[0].set_ylabel('Original', fontsize=14)\n",
    "ax[1].set_ylabel('Trend', fontsize=14)\n",
    "ax[2].set_ylabel('Seasonal', fontsize=14)\n",
    "ax[3].set_ylabel('Residual', fontsize=14)\n",
    "plt.tight_layout()\n",
    "plt.show()"
   ]
  },
  {
   "cell_type": "markdown",
   "metadata": {},
   "source": [
    "# FOURIER TRANSFORM"
   ]
  },
  {
   "cell_type": "code",
   "execution_count": null,
   "metadata": {},
   "outputs": [],
   "source": [
    "def plot_fourier(data: DataFrame, user: str, param: str):\n",
    "    df = data[data['id']==user]\n",
    "    fft = tf.signal.rfft(df[param])\n",
    "    f_per_dataset = np.arange(0, len(fft))\n",
    "\n",
    "    n_samples_h = len(df[param])\n",
    "    hours_per_year = 24*365.2524\n",
    "    years_per_dataset = n_samples_h/(hours_per_year)\n",
    "\n",
    "    f_per_year = f_per_dataset/years_per_dataset\n",
    "    plt.step(f_per_year, np.abs(fft))\n",
    "    plt.xscale('log')\n",
    "    plt.ylim(0, 60000)\n",
    "    plt.xlim([0.1, max(plt.xlim())])\n",
    "    plt.xticks([1, 365.2524], labels=['1/Year', '1/day'])\n",
    "    _ = plt.xlabel('Frequency (log scale)')"
   ]
  },
  {
   "cell_type": "code",
   "execution_count": null,
   "metadata": {},
   "outputs": [],
   "source": [
    "plot_fourier(raw_data, 'MT_300', 'power_usage')"
   ]
  },
  {
   "cell_type": "markdown",
   "metadata": {},
   "source": [
    "# AUTOCORRELATION"
   ]
  },
  {
   "cell_type": "code",
   "execution_count": null,
   "metadata": {},
   "outputs": [],
   "source": [
    "def autocorr(x: ndarray) -> ndarray:\n",
    "    result: ndarray = np.correlate(x, x, mode='full')\n",
    "    return result[len(result)//2:]"
   ]
  },
  {
   "cell_type": "code",
   "execution_count": null,
   "metadata": {},
   "outputs": [],
   "source": [
    "def get_autocorr_values(y_values: ndarray, T: float, N: int, f_s: float) -> (ndarray, ndarray):\n",
    "    autocorr_values: ndarray = autocorr(y_values)\n",
    "    x_values: ndarray = np.array([T * jj for jj in range(0, N)])\n",
    "    return x_values, autocorr_values"
   ]
  },
  {
   "cell_type": "code",
   "execution_count": null,
   "metadata": {},
   "outputs": [],
   "source": [
    "mt_001['power_usage'].shape"
   ]
  },
  {
   "cell_type": "code",
   "execution_count": null,
   "metadata": {},
   "outputs": [],
   "source": [
    "t_n = 3600\n",
    "N = 6000\n",
    "T = t_n / N\n",
    "f_s = 1/T"
   ]
  },
  {
   "cell_type": "code",
   "execution_count": null,
   "metadata": {},
   "outputs": [],
   "source": [
    "t_values, autocorr_values = get_autocorr_values(mt_001['power_usage'].values, T, N, f_s)"
   ]
  },
  {
   "cell_type": "code",
   "execution_count": null,
   "metadata": {},
   "outputs": [],
   "source": [
    "plt.plot(t_values, autocorr_values, linestyle='-', color='blue')\n",
    "plt.xlabel('time delay [s]')\n",
    "plt.ylabel('Autocorrelation amplitude')\n",
    "plt.show()"
   ]
  },
  {
   "cell_type": "code",
   "execution_count": null,
   "metadata": {},
   "outputs": [],
   "source": []
  }
 ],
 "metadata": {
  "kernelspec": {
   "display_name": "tft",
   "language": "python",
   "name": "tft"
  },
  "language_info": {
   "codemirror_mode": {
    "name": "ipython",
    "version": 3
   },
   "file_extension": ".py",
   "mimetype": "text/x-python",
   "name": "python",
   "nbconvert_exporter": "python",
   "pygments_lexer": "ipython3",
   "version": "3.7.9"
  }
 },
 "nbformat": 4,
 "nbformat_minor": 4
}
