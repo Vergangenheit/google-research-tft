{
 "cells": [
  {
   "cell_type": "code",
   "execution_count": 1,
   "metadata": {},
   "outputs": [],
   "source": [
    "path: str = r'C:\\Users\\Lorenzo\\PycharmProjects\\TFT\\outputs\\saved_models\\sorgenia_wind\\fixed'"
   ]
  },
  {
   "cell_type": "code",
   "execution_count": 26,
   "metadata": {},
   "outputs": [],
   "source": [
    "import pandas as pd\n",
    "import os\n",
    "import json"
   ]
  },
  {
   "cell_type": "code",
   "execution_count": 13,
   "metadata": {},
   "outputs": [],
   "source": [
    "saved_params = pd.read_csv(os.path.join(path, 'params.csv'), index_col=0, header=0, names=['data'])"
   ]
  },
  {
   "cell_type": "code",
   "execution_count": 35,
   "metadata": {},
   "outputs": [
    {
     "data": {
      "text/html": [
       "<div>\n",
       "<style scoped>\n",
       "    .dataframe tbody tr th:only-of-type {\n",
       "        vertical-align: middle;\n",
       "    }\n",
       "\n",
       "    .dataframe tbody tr th {\n",
       "        vertical-align: top;\n",
       "    }\n",
       "\n",
       "    .dataframe thead th {\n",
       "        text-align: right;\n",
       "    }\n",
       "</style>\n",
       "<table border=\"1\" class=\"dataframe\">\n",
       "  <thead>\n",
       "    <tr style=\"text-align: right;\">\n",
       "      <th></th>\n",
       "      <th>data</th>\n",
       "    </tr>\n",
       "  </thead>\n",
       "  <tbody>\n",
       "    <tr>\n",
       "      <th>dropout_rate</th>\n",
       "      <td>0.1</td>\n",
       "    </tr>\n",
       "    <tr>\n",
       "      <th>hidden_layer_size</th>\n",
       "      <td>160</td>\n",
       "    </tr>\n",
       "    <tr>\n",
       "      <th>learning_rate</th>\n",
       "      <td>0.001</td>\n",
       "    </tr>\n",
       "    <tr>\n",
       "      <th>max_gradient_norm</th>\n",
       "      <td>0.01</td>\n",
       "    </tr>\n",
       "    <tr>\n",
       "      <th>minibatch_size</th>\n",
       "      <td>64</td>\n",
       "    </tr>\n",
       "    <tr>\n",
       "      <th>model_folder</th>\n",
       "      <td>/home/lorenzo/google-research-tft/outputs/save...</td>\n",
       "    </tr>\n",
       "    <tr>\n",
       "      <th>num_heads</th>\n",
       "      <td>4</td>\n",
       "    </tr>\n",
       "    <tr>\n",
       "      <th>stack_size</th>\n",
       "      <td>1</td>\n",
       "    </tr>\n",
       "    <tr>\n",
       "      <th>total_time_steps</th>\n",
       "      <td>180</td>\n",
       "    </tr>\n",
       "    <tr>\n",
       "      <th>num_encoder_steps</th>\n",
       "      <td>168</td>\n",
       "    </tr>\n",
       "    <tr>\n",
       "      <th>num_epochs</th>\n",
       "      <td>100</td>\n",
       "    </tr>\n",
       "    <tr>\n",
       "      <th>early_stopping_patience</th>\n",
       "      <td>10</td>\n",
       "    </tr>\n",
       "    <tr>\n",
       "      <th>multiprocessing_workers</th>\n",
       "      <td>5</td>\n",
       "    </tr>\n",
       "    <tr>\n",
       "      <th>column_definition</th>\n",
       "      <td>[('id', &lt;DataTypes.REAL_VALUED: 0&gt;, &lt;InputType...</td>\n",
       "    </tr>\n",
       "    <tr>\n",
       "      <th>input_size</th>\n",
       "      <td>20</td>\n",
       "    </tr>\n",
       "    <tr>\n",
       "      <th>output_size</th>\n",
       "      <td>1</td>\n",
       "    </tr>\n",
       "    <tr>\n",
       "      <th>category_counts</th>\n",
       "      <td>[7]</td>\n",
       "    </tr>\n",
       "    <tr>\n",
       "      <th>input_obs_loc</th>\n",
       "      <td>[0]</td>\n",
       "    </tr>\n",
       "    <tr>\n",
       "      <th>static_input_loc</th>\n",
       "      <td>[19]</td>\n",
       "    </tr>\n",
       "    <tr>\n",
       "      <th>known_regular_inputs</th>\n",
       "      <td>[1, 2, 3, 9, 10, 11, 12, 13, 14, 15, 16, 17, 18]</td>\n",
       "    </tr>\n",
       "    <tr>\n",
       "      <th>known_categorical_inputs</th>\n",
       "      <td>[0]</td>\n",
       "    </tr>\n",
       "  </tbody>\n",
       "</table>\n",
       "</div>"
      ],
      "text/plain": [
       "                                                                       data\n",
       "dropout_rate                                                            0.1\n",
       "hidden_layer_size                                                       160\n",
       "learning_rate                                                         0.001\n",
       "max_gradient_norm                                                      0.01\n",
       "minibatch_size                                                           64\n",
       "model_folder              /home/lorenzo/google-research-tft/outputs/save...\n",
       "num_heads                                                                 4\n",
       "stack_size                                                                1\n",
       "total_time_steps                                                        180\n",
       "num_encoder_steps                                                       168\n",
       "num_epochs                                                              100\n",
       "early_stopping_patience                                                  10\n",
       "multiprocessing_workers                                                   5\n",
       "column_definition         [('id', <DataTypes.REAL_VALUED: 0>, <InputType...\n",
       "input_size                                                               20\n",
       "output_size                                                               1\n",
       "category_counts                                                         [7]\n",
       "input_obs_loc                                                           [0]\n",
       "static_input_loc                                                       [19]\n",
       "known_regular_inputs       [1, 2, 3, 9, 10, 11, 12, 13, 14, 15, 16, 17, 18]\n",
       "known_categorical_inputs                                                [0]"
      ]
     },
     "execution_count": 35,
     "metadata": {},
     "output_type": "execute_result"
    }
   ],
   "source": [
    "saved_params"
   ]
  },
  {
   "cell_type": "code",
   "execution_count": 40,
   "metadata": {},
   "outputs": [
    {
     "data": {
      "text/plain": [
       "list"
      ]
     },
     "execution_count": 40,
     "metadata": {},
     "output_type": "execute_result"
    }
   ],
   "source": [
    "category_counts = json.loads(saved_params.loc['category_counts', 'data'])\n",
    "category_counts"
   ]
  },
  {
   "cell_type": "code",
   "execution_count": 31,
   "metadata": {},
   "outputs": [
    {
     "data": {
      "text/plain": [
       "'\"[(\\'id\\', <DataTypes.REAL_VALUED: 0>, <InputTypes.ID: 4>), (\\'time\\', <DataTypes.DATE: 2>, <InputTypes.TIME: 5>), (\\'kwh\\', <DataTypes.REAL_VALUED: 0>, <InputTypes.TARGET: 0>), (\\'hour\\', <DataTypes.REAL_VALUED: 0>, <InputTypes.KNOWN_INPUT: 2>), (\\'day_of_week\\', <DataTypes.REAL_VALUED: 0>, <InputTypes.KNOWN_INPUT: 2>), (\\'hours_from_start\\', <DataTypes.REAL_VALUED: 0>, <InputTypes.KNOWN_INPUT: 2>), (\\'dew_point_2m_C\\', <DataTypes.REAL_VALUED: 0>, <InputTypes.OBSERVED_INPUT: 1>), (\\'temperature_2m_C\\', <DataTypes.REAL_VALUED: 0>, <InputTypes.OBSERVED_INPUT: 1>), (\\'msl_pressure_hPa\\', <DataTypes.REAL_VALUED: 0>, <InputTypes.OBSERVED_INPUT: 1>), (\\'sfc_pressure_hPa\\', <DataTypes.REAL_VALUED: 0>, <InputTypes.OBSERVED_INPUT: 1>), (\\'precipitation_1h_mm\\', <DataTypes.REAL_VALUED: 0>, <InputTypes.OBSERVED_INPUT: 1>), (\\'wind_speed_mean_10m_1h_ms\\', <DataTypes.REAL_VALUED: 0>, <InputTypes.KNOWN_INPUT: 2>), (\\'wind_speed_mean_100m_1h_ms\\', <DataTypes.REAL_VALUED: 0>, <InputTypes.KNOWN_INPUT: 2>), (\\'wind_dir_mean_100m_1h_d\\', <DataTypes.REAL_VALUED: 0>, <InputTypes.KNOWN_INPUT: 2>), (\\'wind_dir_mean_10m_1h_d\\', <DataTypes.REAL_VALUED: 0>, <InputTypes.KNOWN_INPUT: 2>), (\\'wind_gusts_10m_1h_ms\\', <DataTypes.REAL_VALUED: 0>, <InputTypes.KNOWN_INPUT: 2>), (\\'wind_gusts_10m_ms\\', <DataTypes.REAL_VALUED: 0>, <InputTypes.KNOWN_INPUT: 2>), (\\'Day sin\\', <DataTypes.REAL_VALUED: 0>, <InputTypes.KNOWN_INPUT: 2>), (\\'Day cos\\', <DataTypes.REAL_VALUED: 0>, <InputTypes.KNOWN_INPUT: 2>), (\\'Year sin\\', <DataTypes.REAL_VALUED: 0>, <InputTypes.KNOWN_INPUT: 2>), (\\'Year cos\\', <DataTypes.REAL_VALUED: 0>, <InputTypes.KNOWN_INPUT: 2>), (\\'categorical_id\\', <DataTypes.CATEGORICAL: 1>, <InputTypes.STATIC_INPUT: 3>)]\"'"
      ]
     },
     "execution_count": 31,
     "metadata": {},
     "output_type": "execute_result"
    }
   ],
   "source": [
    "column_definition"
   ]
  },
  {
   "cell_type": "code",
   "execution_count": null,
   "metadata": {},
   "outputs": [],
   "source": []
  }
 ],
 "metadata": {
  "kernelspec": {
   "display_name": "tft",
   "language": "python",
   "name": "tft"
  },
  "language_info": {
   "codemirror_mode": {
    "name": "ipython",
    "version": 3
   },
   "file_extension": ".py",
   "mimetype": "text/x-python",
   "name": "python",
   "nbconvert_exporter": "python",
   "pygments_lexer": "ipython3",
   "version": "3.7.9"
  }
 },
 "nbformat": 4,
 "nbformat_minor": 4
}
