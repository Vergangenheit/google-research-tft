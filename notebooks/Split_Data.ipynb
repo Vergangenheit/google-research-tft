{
 "cells": [
  {
   "cell_type": "markdown",
   "metadata": {},
   "source": [
    "analyze split_data method from data_formatter class(GenericDataFormatter)"
   ]
  },
  {
   "cell_type": "code",
   "execution_count": 1,
   "metadata": {},
   "outputs": [],
   "source": [
    "import numpy as np\n",
    "import pandas as pd\n",
    "from pandas import DataFrame, Series\n",
    "import tensorflow as tf\n",
    "import tensorflow.compat.v1 as tf1\n",
    "from tensorflow.compat.v1 import Session, ConfigProto\n",
    "from tensorflow.python.eager.context import PhysicalDevice\n",
    "from typing import Dict, List, Union, Generator\n",
    "import os\n",
    "from numpy import load"
   ]
  },
  {
   "cell_type": "code",
   "execution_count": 2,
   "metadata": {},
   "outputs": [],
   "source": [
    "import sys\n",
    "sys.path.insert(0, '..')"
   ]
  },
  {
   "cell_type": "code",
   "execution_count": 3,
   "metadata": {},
   "outputs": [],
   "source": [
    "from data_formatters.base import GenericDataFormatter, InputTypes, DataTypes\n",
    "from data_formatters.electricity import ElectricityFormatter"
   ]
  },
  {
   "cell_type": "code",
   "execution_count": 4,
   "metadata": {},
   "outputs": [],
   "source": [
    "from expt_settings.configs import ExperimentConfig\n",
    "from libs.hyperparam_opt import HyperparamOptManager\n",
    "from libs.tft_model import TemporalFusionTransformer\n",
    "import libs.utils as utils"
   ]
  },
  {
   "cell_type": "code",
   "execution_count": 5,
   "metadata": {},
   "outputs": [
    {
     "name": "stdout",
     "output_type": "stream",
     "text": [
      "Default GPU Device:/device:GPU:0\n"
     ]
    }
   ],
   "source": [
    " if tf.test.gpu_device_name(): \n",
    "    print('Default GPU Device:{}'.format(tf.test.gpu_device_name()))\n",
    "else:\n",
    "    print(\"Please install GPU version of TF\")"
   ]
  },
  {
   "cell_type": "code",
   "execution_count": 6,
   "metadata": {},
   "outputs": [],
   "source": [
    "gpu: List[PhysicalDevice] = tf.config.experimental.list_physical_devices('GPU')\n",
    "tf.config.experimental.set_memory_growth(gpu[0], True)"
   ]
  },
  {
   "cell_type": "code",
   "execution_count": 7,
   "metadata": {},
   "outputs": [
    {
     "name": "stdout",
     "output_type": "stream",
     "text": [
      "Selecting GPU ID=0\n"
     ]
    }
   ],
   "source": [
    "# Tensorflow setup\n",
    "default_keras_session: Session = tf1.keras.backend.get_session()\n",
    "tf_config: ConfigProto = utils.get_default_tensorflow_config(tf_device=\"gpu\", gpu_id=0)"
   ]
  },
  {
   "cell_type": "code",
   "execution_count": 8,
   "metadata": {},
   "outputs": [],
   "source": [
    "file_path: str = r'C:\\Users\\Lorenzo\\PycharmProjects\\TFT\\outputs\\data\\electricity\\data\\electricity\\hourly_electricity.csv'"
   ]
  },
  {
   "cell_type": "code",
   "execution_count": 9,
   "metadata": {},
   "outputs": [
    {
     "name": "stderr",
     "output_type": "stream",
     "text": [
      "C:\\Users\\Lorenzo\\PycharmProjects\\TFT\\venv\\lib\\site-packages\\numpy\\lib\\arraysetops.py:569: FutureWarning: elementwise comparison failed; returning scalar instead, but in the future will perform elementwise comparison\n",
      "  mask |= (ar1 == a)\n"
     ]
    }
   ],
   "source": [
    "raw_data: DataFrame = pd.read_csv(file_path, index_col=0)"
   ]
  },
  {
   "cell_type": "code",
   "execution_count": 10,
   "metadata": {},
   "outputs": [],
   "source": [
    "config = ExperimentConfig('electricity', r'C:\\Users\\Lorenzo\\PycharmProjects\\TFT\\outputs')"
   ]
  },
  {
   "cell_type": "code",
   "execution_count": 11,
   "metadata": {},
   "outputs": [],
   "source": [
    "formatter: ElectricityFormatter = config.make_data_formatter()"
   ]
  },
  {
   "cell_type": "markdown",
   "metadata": {},
   "source": [
    "# SPLIT THE DATA"
   ]
  },
  {
   "cell_type": "code",
   "execution_count": 12,
   "metadata": {},
   "outputs": [
    {
     "name": "stdout",
     "output_type": "stream",
     "text": [
      "Formatting train-valid-test splits.\n",
      "Setting scalers with training data...\n"
     ]
    }
   ],
   "source": [
    "train, valid, test = formatter.split_data(raw_data)"
   ]
  },
  {
   "cell_type": "code",
   "execution_count": 13,
   "metadata": {},
   "outputs": [
    {
     "data": {
      "text/html": [
       "<div>\n",
       "<style scoped>\n",
       "    .dataframe tbody tr th:only-of-type {\n",
       "        vertical-align: middle;\n",
       "    }\n",
       "\n",
       "    .dataframe tbody tr th {\n",
       "        vertical-align: top;\n",
       "    }\n",
       "\n",
       "    .dataframe thead th {\n",
       "        text-align: right;\n",
       "    }\n",
       "</style>\n",
       "<table border=\"1\" class=\"dataframe\">\n",
       "  <thead>\n",
       "    <tr style=\"text-align: right;\">\n",
       "      <th></th>\n",
       "      <th>power_usage</th>\n",
       "      <th>t</th>\n",
       "      <th>days_from_start</th>\n",
       "      <th>categorical_id</th>\n",
       "      <th>date</th>\n",
       "      <th>id</th>\n",
       "      <th>hour</th>\n",
       "      <th>day</th>\n",
       "      <th>day_of_week</th>\n",
       "      <th>month</th>\n",
       "      <th>hours_from_start</th>\n",
       "      <th>categorical_day_of_week</th>\n",
       "      <th>categorical_hour</th>\n",
       "    </tr>\n",
       "  </thead>\n",
       "  <tbody>\n",
       "    <tr>\n",
       "      <th>17544</th>\n",
       "      <td>-0.127174</td>\n",
       "      <td>26304.0</td>\n",
       "      <td>1096</td>\n",
       "      <td>0</td>\n",
       "      <td>2014-01-01 00:00:00</td>\n",
       "      <td>MT_001</td>\n",
       "      <td>-1.661325</td>\n",
       "      <td>1</td>\n",
       "      <td>-0.499719</td>\n",
       "      <td>1</td>\n",
       "      <td>-1.731721</td>\n",
       "      <td>2</td>\n",
       "      <td>0</td>\n",
       "    </tr>\n",
       "    <tr>\n",
       "      <th>17545</th>\n",
       "      <td>-0.050713</td>\n",
       "      <td>26305.0</td>\n",
       "      <td>1096</td>\n",
       "      <td>0</td>\n",
       "      <td>2014-01-01 01:00:00</td>\n",
       "      <td>MT_001</td>\n",
       "      <td>-1.516862</td>\n",
       "      <td>1</td>\n",
       "      <td>-0.499719</td>\n",
       "      <td>1</td>\n",
       "      <td>-1.731062</td>\n",
       "      <td>2</td>\n",
       "      <td>1</td>\n",
       "    </tr>\n",
       "    <tr>\n",
       "      <th>17546</th>\n",
       "      <td>-0.050713</td>\n",
       "      <td>26306.0</td>\n",
       "      <td>1096</td>\n",
       "      <td>0</td>\n",
       "      <td>2014-01-01 02:00:00</td>\n",
       "      <td>MT_001</td>\n",
       "      <td>-1.372399</td>\n",
       "      <td>1</td>\n",
       "      <td>-0.499719</td>\n",
       "      <td>1</td>\n",
       "      <td>-1.730403</td>\n",
       "      <td>2</td>\n",
       "      <td>2</td>\n",
       "    </tr>\n",
       "    <tr>\n",
       "      <th>17547</th>\n",
       "      <td>-0.050713</td>\n",
       "      <td>26307.0</td>\n",
       "      <td>1096</td>\n",
       "      <td>0</td>\n",
       "      <td>2014-01-01 03:00:00</td>\n",
       "      <td>MT_001</td>\n",
       "      <td>-1.227936</td>\n",
       "      <td>1</td>\n",
       "      <td>-0.499719</td>\n",
       "      <td>1</td>\n",
       "      <td>-1.729744</td>\n",
       "      <td>2</td>\n",
       "      <td>3</td>\n",
       "    </tr>\n",
       "    <tr>\n",
       "      <th>17548</th>\n",
       "      <td>-0.127174</td>\n",
       "      <td>26308.0</td>\n",
       "      <td>1096</td>\n",
       "      <td>0</td>\n",
       "      <td>2014-01-01 04:00:00</td>\n",
       "      <td>MT_001</td>\n",
       "      <td>-1.083473</td>\n",
       "      <td>1</td>\n",
       "      <td>-0.499719</td>\n",
       "      <td>1</td>\n",
       "      <td>-1.729085</td>\n",
       "      <td>2</td>\n",
       "      <td>4</td>\n",
       "    </tr>\n",
       "  </tbody>\n",
       "</table>\n",
       "</div>"
      ],
      "text/plain": [
       "       power_usage        t  days_from_start  categorical_id  \\\n",
       "17544    -0.127174  26304.0             1096               0   \n",
       "17545    -0.050713  26305.0             1096               0   \n",
       "17546    -0.050713  26306.0             1096               0   \n",
       "17547    -0.050713  26307.0             1096               0   \n",
       "17548    -0.127174  26308.0             1096               0   \n",
       "\n",
       "                      date      id      hour  day  day_of_week  month  \\\n",
       "17544  2014-01-01 00:00:00  MT_001 -1.661325    1    -0.499719      1   \n",
       "17545  2014-01-01 01:00:00  MT_001 -1.516862    1    -0.499719      1   \n",
       "17546  2014-01-01 02:00:00  MT_001 -1.372399    1    -0.499719      1   \n",
       "17547  2014-01-01 03:00:00  MT_001 -1.227936    1    -0.499719      1   \n",
       "17548  2014-01-01 04:00:00  MT_001 -1.083473    1    -0.499719      1   \n",
       "\n",
       "       hours_from_start  categorical_day_of_week  categorical_hour  \n",
       "17544         -1.731721                        2                 0  \n",
       "17545         -1.731062                        2                 1  \n",
       "17546         -1.730403                        2                 2  \n",
       "17547         -1.729744                        2                 3  \n",
       "17548         -1.729085                        2                 4  "
      ]
     },
     "execution_count": 13,
     "metadata": {},
     "output_type": "execute_result"
    }
   ],
   "source": [
    "train.head()"
   ]
  },
  {
   "cell_type": "code",
   "execution_count": 14,
   "metadata": {},
   "outputs": [
    {
     "data": {
      "text/plain": [
       "Index(['power_usage', 't', 'days_from_start', 'categorical_id', 'date', 'id',\n",
       "       'hour', 'day', 'day_of_week', 'month', 'hours_from_start',\n",
       "       'categorical_day_of_week', 'categorical_hour'],\n",
       "      dtype='object')"
      ]
     },
     "execution_count": 14,
     "metadata": {},
     "output_type": "execute_result"
    }
   ],
   "source": [
    "train.columns"
   ]
  },
  {
   "cell_type": "code",
   "execution_count": 15,
   "metadata": {},
   "outputs": [
    {
     "data": {
      "text/plain": [
       "Index(['power_usage', 't', 'days_from_start', 'categorical_id', 'date', 'id',\n",
       "       'hour', 'day', 'day_of_week', 'month', 'hours_from_start',\n",
       "       'categorical_day_of_week', 'categorical_hour'],\n",
       "      dtype='object')"
      ]
     },
     "execution_count": 15,
     "metadata": {},
     "output_type": "execute_result"
    }
   ],
   "source": [
    "raw_data.columns"
   ]
  },
  {
   "cell_type": "code",
   "execution_count": 16,
   "metadata": {},
   "outputs": [
    {
     "data": {
      "text/html": [
       "<div>\n",
       "<style scoped>\n",
       "    .dataframe tbody tr th:only-of-type {\n",
       "        vertical-align: middle;\n",
       "    }\n",
       "\n",
       "    .dataframe tbody tr th {\n",
       "        vertical-align: top;\n",
       "    }\n",
       "\n",
       "    .dataframe thead th {\n",
       "        text-align: right;\n",
       "    }\n",
       "</style>\n",
       "<table border=\"1\" class=\"dataframe\">\n",
       "  <thead>\n",
       "    <tr style=\"text-align: right;\">\n",
       "      <th></th>\n",
       "      <th>power_usage</th>\n",
       "      <th>t</th>\n",
       "      <th>days_from_start</th>\n",
       "      <th>categorical_id</th>\n",
       "      <th>date</th>\n",
       "      <th>id</th>\n",
       "      <th>hour</th>\n",
       "      <th>day</th>\n",
       "      <th>day_of_week</th>\n",
       "      <th>month</th>\n",
       "      <th>hours_from_start</th>\n",
       "      <th>categorical_day_of_week</th>\n",
       "      <th>categorical_hour</th>\n",
       "    </tr>\n",
       "  </thead>\n",
       "  <tbody>\n",
       "    <tr>\n",
       "      <th>17544</th>\n",
       "      <td>2.538071</td>\n",
       "      <td>26304.0</td>\n",
       "      <td>1096</td>\n",
       "      <td>MT_001</td>\n",
       "      <td>2014-01-01 00:00:00</td>\n",
       "      <td>MT_001</td>\n",
       "      <td>0</td>\n",
       "      <td>1</td>\n",
       "      <td>2</td>\n",
       "      <td>1</td>\n",
       "      <td>26304.0</td>\n",
       "      <td>2</td>\n",
       "      <td>0</td>\n",
       "    </tr>\n",
       "    <tr>\n",
       "      <th>17545</th>\n",
       "      <td>2.855330</td>\n",
       "      <td>26305.0</td>\n",
       "      <td>1096</td>\n",
       "      <td>MT_001</td>\n",
       "      <td>2014-01-01 01:00:00</td>\n",
       "      <td>MT_001</td>\n",
       "      <td>1</td>\n",
       "      <td>1</td>\n",
       "      <td>2</td>\n",
       "      <td>1</td>\n",
       "      <td>26305.0</td>\n",
       "      <td>2</td>\n",
       "      <td>1</td>\n",
       "    </tr>\n",
       "    <tr>\n",
       "      <th>17546</th>\n",
       "      <td>2.855330</td>\n",
       "      <td>26306.0</td>\n",
       "      <td>1096</td>\n",
       "      <td>MT_001</td>\n",
       "      <td>2014-01-01 02:00:00</td>\n",
       "      <td>MT_001</td>\n",
       "      <td>2</td>\n",
       "      <td>1</td>\n",
       "      <td>2</td>\n",
       "      <td>1</td>\n",
       "      <td>26306.0</td>\n",
       "      <td>2</td>\n",
       "      <td>2</td>\n",
       "    </tr>\n",
       "    <tr>\n",
       "      <th>17547</th>\n",
       "      <td>2.855330</td>\n",
       "      <td>26307.0</td>\n",
       "      <td>1096</td>\n",
       "      <td>MT_001</td>\n",
       "      <td>2014-01-01 03:00:00</td>\n",
       "      <td>MT_001</td>\n",
       "      <td>3</td>\n",
       "      <td>1</td>\n",
       "      <td>2</td>\n",
       "      <td>1</td>\n",
       "      <td>26307.0</td>\n",
       "      <td>2</td>\n",
       "      <td>3</td>\n",
       "    </tr>\n",
       "    <tr>\n",
       "      <th>17548</th>\n",
       "      <td>2.538071</td>\n",
       "      <td>26308.0</td>\n",
       "      <td>1096</td>\n",
       "      <td>MT_001</td>\n",
       "      <td>2014-01-01 04:00:00</td>\n",
       "      <td>MT_001</td>\n",
       "      <td>4</td>\n",
       "      <td>1</td>\n",
       "      <td>2</td>\n",
       "      <td>1</td>\n",
       "      <td>26308.0</td>\n",
       "      <td>2</td>\n",
       "      <td>4</td>\n",
       "    </tr>\n",
       "  </tbody>\n",
       "</table>\n",
       "</div>"
      ],
      "text/plain": [
       "       power_usage        t  days_from_start categorical_id  \\\n",
       "17544     2.538071  26304.0             1096         MT_001   \n",
       "17545     2.855330  26305.0             1096         MT_001   \n",
       "17546     2.855330  26306.0             1096         MT_001   \n",
       "17547     2.855330  26307.0             1096         MT_001   \n",
       "17548     2.538071  26308.0             1096         MT_001   \n",
       "\n",
       "                      date      id  hour  day  day_of_week  month  \\\n",
       "17544  2014-01-01 00:00:00  MT_001     0    1            2      1   \n",
       "17545  2014-01-01 01:00:00  MT_001     1    1            2      1   \n",
       "17546  2014-01-01 02:00:00  MT_001     2    1            2      1   \n",
       "17547  2014-01-01 03:00:00  MT_001     3    1            2      1   \n",
       "17548  2014-01-01 04:00:00  MT_001     4    1            2      1   \n",
       "\n",
       "       hours_from_start  categorical_day_of_week  categorical_hour  \n",
       "17544           26304.0                        2                 0  \n",
       "17545           26305.0                        2                 1  \n",
       "17546           26306.0                        2                 2  \n",
       "17547           26307.0                        2                 3  \n",
       "17548           26308.0                        2                 4  "
      ]
     },
     "execution_count": 16,
     "metadata": {},
     "output_type": "execute_result"
    }
   ],
   "source": [
    "raw_data.head()"
   ]
  },
  {
   "cell_type": "code",
   "execution_count": 17,
   "metadata": {},
   "outputs": [
    {
     "data": {
      "text/html": [
       "<div>\n",
       "<style scoped>\n",
       "    .dataframe tbody tr th:only-of-type {\n",
       "        vertical-align: middle;\n",
       "    }\n",
       "\n",
       "    .dataframe tbody tr th {\n",
       "        vertical-align: top;\n",
       "    }\n",
       "\n",
       "    .dataframe thead th {\n",
       "        text-align: right;\n",
       "    }\n",
       "</style>\n",
       "<table border=\"1\" class=\"dataframe\">\n",
       "  <thead>\n",
       "    <tr style=\"text-align: right;\">\n",
       "      <th></th>\n",
       "      <th>power_usage</th>\n",
       "      <th>t</th>\n",
       "      <th>days_from_start</th>\n",
       "      <th>categorical_id</th>\n",
       "      <th>date</th>\n",
       "      <th>id</th>\n",
       "      <th>hour</th>\n",
       "      <th>day</th>\n",
       "      <th>day_of_week</th>\n",
       "      <th>month</th>\n",
       "      <th>hours_from_start</th>\n",
       "      <th>categorical_day_of_week</th>\n",
       "      <th>categorical_hour</th>\n",
       "    </tr>\n",
       "  </thead>\n",
       "  <tbody>\n",
       "    <tr>\n",
       "      <th>17544</th>\n",
       "      <td>-0.127174</td>\n",
       "      <td>26304.0</td>\n",
       "      <td>1096</td>\n",
       "      <td>0</td>\n",
       "      <td>2014-01-01 00:00:00</td>\n",
       "      <td>MT_001</td>\n",
       "      <td>-1.661325</td>\n",
       "      <td>1</td>\n",
       "      <td>-0.499719</td>\n",
       "      <td>1</td>\n",
       "      <td>-1.731721</td>\n",
       "      <td>2</td>\n",
       "      <td>0</td>\n",
       "    </tr>\n",
       "    <tr>\n",
       "      <th>17545</th>\n",
       "      <td>-0.050713</td>\n",
       "      <td>26305.0</td>\n",
       "      <td>1096</td>\n",
       "      <td>0</td>\n",
       "      <td>2014-01-01 01:00:00</td>\n",
       "      <td>MT_001</td>\n",
       "      <td>-1.516862</td>\n",
       "      <td>1</td>\n",
       "      <td>-0.499719</td>\n",
       "      <td>1</td>\n",
       "      <td>-1.731062</td>\n",
       "      <td>2</td>\n",
       "      <td>1</td>\n",
       "    </tr>\n",
       "    <tr>\n",
       "      <th>17546</th>\n",
       "      <td>-0.050713</td>\n",
       "      <td>26306.0</td>\n",
       "      <td>1096</td>\n",
       "      <td>0</td>\n",
       "      <td>2014-01-01 02:00:00</td>\n",
       "      <td>MT_001</td>\n",
       "      <td>-1.372399</td>\n",
       "      <td>1</td>\n",
       "      <td>-0.499719</td>\n",
       "      <td>1</td>\n",
       "      <td>-1.730403</td>\n",
       "      <td>2</td>\n",
       "      <td>2</td>\n",
       "    </tr>\n",
       "    <tr>\n",
       "      <th>17547</th>\n",
       "      <td>-0.050713</td>\n",
       "      <td>26307.0</td>\n",
       "      <td>1096</td>\n",
       "      <td>0</td>\n",
       "      <td>2014-01-01 03:00:00</td>\n",
       "      <td>MT_001</td>\n",
       "      <td>-1.227936</td>\n",
       "      <td>1</td>\n",
       "      <td>-0.499719</td>\n",
       "      <td>1</td>\n",
       "      <td>-1.729744</td>\n",
       "      <td>2</td>\n",
       "      <td>3</td>\n",
       "    </tr>\n",
       "    <tr>\n",
       "      <th>17548</th>\n",
       "      <td>-0.127174</td>\n",
       "      <td>26308.0</td>\n",
       "      <td>1096</td>\n",
       "      <td>0</td>\n",
       "      <td>2014-01-01 04:00:00</td>\n",
       "      <td>MT_001</td>\n",
       "      <td>-1.083473</td>\n",
       "      <td>1</td>\n",
       "      <td>-0.499719</td>\n",
       "      <td>1</td>\n",
       "      <td>-1.729085</td>\n",
       "      <td>2</td>\n",
       "      <td>4</td>\n",
       "    </tr>\n",
       "  </tbody>\n",
       "</table>\n",
       "</div>"
      ],
      "text/plain": [
       "       power_usage        t  days_from_start  categorical_id  \\\n",
       "17544    -0.127174  26304.0             1096               0   \n",
       "17545    -0.050713  26305.0             1096               0   \n",
       "17546    -0.050713  26306.0             1096               0   \n",
       "17547    -0.050713  26307.0             1096               0   \n",
       "17548    -0.127174  26308.0             1096               0   \n",
       "\n",
       "                      date      id      hour  day  day_of_week  month  \\\n",
       "17544  2014-01-01 00:00:00  MT_001 -1.661325    1    -0.499719      1   \n",
       "17545  2014-01-01 01:00:00  MT_001 -1.516862    1    -0.499719      1   \n",
       "17546  2014-01-01 02:00:00  MT_001 -1.372399    1    -0.499719      1   \n",
       "17547  2014-01-01 03:00:00  MT_001 -1.227936    1    -0.499719      1   \n",
       "17548  2014-01-01 04:00:00  MT_001 -1.083473    1    -0.499719      1   \n",
       "\n",
       "       hours_from_start  categorical_day_of_week  categorical_hour  \n",
       "17544         -1.731721                        2                 0  \n",
       "17545         -1.731062                        2                 1  \n",
       "17546         -1.730403                        2                 2  \n",
       "17547         -1.729744                        2                 3  \n",
       "17548         -1.729085                        2                 4  "
      ]
     },
     "execution_count": 17,
     "metadata": {},
     "output_type": "execute_result"
    }
   ],
   "source": [
    "train.head()"
   ]
  },
  {
   "cell_type": "markdown",
   "metadata": {},
   "source": [
    "looks like the data_formatter scaled \"power_usage\", \"hour\", \"day_of_week\", \"hours_from_start\""
   ]
  },
  {
   "cell_type": "code",
   "execution_count": 18,
   "metadata": {},
   "outputs": [],
   "source": [
    "column_definitions = formatter.get_column_definition()"
   ]
  },
  {
   "cell_type": "code",
   "execution_count": 19,
   "metadata": {},
   "outputs": [
    {
     "data": {
      "text/plain": [
       "[('id', <DataTypes.REAL_VALUED: 0>, <InputTypes.ID: 4>),\n",
       " ('hours_from_start', <DataTypes.REAL_VALUED: 0>, <InputTypes.TIME: 5>),\n",
       " ('power_usage', <DataTypes.REAL_VALUED: 0>, <InputTypes.TARGET: 0>),\n",
       " ('hour', <DataTypes.REAL_VALUED: 0>, <InputTypes.KNOWN_INPUT: 2>),\n",
       " ('day_of_week', <DataTypes.REAL_VALUED: 0>, <InputTypes.KNOWN_INPUT: 2>),\n",
       " ('hours_from_start', <DataTypes.REAL_VALUED: 0>, <InputTypes.KNOWN_INPUT: 2>),\n",
       " ('categorical_id', <DataTypes.CATEGORICAL: 1>, <InputTypes.STATIC_INPUT: 3>)]"
      ]
     },
     "execution_count": 19,
     "metadata": {},
     "output_type": "execute_result"
    }
   ],
   "source": [
    "column_definitions"
   ]
  },
  {
   "cell_type": "code",
   "execution_count": 20,
   "metadata": {},
   "outputs": [],
   "source": [
    "train_samples, valid_samples = formatter.get_num_samples_for_calibration()"
   ]
  },
  {
   "cell_type": "code",
   "execution_count": 21,
   "metadata": {},
   "outputs": [],
   "source": [
    "# Sets up default params\n",
    "fixed_params: Dict = formatter.get_experiment_params()\n",
    "params: Dict = formatter.get_default_model_params()\n",
    "params[\"model_folder\"]: str = os.path.join(config.model_folder, \"fixed\")\n",
    "model_folder = os.path.join(config.model_folder, \"fixed\")"
   ]
  },
  {
   "cell_type": "code",
   "execution_count": 22,
   "metadata": {},
   "outputs": [
    {
     "name": "stdout",
     "output_type": "stream",
     "text": [
      "*** Loading hyperparm manager ***\n"
     ]
    }
   ],
   "source": [
    "# Sets up hyperparam manager\n",
    "print(\"*** Loading hyperparm manager ***\")\n",
    "opt_manager = HyperparamOptManager({k: [params[k]] for k in params},\n",
    "                                   fixed_params, model_folder)"
   ]
  },
  {
   "cell_type": "code",
   "execution_count": 23,
   "metadata": {},
   "outputs": [],
   "source": [
    "model_folder: str = opt_manager.hyperparam_folder"
   ]
  },
  {
   "cell_type": "markdown",
   "metadata": {},
   "source": [
    "# ANALYZE PARAMETERS"
   ]
  },
  {
   "cell_type": "code",
   "execution_count": 24,
   "metadata": {},
   "outputs": [
    {
     "data": {
      "text/plain": [
       "dict_keys(['total_time_steps', 'num_encoder_steps', 'num_epochs', 'early_stopping_patience', 'multiprocessing_workers', 'column_definition', 'input_size', 'output_size', 'category_counts', 'input_obs_loc', 'static_input_loc', 'known_regular_inputs', 'known_categorical_inputs'])"
      ]
     },
     "execution_count": 24,
     "metadata": {},
     "output_type": "execute_result"
    }
   ],
   "source": [
    "fixed_params.keys()"
   ]
  },
  {
   "cell_type": "code",
   "execution_count": 25,
   "metadata": {},
   "outputs": [
    {
     "data": {
      "text/plain": [
       "[('id', <DataTypes.REAL_VALUED: 0>, <InputTypes.ID: 4>),\n",
       " ('hours_from_start', <DataTypes.REAL_VALUED: 0>, <InputTypes.TIME: 5>),\n",
       " ('power_usage', <DataTypes.REAL_VALUED: 0>, <InputTypes.TARGET: 0>),\n",
       " ('hour', <DataTypes.REAL_VALUED: 0>, <InputTypes.KNOWN_INPUT: 2>),\n",
       " ('day_of_week', <DataTypes.REAL_VALUED: 0>, <InputTypes.KNOWN_INPUT: 2>),\n",
       " ('hours_from_start', <DataTypes.REAL_VALUED: 0>, <InputTypes.KNOWN_INPUT: 2>),\n",
       " ('categorical_id', <DataTypes.CATEGORICAL: 1>, <InputTypes.STATIC_INPUT: 3>)]"
      ]
     },
     "execution_count": 25,
     "metadata": {},
     "output_type": "execute_result"
    }
   ],
   "source": [
    "#column definition\n",
    "fixed_params.get('column_definition')"
   ]
  },
  {
   "cell_type": "code",
   "execution_count": 26,
   "metadata": {},
   "outputs": [
    {
     "data": {
      "text/plain": [
       "[0]"
      ]
     },
     "execution_count": 26,
     "metadata": {},
     "output_type": "execute_result"
    }
   ],
   "source": [
    "fixed_params.get('known_categorical_inputs')"
   ]
  },
  {
   "cell_type": "markdown",
   "metadata": {},
   "source": [
    "# TRAINING"
   ]
  },
  {
   "cell_type": "code",
   "execution_count": null,
   "metadata": {},
   "outputs": [],
   "source": [
    "print(\"*** Running calibration ***\")\n",
    "print(\"Params Selected:\")\n",
    "for k in params:\n",
    "    print(\"{}: {}\".format(k, params[k]))\n",
    "    \n",
    "best_loss = np.Inf\n",
    "for _ in range(1):\n",
    "    tf1.reset_default_graph()\n",
    "    with tf.Graph().as_default(), tf1.Session(config=tf_config) as sess:\n",
    "        tf1.keras.backend.set_session(sess)\n",
    "        \n",
    "        params: Dict = opt_manager.get_next_parameters()\n",
    "        model: TemporalFusionTransformer = TemporalFusionTransformer(params, use_cudnn=False)\n",
    "\n",
    "        if not os.path.exists(os.path.join(model.data_folder, 'data.npy')) and not model.training_data_cached():\n",
    "            model.cache_batched_data(train, \"train\", num_samples=train_samples)\n",
    "            model.cache_batched_data(valid, \"valid\", num_samples=valid_samples)\n",
    "            \n",
    "        sess.run(tf1.global_variables_initializer())\n",
    "        model.fit() \n",
    "        \n",
    "        val_loss: Series = model.evaluate()\n",
    "            \n",
    "        if val_loss < best_loss:\n",
    "            opt_manager.update_score(params, val_loss, model)\n",
    "            best_loss = val_loss\n",
    "        tf1.keras.backend.set_session(default_keras_session)"
   ]
  },
  {
   "cell_type": "code",
   "execution_count": null,
   "metadata": {},
   "outputs": [],
   "source": [
    "model_ckpt: str = r'C:\\Users\\Lorenzo\\PycharmProjects\\TFT\\outputs\\saved_models\\electricity\\fixed\\TemporalFusionTransformer.check'"
   ]
  },
  {
   "cell_type": "code",
   "execution_count": 27,
   "metadata": {},
   "outputs": [],
   "source": [
    "folder: str = r'C:\\Users\\Lorenzo\\PycharmProjects\\TFT\\outputs\\data\\electricity\\data\\electricity'\n",
    "train_size: int = 450000"
   ]
  },
  {
   "cell_type": "code",
   "execution_count": 29,
   "metadata": {},
   "outputs": [],
   "source": [
    "def traindata_gen(folder: str, minibatch_size: int) -> Generator:\n",
    "    data: memmap = load(os.path.join(folder, 'data.npy'), mmap_mode='r')\n",
    "    print(type(data))\n",
    "    labels: memmap = load(os.path.join(folder, 'labels.npy'), mmap_mode='r')\n",
    "    active_flags: memmap = load(os.path.join(folder, 'active_flags.npy'), mmap_mode='r')\n",
    "    train_size: Tuple = data.shape\n",
    "    for i in range(train_size[0] // minibatch_size + 1):\n",
    "        upper = min((i + 1) * minibatch_size, train_size[0])\n",
    "\n",
    "        yield data[i * minibatch_size:upper], np.concatenate([labels[i * minibatch_size:upper],\n",
    "                                                                           labels[i * minibatch_size:upper],\n",
    "                                                                           labels[i * minibatch_size:upper]], axis=-1), \\\n",
    "                      active_flags[i * minibatch_size:upper]"
   ]
  },
  {
   "cell_type": "code",
   "execution_count": 34,
   "metadata": {},
   "outputs": [
    {
     "name": "stdout",
     "output_type": "stream",
     "text": [
      "<class 'numpy.memmap'>\n"
     ]
    },
    {
     "data": {
      "text/plain": [
       "7032"
      ]
     },
     "execution_count": 34,
     "metadata": {},
     "output_type": "execute_result"
    }
   ],
   "source": [
    "num_batches = 0\n",
    "for data, labels, active_flags in traindata_gen(folder, 64):\n",
    "    num_batches += 1\n",
    "num_batches"
   ]
  },
  {
   "cell_type": "code",
   "execution_count": 36,
   "metadata": {},
   "outputs": [
    {
     "data": {
      "text/plain": [
       "782"
      ]
     },
     "execution_count": 36,
     "metadata": {},
     "output_type": "execute_result"
    }
   ],
   "source": [
    "import math\n",
    "math.ceil(50000/64)"
   ]
  },
  {
   "cell_type": "code",
   "execution_count": null,
   "metadata": {},
   "outputs": [],
   "source": []
  }
 ],
 "metadata": {
  "kernelspec": {
   "display_name": "tft",
   "language": "python",
   "name": "tft"
  },
  "language_info": {
   "codemirror_mode": {
    "name": "ipython",
    "version": 3
   },
   "file_extension": ".py",
   "mimetype": "text/x-python",
   "name": "python",
   "nbconvert_exporter": "python",
   "pygments_lexer": "ipython3",
   "version": "3.7.9"
  }
 },
 "nbformat": 4,
 "nbformat_minor": 4
}
