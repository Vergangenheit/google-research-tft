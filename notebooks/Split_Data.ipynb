{
 "cells": [
  {
   "cell_type": "markdown",
   "metadata": {},
   "source": [
    "analyze split_data method from data_formatter class(GenericDataFormatter)"
   ]
  },
  {
   "cell_type": "code",
   "execution_count": 1,
   "metadata": {},
   "outputs": [],
   "source": [
    "import numpy as np\n",
    "import pandas as pd\n",
    "from pandas import DataFrame, Series\n",
    "import tensorflow as tf\n",
    "import tensorflow.compat.v1 as tf1\n",
    "from tensorflow.compat.v1 import Session, ConfigProto\n",
    "from tensorflow.python.eager.context import PhysicalDevice\n",
    "from typing import Dict, List, Union, Generator\n",
    "import os\n",
    "from numpy import load"
   ]
  },
  {
   "cell_type": "code",
   "execution_count": 2,
   "metadata": {},
   "outputs": [],
   "source": [
    "import sys\n",
    "sys.path.insert(0, '..')"
   ]
  },
  {
   "cell_type": "code",
   "execution_count": 3,
   "metadata": {},
   "outputs": [],
   "source": [
    "from data_formatters.base import GenericDataFormatter, InputTypes, DataTypes\n",
    "from data_formatters.erg_wind import ErgFormatter"
   ]
  },
  {
   "cell_type": "code",
   "execution_count": 4,
   "metadata": {},
   "outputs": [],
   "source": [
    "from expt_settings.configs import ExperimentConfig\n",
    "from libs.hyperparam_opt import HyperparamOptManager\n",
    "from libs.tft_model import TemporalFusionTransformer\n",
    "import libs.utils as utils"
   ]
  },
  {
   "cell_type": "code",
   "execution_count": 5,
   "metadata": {},
   "outputs": [
    {
     "name": "stdout",
     "output_type": "stream",
     "text": [
      "Default GPU Device:/device:GPU:0\n"
     ]
    }
   ],
   "source": [
    "if tf.test.gpu_device_name(): \n",
    "    print('Default GPU Device:{}'.format(tf.test.gpu_device_name()))\n",
    "else:\n",
    "    print(\"Please install GPU version of TF\")"
   ]
  },
  {
   "cell_type": "code",
   "execution_count": 6,
   "metadata": {},
   "outputs": [],
   "source": [
    "gpu: List[PhysicalDevice] = tf.config.experimental.list_physical_devices('GPU')\n",
    "tf.config.experimental.set_memory_growth(gpu[0], True)"
   ]
  },
  {
   "cell_type": "code",
   "execution_count": 7,
   "metadata": {},
   "outputs": [
    {
     "name": "stdout",
     "output_type": "stream",
     "text": [
      "Selecting GPU ID=0\n"
     ]
    }
   ],
   "source": [
    "# Tensorflow setup\n",
    "default_keras_session: Session = tf1.keras.backend.get_session()\n",
    "tf_config: ConfigProto = utils.get_default_tensorflow_config(tf_device=\"gpu\", gpu_id=0)"
   ]
  },
  {
   "cell_type": "code",
   "execution_count": 8,
   "metadata": {},
   "outputs": [],
   "source": [
    "file_path: str = r'C:\\Users\\Lorenzo\\PycharmProjects\\TFT\\outputs\\data\\erg\\erg_7farms_final.csv'"
   ]
  },
  {
   "cell_type": "code",
   "execution_count": 9,
   "metadata": {},
   "outputs": [],
   "source": [
    "raw_data: DataFrame = pd.read_csv(file_path)"
   ]
  },
  {
   "cell_type": "code",
   "execution_count": 10,
   "metadata": {},
   "outputs": [
    {
     "data": {
      "text/html": [
       "<div>\n",
       "<style scoped>\n",
       "    .dataframe tbody tr th:only-of-type {\n",
       "        vertical-align: middle;\n",
       "    }\n",
       "\n",
       "    .dataframe tbody tr th {\n",
       "        vertical-align: top;\n",
       "    }\n",
       "\n",
       "    .dataframe thead th {\n",
       "        text-align: right;\n",
       "    }\n",
       "</style>\n",
       "<table border=\"1\" class=\"dataframe\">\n",
       "  <thead>\n",
       "    <tr style=\"text-align: right;\">\n",
       "      <th></th>\n",
       "      <th>energy_mw</th>\n",
       "      <th>time</th>\n",
       "      <th>Wind Speed</th>\n",
       "      <th>2m_devpoint [C]</th>\n",
       "      <th>temperature [C]</th>\n",
       "      <th>mean_sealev_pressure [hPa]</th>\n",
       "      <th>surface pressure [hPa]</th>\n",
       "      <th>precipitation [m]</th>\n",
       "      <th>10_wind_speed</th>\n",
       "      <th>10_u_wind</th>\n",
       "      <th>...</th>\n",
       "      <th>days_from_start</th>\n",
       "      <th>id</th>\n",
       "      <th>hour</th>\n",
       "      <th>day</th>\n",
       "      <th>day_of_week</th>\n",
       "      <th>month</th>\n",
       "      <th>categorical_id</th>\n",
       "      <th>hours_from_start</th>\n",
       "      <th>categorical_day_of_week</th>\n",
       "      <th>categorical_hour</th>\n",
       "    </tr>\n",
       "  </thead>\n",
       "  <tbody>\n",
       "    <tr>\n",
       "      <th>0</th>\n",
       "      <td>11.787686</td>\n",
       "      <td>2019-01-01 01:00:00</td>\n",
       "      <td>9.024996</td>\n",
       "      <td>-0.595344</td>\n",
       "      <td>3.746035</td>\n",
       "      <td>1023.987081</td>\n",
       "      <td>952.041642</td>\n",
       "      <td>0.017248</td>\n",
       "      <td>3.077197</td>\n",
       "      <td>-0.290841</td>\n",
       "      <td>...</td>\n",
       "      <td>0</td>\n",
       "      <td>BISACCIA2</td>\n",
       "      <td>1</td>\n",
       "      <td>1</td>\n",
       "      <td>1</td>\n",
       "      <td>1</td>\n",
       "      <td>BISACCIA2</td>\n",
       "      <td>0.0</td>\n",
       "      <td>1</td>\n",
       "      <td>1</td>\n",
       "    </tr>\n",
       "    <tr>\n",
       "      <th>1</th>\n",
       "      <td>12.321628</td>\n",
       "      <td>2019-01-01 02:00:00</td>\n",
       "      <td>9.115065</td>\n",
       "      <td>0.186824</td>\n",
       "      <td>4.068633</td>\n",
       "      <td>1023.939205</td>\n",
       "      <td>952.043340</td>\n",
       "      <td>0.066301</td>\n",
       "      <td>3.056552</td>\n",
       "      <td>-0.466334</td>\n",
       "      <td>...</td>\n",
       "      <td>0</td>\n",
       "      <td>BISACCIA2</td>\n",
       "      <td>2</td>\n",
       "      <td>1</td>\n",
       "      <td>1</td>\n",
       "      <td>1</td>\n",
       "      <td>BISACCIA2</td>\n",
       "      <td>1.0</td>\n",
       "      <td>1</td>\n",
       "      <td>2</td>\n",
       "    </tr>\n",
       "    <tr>\n",
       "      <th>2</th>\n",
       "      <td>12.217240</td>\n",
       "      <td>2019-01-01 03:00:00</td>\n",
       "      <td>8.807608</td>\n",
       "      <td>0.119856</td>\n",
       "      <td>3.750193</td>\n",
       "      <td>1023.588209</td>\n",
       "      <td>951.729260</td>\n",
       "      <td>0.053635</td>\n",
       "      <td>3.240812</td>\n",
       "      <td>-0.547045</td>\n",
       "      <td>...</td>\n",
       "      <td>0</td>\n",
       "      <td>BISACCIA2</td>\n",
       "      <td>3</td>\n",
       "      <td>1</td>\n",
       "      <td>1</td>\n",
       "      <td>1</td>\n",
       "      <td>BISACCIA2</td>\n",
       "      <td>2.0</td>\n",
       "      <td>1</td>\n",
       "      <td>3</td>\n",
       "    </tr>\n",
       "    <tr>\n",
       "      <th>3</th>\n",
       "      <td>12.117007</td>\n",
       "      <td>2019-01-01 04:00:00</td>\n",
       "      <td>9.551801</td>\n",
       "      <td>-0.312831</td>\n",
       "      <td>3.430814</td>\n",
       "      <td>1023.465573</td>\n",
       "      <td>951.629732</td>\n",
       "      <td>0.026092</td>\n",
       "      <td>3.616165</td>\n",
       "      <td>-0.753333</td>\n",
       "      <td>...</td>\n",
       "      <td>0</td>\n",
       "      <td>BISACCIA2</td>\n",
       "      <td>4</td>\n",
       "      <td>1</td>\n",
       "      <td>1</td>\n",
       "      <td>1</td>\n",
       "      <td>BISACCIA2</td>\n",
       "      <td>3.0</td>\n",
       "      <td>1</td>\n",
       "      <td>4</td>\n",
       "    </tr>\n",
       "    <tr>\n",
       "      <th>4</th>\n",
       "      <td>12.415503</td>\n",
       "      <td>2019-01-01 05:00:00</td>\n",
       "      <td>8.734134</td>\n",
       "      <td>-0.526966</td>\n",
       "      <td>3.453347</td>\n",
       "      <td>1023.853208</td>\n",
       "      <td>951.984117</td>\n",
       "      <td>0.016079</td>\n",
       "      <td>3.446475</td>\n",
       "      <td>-0.759338</td>\n",
       "      <td>...</td>\n",
       "      <td>0</td>\n",
       "      <td>BISACCIA2</td>\n",
       "      <td>5</td>\n",
       "      <td>1</td>\n",
       "      <td>1</td>\n",
       "      <td>1</td>\n",
       "      <td>BISACCIA2</td>\n",
       "      <td>4.0</td>\n",
       "      <td>1</td>\n",
       "      <td>5</td>\n",
       "    </tr>\n",
       "  </tbody>\n",
       "</table>\n",
       "<p>5 rows × 28 columns</p>\n",
       "</div>"
      ],
      "text/plain": [
       "   energy_mw                 time  Wind Speed  2m_devpoint [C]  \\\n",
       "0  11.787686  2019-01-01 01:00:00    9.024996        -0.595344   \n",
       "1  12.321628  2019-01-01 02:00:00    9.115065         0.186824   \n",
       "2  12.217240  2019-01-01 03:00:00    8.807608         0.119856   \n",
       "3  12.117007  2019-01-01 04:00:00    9.551801        -0.312831   \n",
       "4  12.415503  2019-01-01 05:00:00    8.734134        -0.526966   \n",
       "\n",
       "   temperature [C]  mean_sealev_pressure [hPa]  surface pressure [hPa]  \\\n",
       "0         3.746035                 1023.987081              952.041642   \n",
       "1         4.068633                 1023.939205              952.043340   \n",
       "2         3.750193                 1023.588209              951.729260   \n",
       "3         3.430814                 1023.465573              951.629732   \n",
       "4         3.453347                 1023.853208              951.984117   \n",
       "\n",
       "   precipitation [m]  10_wind_speed  10_u_wind  ...  days_from_start  \\\n",
       "0           0.017248       3.077197  -0.290841  ...                0   \n",
       "1           0.066301       3.056552  -0.466334  ...                0   \n",
       "2           0.053635       3.240812  -0.547045  ...                0   \n",
       "3           0.026092       3.616165  -0.753333  ...                0   \n",
       "4           0.016079       3.446475  -0.759338  ...                0   \n",
       "\n",
       "          id  hour  day  day_of_week  month categorical_id  hours_from_start  \\\n",
       "0  BISACCIA2     1    1            1      1      BISACCIA2               0.0   \n",
       "1  BISACCIA2     2    1            1      1      BISACCIA2               1.0   \n",
       "2  BISACCIA2     3    1            1      1      BISACCIA2               2.0   \n",
       "3  BISACCIA2     4    1            1      1      BISACCIA2               3.0   \n",
       "4  BISACCIA2     5    1            1      1      BISACCIA2               4.0   \n",
       "\n",
       "   categorical_day_of_week categorical_hour  \n",
       "0                        1                1  \n",
       "1                        1                2  \n",
       "2                        1                3  \n",
       "3                        1                4  \n",
       "4                        1                5  \n",
       "\n",
       "[5 rows x 28 columns]"
      ]
     },
     "execution_count": 10,
     "metadata": {},
     "output_type": "execute_result"
    }
   ],
   "source": [
    "raw_data.head()"
   ]
  },
  {
   "cell_type": "code",
   "execution_count": 11,
   "metadata": {},
   "outputs": [],
   "source": [
    "config = ExperimentConfig('erg_wind', r'C:\\Users\\Lorenzo\\PycharmProjects\\TFT\\outputs')"
   ]
  },
  {
   "cell_type": "code",
   "execution_count": 12,
   "metadata": {},
   "outputs": [],
   "source": [
    "formatter: ErgFormatter = config.make_data_formatter()"
   ]
  },
  {
   "cell_type": "markdown",
   "metadata": {},
   "source": [
    "# SPLIT THE DATA"
   ]
  },
  {
   "cell_type": "code",
   "execution_count": 13,
   "metadata": {},
   "outputs": [
    {
     "name": "stdout",
     "output_type": "stream",
     "text": [
      "Setting scalers with training data...\n"
     ]
    }
   ],
   "source": [
    "train, valid, test = formatter.split_data(raw_data)"
   ]
  },
  {
   "cell_type": "code",
   "execution_count": 14,
   "metadata": {},
   "outputs": [
    {
     "data": {
      "text/html": [
       "<div>\n",
       "<style scoped>\n",
       "    .dataframe tbody tr th:only-of-type {\n",
       "        vertical-align: middle;\n",
       "    }\n",
       "\n",
       "    .dataframe tbody tr th {\n",
       "        vertical-align: top;\n",
       "    }\n",
       "\n",
       "    .dataframe thead th {\n",
       "        text-align: right;\n",
       "    }\n",
       "</style>\n",
       "<table border=\"1\" class=\"dataframe\">\n",
       "  <thead>\n",
       "    <tr style=\"text-align: right;\">\n",
       "      <th></th>\n",
       "      <th>energy_mw</th>\n",
       "      <th>time</th>\n",
       "      <th>Wind Speed</th>\n",
       "      <th>2m_devpoint [C]</th>\n",
       "      <th>temperature [C]</th>\n",
       "      <th>mean_sealev_pressure [hPa]</th>\n",
       "      <th>surface pressure [hPa]</th>\n",
       "      <th>precipitation [m]</th>\n",
       "      <th>10_wind_speed</th>\n",
       "      <th>10_u_wind</th>\n",
       "      <th>...</th>\n",
       "      <th>days_from_start</th>\n",
       "      <th>id</th>\n",
       "      <th>hour</th>\n",
       "      <th>day</th>\n",
       "      <th>day_of_week</th>\n",
       "      <th>month</th>\n",
       "      <th>categorical_id</th>\n",
       "      <th>hours_from_start</th>\n",
       "      <th>categorical_day_of_week</th>\n",
       "      <th>categorical_hour</th>\n",
       "    </tr>\n",
       "  </thead>\n",
       "  <tbody>\n",
       "    <tr>\n",
       "      <th>0</th>\n",
       "      <td>1.128229</td>\n",
       "      <td>2019-01-01 01:00:00</td>\n",
       "      <td>1.064353</td>\n",
       "      <td>-1.362439</td>\n",
       "      <td>-1.210837</td>\n",
       "      <td>1.380884</td>\n",
       "      <td>0.953412</td>\n",
       "      <td>-0.230677</td>\n",
       "      <td>0.382889</td>\n",
       "      <td>-0.739538</td>\n",
       "      <td>...</td>\n",
       "      <td>0</td>\n",
       "      <td>BISACCIA2</td>\n",
       "      <td>-1.517353</td>\n",
       "      <td>1</td>\n",
       "      <td>-0.996175</td>\n",
       "      <td>1</td>\n",
       "      <td>0</td>\n",
       "      <td>-1.731744</td>\n",
       "      <td>1</td>\n",
       "      <td>1</td>\n",
       "    </tr>\n",
       "    <tr>\n",
       "      <th>1</th>\n",
       "      <td>1.223101</td>\n",
       "      <td>2019-01-01 02:00:00</td>\n",
       "      <td>1.095221</td>\n",
       "      <td>-1.242118</td>\n",
       "      <td>-1.174165</td>\n",
       "      <td>1.373247</td>\n",
       "      <td>0.953700</td>\n",
       "      <td>-0.079954</td>\n",
       "      <td>0.368875</td>\n",
       "      <td>-0.850950</td>\n",
       "      <td>...</td>\n",
       "      <td>0</td>\n",
       "      <td>BISACCIA2</td>\n",
       "      <td>-1.372870</td>\n",
       "      <td>1</td>\n",
       "      <td>-0.996175</td>\n",
       "      <td>1</td>\n",
       "      <td>0</td>\n",
       "      <td>-1.731175</td>\n",
       "      <td>1</td>\n",
       "      <td>2</td>\n",
       "    </tr>\n",
       "    <tr>\n",
       "      <th>2</th>\n",
       "      <td>1.204553</td>\n",
       "      <td>2019-01-01 03:00:00</td>\n",
       "      <td>0.989852</td>\n",
       "      <td>-1.252420</td>\n",
       "      <td>-1.210364</td>\n",
       "      <td>1.317254</td>\n",
       "      <td>0.900357</td>\n",
       "      <td>-0.118873</td>\n",
       "      <td>0.493950</td>\n",
       "      <td>-0.902189</td>\n",
       "      <td>...</td>\n",
       "      <td>0</td>\n",
       "      <td>BISACCIA2</td>\n",
       "      <td>-1.228386</td>\n",
       "      <td>1</td>\n",
       "      <td>-0.996175</td>\n",
       "      <td>1</td>\n",
       "      <td>0</td>\n",
       "      <td>-1.730607</td>\n",
       "      <td>1</td>\n",
       "      <td>3</td>\n",
       "    </tr>\n",
       "    <tr>\n",
       "      <th>3</th>\n",
       "      <td>1.186743</td>\n",
       "      <td>2019-01-01 04:00:00</td>\n",
       "      <td>1.244895</td>\n",
       "      <td>-1.318980</td>\n",
       "      <td>-1.246671</td>\n",
       "      <td>1.297690</td>\n",
       "      <td>0.883453</td>\n",
       "      <td>-0.203501</td>\n",
       "      <td>0.748738</td>\n",
       "      <td>-1.033151</td>\n",
       "      <td>...</td>\n",
       "      <td>0</td>\n",
       "      <td>BISACCIA2</td>\n",
       "      <td>-1.083902</td>\n",
       "      <td>1</td>\n",
       "      <td>-0.996175</td>\n",
       "      <td>1</td>\n",
       "      <td>0</td>\n",
       "      <td>-1.730039</td>\n",
       "      <td>1</td>\n",
       "      <td>4</td>\n",
       "    </tr>\n",
       "    <tr>\n",
       "      <th>4</th>\n",
       "      <td>1.239781</td>\n",
       "      <td>2019-01-01 05:00:00</td>\n",
       "      <td>0.964672</td>\n",
       "      <td>-1.351920</td>\n",
       "      <td>-1.244109</td>\n",
       "      <td>1.359528</td>\n",
       "      <td>0.943642</td>\n",
       "      <td>-0.234269</td>\n",
       "      <td>0.633553</td>\n",
       "      <td>-1.036963</td>\n",
       "      <td>...</td>\n",
       "      <td>0</td>\n",
       "      <td>BISACCIA2</td>\n",
       "      <td>-0.939418</td>\n",
       "      <td>1</td>\n",
       "      <td>-0.996175</td>\n",
       "      <td>1</td>\n",
       "      <td>0</td>\n",
       "      <td>-1.729471</td>\n",
       "      <td>1</td>\n",
       "      <td>5</td>\n",
       "    </tr>\n",
       "  </tbody>\n",
       "</table>\n",
       "<p>5 rows × 28 columns</p>\n",
       "</div>"
      ],
      "text/plain": [
       "   energy_mw                 time  Wind Speed  2m_devpoint [C]  \\\n",
       "0   1.128229  2019-01-01 01:00:00    1.064353        -1.362439   \n",
       "1   1.223101  2019-01-01 02:00:00    1.095221        -1.242118   \n",
       "2   1.204553  2019-01-01 03:00:00    0.989852        -1.252420   \n",
       "3   1.186743  2019-01-01 04:00:00    1.244895        -1.318980   \n",
       "4   1.239781  2019-01-01 05:00:00    0.964672        -1.351920   \n",
       "\n",
       "   temperature [C]  mean_sealev_pressure [hPa]  surface pressure [hPa]  \\\n",
       "0        -1.210837                    1.380884                0.953412   \n",
       "1        -1.174165                    1.373247                0.953700   \n",
       "2        -1.210364                    1.317254                0.900357   \n",
       "3        -1.246671                    1.297690                0.883453   \n",
       "4        -1.244109                    1.359528                0.943642   \n",
       "\n",
       "   precipitation [m]  10_wind_speed  10_u_wind  ...  days_from_start  \\\n",
       "0          -0.230677       0.382889  -0.739538  ...                0   \n",
       "1          -0.079954       0.368875  -0.850950  ...                0   \n",
       "2          -0.118873       0.493950  -0.902189  ...                0   \n",
       "3          -0.203501       0.748738  -1.033151  ...                0   \n",
       "4          -0.234269       0.633553  -1.036963  ...                0   \n",
       "\n",
       "          id      hour  day  day_of_week  month categorical_id  \\\n",
       "0  BISACCIA2 -1.517353    1    -0.996175      1              0   \n",
       "1  BISACCIA2 -1.372870    1    -0.996175      1              0   \n",
       "2  BISACCIA2 -1.228386    1    -0.996175      1              0   \n",
       "3  BISACCIA2 -1.083902    1    -0.996175      1              0   \n",
       "4  BISACCIA2 -0.939418    1    -0.996175      1              0   \n",
       "\n",
       "   hours_from_start  categorical_day_of_week categorical_hour  \n",
       "0         -1.731744                        1                1  \n",
       "1         -1.731175                        1                2  \n",
       "2         -1.730607                        1                3  \n",
       "3         -1.730039                        1                4  \n",
       "4         -1.729471                        1                5  \n",
       "\n",
       "[5 rows x 28 columns]"
      ]
     },
     "execution_count": 14,
     "metadata": {},
     "output_type": "execute_result"
    }
   ],
   "source": [
    "train.head()"
   ]
  },
  {
   "cell_type": "markdown",
   "metadata": {},
   "source": [
    "looks like the data_formatter scaled \"power_usage\", \"hour\", \"day_of_week\", \"hours_from_start\""
   ]
  },
  {
   "cell_type": "code",
   "execution_count": null,
   "metadata": {},
   "outputs": [],
   "source": [
    "column_definitions = formatter.get_column_definition()"
   ]
  },
  {
   "cell_type": "code",
   "execution_count": null,
   "metadata": {},
   "outputs": [],
   "source": [
    "column_definitions"
   ]
  },
  {
   "cell_type": "code",
   "execution_count": null,
   "metadata": {},
   "outputs": [],
   "source": [
    "train_samples, valid_samples = formatter.get_num_samples_for_calibration()"
   ]
  },
  {
   "cell_type": "code",
   "execution_count": null,
   "metadata": {},
   "outputs": [],
   "source": [
    "# Sets up default params\n",
    "fixed_params: Dict = formatter.get_experiment_params()\n",
    "params: Dict = formatter.get_default_model_params()\n",
    "params[\"model_folder\"]: str = os.path.join(config.model_folder, \"fixed\")\n",
    "model_folder = os.path.join(config.model_folder, \"fixed\")"
   ]
  },
  {
   "cell_type": "code",
   "execution_count": null,
   "metadata": {},
   "outputs": [],
   "source": [
    "# Sets up hyperparam manager\n",
    "print(\"*** Loading hyperparm manager ***\")\n",
    "opt_manager = HyperparamOptManager({k: [params[k]] for k in params},\n",
    "                                   fixed_params, model_folder)"
   ]
  },
  {
   "cell_type": "code",
   "execution_count": null,
   "metadata": {},
   "outputs": [],
   "source": [
    "model_folder: str = opt_manager.hyperparam_folder"
   ]
  },
  {
   "cell_type": "markdown",
   "metadata": {},
   "source": [
    "# ANALYZE PARAMETERS"
   ]
  },
  {
   "cell_type": "code",
   "execution_count": null,
   "metadata": {},
   "outputs": [],
   "source": [
    "fixed_params.keys()"
   ]
  },
  {
   "cell_type": "code",
   "execution_count": null,
   "metadata": {},
   "outputs": [],
   "source": [
    "#column definition\n",
    "fixed_params.get('column_definition')"
   ]
  },
  {
   "cell_type": "code",
   "execution_count": null,
   "metadata": {},
   "outputs": [],
   "source": [
    "fixed_params.get('known_categorical_inputs')"
   ]
  },
  {
   "cell_type": "markdown",
   "metadata": {},
   "source": [
    "# TRAINING"
   ]
  },
  {
   "cell_type": "code",
   "execution_count": null,
   "metadata": {},
   "outputs": [],
   "source": [
    "print(\"*** Running calibration ***\")\n",
    "print(\"Params Selected:\")\n",
    "for k in params:\n",
    "    print(\"{}: {}\".format(k, params[k]))\n",
    "    \n",
    "best_loss = np.Inf\n",
    "for _ in range(1):\n",
    "    tf1.reset_default_graph()\n",
    "    with tf.Graph().as_default(), tf1.Session(config=tf_config) as sess:\n",
    "        tf1.keras.backend.set_session(sess)\n",
    "        \n",
    "        params: Dict = opt_manager.get_next_parameters()\n",
    "        model: TemporalFusionTransformer = TemporalFusionTransformer(params, use_cudnn=False)\n",
    "\n",
    "        if not os.path.exists(os.path.join(model.data_folder, 'data.npy')) and not model.training_data_cached():\n",
    "            model.cache_batched_data(train, \"train\", num_samples=train_samples)\n",
    "            model.cache_batched_data(valid, \"valid\", num_samples=valid_samples)\n",
    "            \n",
    "        sess.run(tf1.global_variables_initializer())\n",
    "        model.fit() \n",
    "        \n",
    "        val_loss: Series = model.evaluate()\n",
    "            \n",
    "        if val_loss < best_loss:\n",
    "            opt_manager.update_score(params, val_loss, model)\n",
    "            best_loss = val_loss\n",
    "        tf1.keras.backend.set_session(default_keras_session)"
   ]
  },
  {
   "cell_type": "code",
   "execution_count": null,
   "metadata": {},
   "outputs": [],
   "source": [
    "model_ckpt: str = r'C:\\Users\\Lorenzo\\PycharmProjects\\TFT\\outputs\\saved_models\\electricity\\fixed\\TemporalFusionTransformer.check'"
   ]
  },
  {
   "cell_type": "code",
   "execution_count": null,
   "metadata": {},
   "outputs": [],
   "source": [
    "folder: str = r'C:\\Users\\Lorenzo\\PycharmProjects\\TFT\\outputs\\data\\electricity\\data\\electricity'\n",
    "train_size: int = 450000"
   ]
  },
  {
   "cell_type": "code",
   "execution_count": null,
   "metadata": {},
   "outputs": [],
   "source": [
    "def traindata_gen(folder: str, minibatch_size: int) -> Generator:\n",
    "    data: memmap = load(os.path.join(folder, 'data.npy'), mmap_mode='r')\n",
    "    print(type(data))\n",
    "    labels: memmap = load(os.path.join(folder, 'labels.npy'), mmap_mode='r')\n",
    "    active_flags: memmap = load(os.path.join(folder, 'active_flags.npy'), mmap_mode='r')\n",
    "    train_size: Tuple = data.shape\n",
    "    for i in range(train_size[0] // minibatch_size + 1):\n",
    "        upper = min((i + 1) * minibatch_size, train_size[0])\n",
    "\n",
    "        yield data[i * minibatch_size:upper], np.concatenate([labels[i * minibatch_size:upper],\n",
    "                                                                           labels[i * minibatch_size:upper],\n",
    "                                                                           labels[i * minibatch_size:upper]], axis=-1), \\\n",
    "                      active_flags[i * minibatch_size:upper]"
   ]
  },
  {
   "cell_type": "code",
   "execution_count": null,
   "metadata": {},
   "outputs": [],
   "source": [
    "num_batches = 0\n",
    "for data, labels, active_flags in traindata_gen(folder, 64):\n",
    "    num_batches += 1\n",
    "num_batches"
   ]
  },
  {
   "cell_type": "code",
   "execution_count": null,
   "metadata": {},
   "outputs": [],
   "source": [
    "import math\n",
    "math.ceil(50000/64)"
   ]
  },
  {
   "cell_type": "code",
   "execution_count": null,
   "metadata": {},
   "outputs": [],
   "source": []
  }
 ],
 "metadata": {
  "kernelspec": {
   "display_name": "tft",
   "language": "python",
   "name": "tft"
  },
  "language_info": {
   "codemirror_mode": {
    "name": "ipython",
    "version": 3
   },
   "file_extension": ".py",
   "mimetype": "text/x-python",
   "name": "python",
   "nbconvert_exporter": "python",
   "pygments_lexer": "ipython3",
   "version": "3.7.9"
  }
 },
 "nbformat": 4,
 "nbformat_minor": 4
}
