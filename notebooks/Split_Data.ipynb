{
 "cells": [
  {
   "cell_type": "markdown",
   "metadata": {},
   "source": [
    "analyze split_data method from data_formatter class(GenericDataFormatter)"
   ]
  },
  {
   "cell_type": "code",
   "execution_count": null,
   "metadata": {},
   "outputs": [],
   "source": [
    "import numpy as np\n",
    "import pandas as pd\n",
    "from pandas import DataFrame, Series\n",
    "import tensorflow as tf\n",
    "import tensorflow.compat.v1 as tf1\n",
    "from tensorflow.compat.v1 import Session, ConfigProto\n",
    "from tensorflow.python.eager.context import PhysicalDevice\n",
    "from typing import Dict, List, Union, Generator\n",
    "import os\n",
    "from numpy import load"
   ]
  },
  {
   "cell_type": "code",
   "execution_count": null,
   "metadata": {},
   "outputs": [],
   "source": [
    "import sys\n",
    "sys.path.insert(0, '..')"
   ]
  },
  {
   "cell_type": "code",
   "execution_count": null,
   "metadata": {},
   "outputs": [],
   "source": [
    "from data_formatters.base import GenericDataFormatter, InputTypes, DataTypes\n",
    "from data_formatters.electricity import ElectricityFormatter"
   ]
  },
  {
   "cell_type": "code",
   "execution_count": null,
   "metadata": {},
   "outputs": [],
   "source": [
    "from expt_settings.configs import ExperimentConfig\n",
    "from libs.hyperparam_opt import HyperparamOptManager\n",
    "from libs.tft_model import TemporalFusionTransformer\n",
    "import libs.utils as utils"
   ]
  },
  {
   "cell_type": "code",
   "execution_count": null,
   "metadata": {},
   "outputs": [],
   "source": [
    " if tf.test.gpu_device_name(): \n",
    "    print('Default GPU Device:{}'.format(tf.test.gpu_device_name()))\n",
    "else:\n",
    "    print(\"Please install GPU version of TF\")"
   ]
  },
  {
   "cell_type": "code",
   "execution_count": null,
   "metadata": {},
   "outputs": [],
   "source": [
    "gpu: List[PhysicalDevice] = tf.config.experimental.list_physical_devices('GPU')\n",
    "tf.config.experimental.set_memory_growth(gpu[0], True)"
   ]
  },
  {
   "cell_type": "code",
   "execution_count": null,
   "metadata": {},
   "outputs": [],
   "source": [
    "# Tensorflow setup\n",
    "default_keras_session: Session = tf1.keras.backend.get_session()\n",
    "tf_config: ConfigProto = utils.get_default_tensorflow_config(tf_device=\"gpu\", gpu_id=0)"
   ]
  },
  {
   "cell_type": "code",
   "execution_count": null,
   "metadata": {},
   "outputs": [],
   "source": [
    "file_path: str = r'C:\\Users\\Lorenzo\\PycharmProjects\\TFT\\outputs\\data\\electricity\\data\\electricity\\hourly_electricity.csv'"
   ]
  },
  {
   "cell_type": "code",
   "execution_count": null,
   "metadata": {},
   "outputs": [],
   "source": [
    "raw_data: DataFrame = pd.read_csv(file_path, index_col=0)"
   ]
  },
  {
   "cell_type": "code",
   "execution_count": null,
   "metadata": {},
   "outputs": [],
   "source": [
    "config = ExperimentConfig('electricity', r'C:\\Users\\Lorenzo\\PycharmProjects\\TFT\\outputs')"
   ]
  },
  {
   "cell_type": "code",
   "execution_count": null,
   "metadata": {},
   "outputs": [],
   "source": [
    "formatter: ElectricityFormatter = config.make_data_formatter()"
   ]
  },
  {
   "cell_type": "markdown",
   "metadata": {},
   "source": [
    "# SPLIT THE DATA"
   ]
  },
  {
   "cell_type": "code",
   "execution_count": null,
   "metadata": {},
   "outputs": [],
   "source": [
    "train, valid, test = formatter.split_data(raw_data)"
   ]
  },
  {
   "cell_type": "code",
   "execution_count": null,
   "metadata": {},
   "outputs": [],
   "source": [
    "train.head()"
   ]
  },
  {
   "cell_type": "code",
   "execution_count": null,
   "metadata": {},
   "outputs": [],
   "source": [
    "train.columns"
   ]
  },
  {
   "cell_type": "code",
   "execution_count": null,
   "metadata": {},
   "outputs": [],
   "source": [
    "raw_data.columns"
   ]
  },
  {
   "cell_type": "code",
   "execution_count": null,
   "metadata": {},
   "outputs": [],
   "source": [
    "raw_data.head()"
   ]
  },
  {
   "cell_type": "code",
   "execution_count": null,
   "metadata": {},
   "outputs": [],
   "source": [
    "train.head()"
   ]
  },
  {
   "cell_type": "markdown",
   "metadata": {},
   "source": [
    "looks like the data_formatter scaled \"power_usage\", \"hour\", \"day_of_week\", \"hours_from_start\""
   ]
  },
  {
   "cell_type": "code",
   "execution_count": null,
   "metadata": {},
   "outputs": [],
   "source": [
    "column_definitions = formatter.get_column_definition()"
   ]
  },
  {
   "cell_type": "code",
   "execution_count": null,
   "metadata": {},
   "outputs": [],
   "source": [
    "column_definitions"
   ]
  },
  {
   "cell_type": "code",
   "execution_count": null,
   "metadata": {},
   "outputs": [],
   "source": [
    "train_samples, valid_samples = formatter.get_num_samples_for_calibration()"
   ]
  },
  {
   "cell_type": "code",
   "execution_count": null,
   "metadata": {},
   "outputs": [],
   "source": [
    "# Sets up default params\n",
    "fixed_params: Dict = formatter.get_experiment_params()\n",
    "params: Dict = formatter.get_default_model_params()\n",
    "params[\"model_folder\"]: str = os.path.join(config.model_folder, \"fixed\")\n",
    "model_folder = os.path.join(config.model_folder, \"fixed\")"
   ]
  },
  {
   "cell_type": "code",
   "execution_count": null,
   "metadata": {},
   "outputs": [],
   "source": [
    "# Sets up hyperparam manager\n",
    "print(\"*** Loading hyperparm manager ***\")\n",
    "opt_manager = HyperparamOptManager({k: [params[k]] for k in params},\n",
    "                                   fixed_params, model_folder)"
   ]
  },
  {
   "cell_type": "code",
   "execution_count": null,
   "metadata": {},
   "outputs": [],
   "source": [
    "model_folder: str = opt_manager.hyperparam_folder"
   ]
  },
  {
   "cell_type": "markdown",
   "metadata": {},
   "source": [
    "# ANALYZE PARAMETERS"
   ]
  },
  {
   "cell_type": "code",
   "execution_count": null,
   "metadata": {},
   "outputs": [],
   "source": [
    "fixed_params.keys()"
   ]
  },
  {
   "cell_type": "code",
   "execution_count": null,
   "metadata": {},
   "outputs": [],
   "source": [
    "#column definition\n",
    "fixed_params.get('column_definition')"
   ]
  },
  {
   "cell_type": "code",
   "execution_count": null,
   "metadata": {},
   "outputs": [],
   "source": [
    "fixed_params.get('known_categorical_inputs')"
   ]
  },
  {
   "cell_type": "markdown",
   "metadata": {},
   "source": [
    "# TRAINING"
   ]
  },
  {
   "cell_type": "code",
   "execution_count": null,
   "metadata": {},
   "outputs": [],
   "source": [
    "print(\"*** Running calibration ***\")\n",
    "print(\"Params Selected:\")\n",
    "for k in params:\n",
    "    print(\"{}: {}\".format(k, params[k]))\n",
    "    \n",
    "best_loss = np.Inf\n",
    "for _ in range(1):\n",
    "    tf1.reset_default_graph()\n",
    "    with tf.Graph().as_default(), tf1.Session(config=tf_config) as sess:\n",
    "        tf1.keras.backend.set_session(sess)\n",
    "        \n",
    "        params: Dict = opt_manager.get_next_parameters()\n",
    "        model: TemporalFusionTransformer = TemporalFusionTransformer(params, use_cudnn=False)\n",
    "\n",
    "        if not os.path.exists(os.path.join(model.data_folder, 'data.npy')) and not model.training_data_cached():\n",
    "            model.cache_batched_data(train, \"train\", num_samples=train_samples)\n",
    "            model.cache_batched_data(valid, \"valid\", num_samples=valid_samples)\n",
    "            \n",
    "        sess.run(tf1.global_variables_initializer())\n",
    "        model.fit() \n",
    "        \n",
    "        val_loss: Series = model.evaluate()\n",
    "            \n",
    "        if val_loss < best_loss:\n",
    "            opt_manager.update_score(params, val_loss, model)\n",
    "            best_loss = val_loss\n",
    "        tf1.keras.backend.set_session(default_keras_session)"
   ]
  },
  {
   "cell_type": "code",
   "execution_count": null,
   "metadata": {},
   "outputs": [],
   "source": [
    "model_ckpt: str = r'C:\\Users\\Lorenzo\\PycharmProjects\\TFT\\outputs\\saved_models\\electricity\\fixed\\TemporalFusionTransformer.check'"
   ]
  },
  {
   "cell_type": "code",
   "execution_count": null,
   "metadata": {},
   "outputs": [],
   "source": [
    "folder: str = r'C:\\Users\\Lorenzo\\PycharmProjects\\TFT\\outputs\\data\\electricity\\data\\electricity'\n",
    "train_size: int = 450000"
   ]
  },
  {
   "cell_type": "code",
   "execution_count": null,
   "metadata": {},
   "outputs": [],
   "source": [
    "def traindata_gen(folder: str, train_size: int , minibatch_size: int) -> Generator:\n",
    "    data: memmap = load(os.path.join(folder, 'data.npy'), mmap_mode='r')\n",
    "    print(type(data))\n",
    "    labels: memmap = load(os.path.join(folder, 'labels.npy'), mmap_mode='r')\n",
    "    active_flags: memmap = load(os.path.join(folder, 'active_flags.npy'), mmap_mode='r')\n",
    "    train_size: Tuple = data.shape\n",
    "    for i in range(train_size[0] // minibatch_size + 1):\n",
    "        upper = min((i + 1) * minibatch_size, train_size[0])\n",
    "\n",
    "        yield data[i * minibatch_size:upper], np.concatenate([labels[i * minibatch_size:upper],\n",
    "                                                                           labels[i * minibatch_size:upper],\n",
    "                                                                           labels[i * minibatch_size:upper]], axis=-1), \\\n",
    "                      active_flags[i * minibatch_size:upper]"
   ]
  },
  {
   "cell_type": "code",
   "execution_count": null,
   "metadata": {},
   "outputs": [],
   "source": [
    "for data, labels, active_flags in traindata_gen(folder, train_size, 128):\n",
    "    print(data.shape, labels.shape, active_flags.shape)"
   ]
  },
  {
   "cell_type": "code",
   "execution_count": null,
   "metadata": {},
   "outputs": [],
   "source": []
  }
 ],
 "metadata": {
  "kernelspec": {
   "display_name": "tft",
   "language": "python",
   "name": "tft"
  },
  "language_info": {
   "codemirror_mode": {
    "name": "ipython",
    "version": 3
   },
   "file_extension": ".py",
   "mimetype": "text/x-python",
   "name": "python",
   "nbconvert_exporter": "python",
   "pygments_lexer": "ipython3",
   "version": "3.7.9"
  }
 },
 "nbformat": 4,
 "nbformat_minor": 4
}
